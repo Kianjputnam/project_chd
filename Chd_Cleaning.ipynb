{
  "nbformat": 4,
  "nbformat_minor": 0,
  "metadata": {
    "colab": {
      "provenance": [],
      "authorship_tag": "ABX9TyPk0XNwPNgBTCCzBHrnzeU6",
      "include_colab_link": true
    },
    "kernelspec": {
      "name": "python3",
      "display_name": "Python 3"
    },
    "language_info": {
      "name": "python"
    }
  },
  "cells": [
    {
      "cell_type": "markdown",
      "metadata": {
        "id": "view-in-github",
        "colab_type": "text"
      },
      "source": [
        "<a href=\"https://colab.research.google.com/github/Kianjputnam/project_chd/blob/main/Chd_Cleaning.ipynb\" target=\"_parent\"><img src=\"https://colab.research.google.com/assets/colab-badge.svg\" alt=\"Open In Colab\"/></a>"
      ]
    },
    {
      "cell_type": "markdown",
      "source": [
        "##**Import libraries**\n",
        "******"
      ],
      "metadata": {
        "id": "SRV8JYUX5ivs"
      }
    },
    {
      "cell_type": "code",
      "source": [
        "import pandas as pd\n",
        "import numpy as np"
      ],
      "metadata": {
        "id": "oHABpsOv4vYf"
      },
      "execution_count": 2,
      "outputs": []
    },
    {
      "cell_type": "markdown",
      "source": [
        "##**Load and inspect data**\n",
        "*********"
      ],
      "metadata": {
        "id": "TCLAvJzE6Dax"
      }
    },
    {
      "cell_type": "code",
      "execution_count": 1,
      "metadata": {
        "colab": {
          "base_uri": "https://localhost:8080/"
        },
        "id": "6uyOC6ct4fpy",
        "outputId": "6d11df93-0e58-4b03-9ef6-f341d2cde08f"
      },
      "outputs": [
        {
          "output_type": "stream",
          "name": "stdout",
          "text": [
            "Cloning into 'project_chd'...\n",
            "warning: redirecting to https://github.com/Kianjputnam/project_chd.git/\n",
            "remote: Enumerating objects: 13, done.\u001b[K\n",
            "remote: Counting objects: 100% (11/11), done.\u001b[K\n",
            "remote: Compressing objects: 100% (8/8), done.\u001b[K\n",
            "remote: Total 13 (delta 3), reused 10 (delta 3), pack-reused 2\u001b[K\n",
            "Receiving objects: 100% (13/13), 638.57 KiB | 4.95 MiB/s, done.\n",
            "Resolving deltas: 100% (3/3), done.\n"
          ]
        }
      ],
      "source": [
        "! git clone https://www.github.com/Kianjputnam/project_chd"
      ]
    },
    {
      "cell_type": "code",
      "source": [
        "chd_test = pd.read_csv(\"./project_chd/fhs_test.csv\")"
      ],
      "metadata": {
        "id": "Yblm0m1J41Lh"
      },
      "execution_count": 5,
      "outputs": []
    },
    {
      "cell_type": "code",
      "source": [
        "chd_train = pd.read_csv(\"./project_chd/fhs_train.csv\")"
      ],
      "metadata": {
        "id": "Tfv1NMmA48QO"
      },
      "execution_count": 7,
      "outputs": []
    },
    {
      "cell_type": "markdown",
      "source": [
        "##**Test cleaning**\n",
        "**********"
      ],
      "metadata": {
        "id": "kFyBzy8p6Y7B"
      }
    },
    {
      "cell_type": "markdown",
      "source": [
        "Given that predictive models generally don't do well with na values, I made the following decisions for variables\n",
        "\n",
        "* Categorical variables: dropped na values and mapped encodings to proper categorical values in new columns. This allows for the models to run with the one-hot encodings and for visuals to be done with categorical values\n",
        "* Numerical variables: converted na values into the median values\n",
        "\n",
        "**In categorical variables which the na's were dropped, this only removed 3% of the testing data"
      ],
      "metadata": {
        "id": "kdGXXZOZRssj"
      }
    },
    {
      "cell_type": "markdown",
      "source": [
        "###Exploration\n",
        "****************"
      ],
      "metadata": {
        "id": "5Ez7_Z5I7Odj"
      }
    },
    {
      "cell_type": "code",
      "source": [
        "chd_test.head()"
      ],
      "metadata": {
        "colab": {
          "base_uri": "https://localhost:8080/",
          "height": 243
        },
        "id": "Y2-6rw1_6lqw",
        "outputId": "54786cb0-701d-4071-aaaf-67bd2f3af913"
      },
      "execution_count": 6,
      "outputs": [
        {
          "output_type": "execute_result",
          "data": {
            "text/plain": [
              "   Unnamed: 0  sex  age  education  currentSmoker  cigsPerDay  BPMeds  \\\n",
              "0         674    0   58        1.0              1        20.0     0.0   \n",
              "1        4070    0   51        3.0              0         0.0     0.0   \n",
              "2        3150    0   44        2.0              1         9.0     0.0   \n",
              "3        1695    0   40        2.0              1        20.0     0.0   \n",
              "4        2692    1   58        2.0              1        20.0     0.0   \n",
              "\n",
              "   prevalentStroke  prevalentHyp  diabetes  totChol  sysBP  diaBP    BMI  \\\n",
              "0                0             0         0      NaN  126.0   77.0  30.08   \n",
              "1                0             0         0    264.0  135.0   83.0  26.68   \n",
              "2                0             1         0      NaN  147.5   96.0  30.57   \n",
              "3                0             0         0    271.0  138.5   88.0  27.24   \n",
              "4                0             0         0    207.0  110.0   80.0  23.55   \n",
              "\n",
              "   heartRate  glucose  TenYearCHD  \n",
              "0       78.0      NaN           0  \n",
              "1       60.0     74.0           0  \n",
              "2       78.0      NaN           1  \n",
              "3       80.0      NaN           1  \n",
              "4       78.0     78.0           0  "
            ],
            "text/html": [
              "\n",
              "  <div id=\"df-b820d0c6-22a2-4cd2-b233-f7fada8b1cf4\" class=\"colab-df-container\">\n",
              "    <div>\n",
              "<style scoped>\n",
              "    .dataframe tbody tr th:only-of-type {\n",
              "        vertical-align: middle;\n",
              "    }\n",
              "\n",
              "    .dataframe tbody tr th {\n",
              "        vertical-align: top;\n",
              "    }\n",
              "\n",
              "    .dataframe thead th {\n",
              "        text-align: right;\n",
              "    }\n",
              "</style>\n",
              "<table border=\"1\" class=\"dataframe\">\n",
              "  <thead>\n",
              "    <tr style=\"text-align: right;\">\n",
              "      <th></th>\n",
              "      <th>Unnamed: 0</th>\n",
              "      <th>sex</th>\n",
              "      <th>age</th>\n",
              "      <th>education</th>\n",
              "      <th>currentSmoker</th>\n",
              "      <th>cigsPerDay</th>\n",
              "      <th>BPMeds</th>\n",
              "      <th>prevalentStroke</th>\n",
              "      <th>prevalentHyp</th>\n",
              "      <th>diabetes</th>\n",
              "      <th>totChol</th>\n",
              "      <th>sysBP</th>\n",
              "      <th>diaBP</th>\n",
              "      <th>BMI</th>\n",
              "      <th>heartRate</th>\n",
              "      <th>glucose</th>\n",
              "      <th>TenYearCHD</th>\n",
              "    </tr>\n",
              "  </thead>\n",
              "  <tbody>\n",
              "    <tr>\n",
              "      <th>0</th>\n",
              "      <td>674</td>\n",
              "      <td>0</td>\n",
              "      <td>58</td>\n",
              "      <td>1.0</td>\n",
              "      <td>1</td>\n",
              "      <td>20.0</td>\n",
              "      <td>0.0</td>\n",
              "      <td>0</td>\n",
              "      <td>0</td>\n",
              "      <td>0</td>\n",
              "      <td>NaN</td>\n",
              "      <td>126.0</td>\n",
              "      <td>77.0</td>\n",
              "      <td>30.08</td>\n",
              "      <td>78.0</td>\n",
              "      <td>NaN</td>\n",
              "      <td>0</td>\n",
              "    </tr>\n",
              "    <tr>\n",
              "      <th>1</th>\n",
              "      <td>4070</td>\n",
              "      <td>0</td>\n",
              "      <td>51</td>\n",
              "      <td>3.0</td>\n",
              "      <td>0</td>\n",
              "      <td>0.0</td>\n",
              "      <td>0.0</td>\n",
              "      <td>0</td>\n",
              "      <td>0</td>\n",
              "      <td>0</td>\n",
              "      <td>264.0</td>\n",
              "      <td>135.0</td>\n",
              "      <td>83.0</td>\n",
              "      <td>26.68</td>\n",
              "      <td>60.0</td>\n",
              "      <td>74.0</td>\n",
              "      <td>0</td>\n",
              "    </tr>\n",
              "    <tr>\n",
              "      <th>2</th>\n",
              "      <td>3150</td>\n",
              "      <td>0</td>\n",
              "      <td>44</td>\n",
              "      <td>2.0</td>\n",
              "      <td>1</td>\n",
              "      <td>9.0</td>\n",
              "      <td>0.0</td>\n",
              "      <td>0</td>\n",
              "      <td>1</td>\n",
              "      <td>0</td>\n",
              "      <td>NaN</td>\n",
              "      <td>147.5</td>\n",
              "      <td>96.0</td>\n",
              "      <td>30.57</td>\n",
              "      <td>78.0</td>\n",
              "      <td>NaN</td>\n",
              "      <td>1</td>\n",
              "    </tr>\n",
              "    <tr>\n",
              "      <th>3</th>\n",
              "      <td>1695</td>\n",
              "      <td>0</td>\n",
              "      <td>40</td>\n",
              "      <td>2.0</td>\n",
              "      <td>1</td>\n",
              "      <td>20.0</td>\n",
              "      <td>0.0</td>\n",
              "      <td>0</td>\n",
              "      <td>0</td>\n",
              "      <td>0</td>\n",
              "      <td>271.0</td>\n",
              "      <td>138.5</td>\n",
              "      <td>88.0</td>\n",
              "      <td>27.24</td>\n",
              "      <td>80.0</td>\n",
              "      <td>NaN</td>\n",
              "      <td>1</td>\n",
              "    </tr>\n",
              "    <tr>\n",
              "      <th>4</th>\n",
              "      <td>2692</td>\n",
              "      <td>1</td>\n",
              "      <td>58</td>\n",
              "      <td>2.0</td>\n",
              "      <td>1</td>\n",
              "      <td>20.0</td>\n",
              "      <td>0.0</td>\n",
              "      <td>0</td>\n",
              "      <td>0</td>\n",
              "      <td>0</td>\n",
              "      <td>207.0</td>\n",
              "      <td>110.0</td>\n",
              "      <td>80.0</td>\n",
              "      <td>23.55</td>\n",
              "      <td>78.0</td>\n",
              "      <td>78.0</td>\n",
              "      <td>0</td>\n",
              "    </tr>\n",
              "  </tbody>\n",
              "</table>\n",
              "</div>\n",
              "    <div class=\"colab-df-buttons\">\n",
              "\n",
              "  <div class=\"colab-df-container\">\n",
              "    <button class=\"colab-df-convert\" onclick=\"convertToInteractive('df-b820d0c6-22a2-4cd2-b233-f7fada8b1cf4')\"\n",
              "            title=\"Convert this dataframe to an interactive table.\"\n",
              "            style=\"display:none;\">\n",
              "\n",
              "  <svg xmlns=\"http://www.w3.org/2000/svg\" height=\"24px\" viewBox=\"0 -960 960 960\">\n",
              "    <path d=\"M120-120v-720h720v720H120Zm60-500h600v-160H180v160Zm220 220h160v-160H400v160Zm0 220h160v-160H400v160ZM180-400h160v-160H180v160Zm440 0h160v-160H620v160ZM180-180h160v-160H180v160Zm440 0h160v-160H620v160Z\"/>\n",
              "  </svg>\n",
              "    </button>\n",
              "\n",
              "  <style>\n",
              "    .colab-df-container {\n",
              "      display:flex;\n",
              "      gap: 12px;\n",
              "    }\n",
              "\n",
              "    .colab-df-convert {\n",
              "      background-color: #E8F0FE;\n",
              "      border: none;\n",
              "      border-radius: 50%;\n",
              "      cursor: pointer;\n",
              "      display: none;\n",
              "      fill: #1967D2;\n",
              "      height: 32px;\n",
              "      padding: 0 0 0 0;\n",
              "      width: 32px;\n",
              "    }\n",
              "\n",
              "    .colab-df-convert:hover {\n",
              "      background-color: #E2EBFA;\n",
              "      box-shadow: 0px 1px 2px rgba(60, 64, 67, 0.3), 0px 1px 3px 1px rgba(60, 64, 67, 0.15);\n",
              "      fill: #174EA6;\n",
              "    }\n",
              "\n",
              "    .colab-df-buttons div {\n",
              "      margin-bottom: 4px;\n",
              "    }\n",
              "\n",
              "    [theme=dark] .colab-df-convert {\n",
              "      background-color: #3B4455;\n",
              "      fill: #D2E3FC;\n",
              "    }\n",
              "\n",
              "    [theme=dark] .colab-df-convert:hover {\n",
              "      background-color: #434B5C;\n",
              "      box-shadow: 0px 1px 3px 1px rgba(0, 0, 0, 0.15);\n",
              "      filter: drop-shadow(0px 1px 2px rgba(0, 0, 0, 0.3));\n",
              "      fill: #FFFFFF;\n",
              "    }\n",
              "  </style>\n",
              "\n",
              "    <script>\n",
              "      const buttonEl =\n",
              "        document.querySelector('#df-b820d0c6-22a2-4cd2-b233-f7fada8b1cf4 button.colab-df-convert');\n",
              "      buttonEl.style.display =\n",
              "        google.colab.kernel.accessAllowed ? 'block' : 'none';\n",
              "\n",
              "      async function convertToInteractive(key) {\n",
              "        const element = document.querySelector('#df-b820d0c6-22a2-4cd2-b233-f7fada8b1cf4');\n",
              "        const dataTable =\n",
              "          await google.colab.kernel.invokeFunction('convertToInteractive',\n",
              "                                                    [key], {});\n",
              "        if (!dataTable) return;\n",
              "\n",
              "        const docLinkHtml = 'Like what you see? Visit the ' +\n",
              "          '<a target=\"_blank\" href=https://colab.research.google.com/notebooks/data_table.ipynb>data table notebook</a>'\n",
              "          + ' to learn more about interactive tables.';\n",
              "        element.innerHTML = '';\n",
              "        dataTable['output_type'] = 'display_data';\n",
              "        await google.colab.output.renderOutput(dataTable, element);\n",
              "        const docLink = document.createElement('div');\n",
              "        docLink.innerHTML = docLinkHtml;\n",
              "        element.appendChild(docLink);\n",
              "      }\n",
              "    </script>\n",
              "  </div>\n",
              "\n",
              "\n",
              "<div id=\"df-77dd301f-f101-4f4b-a9a4-8d9bd73cf388\">\n",
              "  <button class=\"colab-df-quickchart\" onclick=\"quickchart('df-77dd301f-f101-4f4b-a9a4-8d9bd73cf388')\"\n",
              "            title=\"Suggest charts\"\n",
              "            style=\"display:none;\">\n",
              "\n",
              "<svg xmlns=\"http://www.w3.org/2000/svg\" height=\"24px\"viewBox=\"0 0 24 24\"\n",
              "     width=\"24px\">\n",
              "    <g>\n",
              "        <path d=\"M19 3H5c-1.1 0-2 .9-2 2v14c0 1.1.9 2 2 2h14c1.1 0 2-.9 2-2V5c0-1.1-.9-2-2-2zM9 17H7v-7h2v7zm4 0h-2V7h2v10zm4 0h-2v-4h2v4z\"/>\n",
              "    </g>\n",
              "</svg>\n",
              "  </button>\n",
              "\n",
              "<style>\n",
              "  .colab-df-quickchart {\n",
              "      --bg-color: #E8F0FE;\n",
              "      --fill-color: #1967D2;\n",
              "      --hover-bg-color: #E2EBFA;\n",
              "      --hover-fill-color: #174EA6;\n",
              "      --disabled-fill-color: #AAA;\n",
              "      --disabled-bg-color: #DDD;\n",
              "  }\n",
              "\n",
              "  [theme=dark] .colab-df-quickchart {\n",
              "      --bg-color: #3B4455;\n",
              "      --fill-color: #D2E3FC;\n",
              "      --hover-bg-color: #434B5C;\n",
              "      --hover-fill-color: #FFFFFF;\n",
              "      --disabled-bg-color: #3B4455;\n",
              "      --disabled-fill-color: #666;\n",
              "  }\n",
              "\n",
              "  .colab-df-quickchart {\n",
              "    background-color: var(--bg-color);\n",
              "    border: none;\n",
              "    border-radius: 50%;\n",
              "    cursor: pointer;\n",
              "    display: none;\n",
              "    fill: var(--fill-color);\n",
              "    height: 32px;\n",
              "    padding: 0;\n",
              "    width: 32px;\n",
              "  }\n",
              "\n",
              "  .colab-df-quickchart:hover {\n",
              "    background-color: var(--hover-bg-color);\n",
              "    box-shadow: 0 1px 2px rgba(60, 64, 67, 0.3), 0 1px 3px 1px rgba(60, 64, 67, 0.15);\n",
              "    fill: var(--button-hover-fill-color);\n",
              "  }\n",
              "\n",
              "  .colab-df-quickchart-complete:disabled,\n",
              "  .colab-df-quickchart-complete:disabled:hover {\n",
              "    background-color: var(--disabled-bg-color);\n",
              "    fill: var(--disabled-fill-color);\n",
              "    box-shadow: none;\n",
              "  }\n",
              "\n",
              "  .colab-df-spinner {\n",
              "    border: 2px solid var(--fill-color);\n",
              "    border-color: transparent;\n",
              "    border-bottom-color: var(--fill-color);\n",
              "    animation:\n",
              "      spin 1s steps(1) infinite;\n",
              "  }\n",
              "\n",
              "  @keyframes spin {\n",
              "    0% {\n",
              "      border-color: transparent;\n",
              "      border-bottom-color: var(--fill-color);\n",
              "      border-left-color: var(--fill-color);\n",
              "    }\n",
              "    20% {\n",
              "      border-color: transparent;\n",
              "      border-left-color: var(--fill-color);\n",
              "      border-top-color: var(--fill-color);\n",
              "    }\n",
              "    30% {\n",
              "      border-color: transparent;\n",
              "      border-left-color: var(--fill-color);\n",
              "      border-top-color: var(--fill-color);\n",
              "      border-right-color: var(--fill-color);\n",
              "    }\n",
              "    40% {\n",
              "      border-color: transparent;\n",
              "      border-right-color: var(--fill-color);\n",
              "      border-top-color: var(--fill-color);\n",
              "    }\n",
              "    60% {\n",
              "      border-color: transparent;\n",
              "      border-right-color: var(--fill-color);\n",
              "    }\n",
              "    80% {\n",
              "      border-color: transparent;\n",
              "      border-right-color: var(--fill-color);\n",
              "      border-bottom-color: var(--fill-color);\n",
              "    }\n",
              "    90% {\n",
              "      border-color: transparent;\n",
              "      border-bottom-color: var(--fill-color);\n",
              "    }\n",
              "  }\n",
              "</style>\n",
              "\n",
              "  <script>\n",
              "    async function quickchart(key) {\n",
              "      const quickchartButtonEl =\n",
              "        document.querySelector('#' + key + ' button');\n",
              "      quickchartButtonEl.disabled = true;  // To prevent multiple clicks.\n",
              "      quickchartButtonEl.classList.add('colab-df-spinner');\n",
              "      try {\n",
              "        const charts = await google.colab.kernel.invokeFunction(\n",
              "            'suggestCharts', [key], {});\n",
              "      } catch (error) {\n",
              "        console.error('Error during call to suggestCharts:', error);\n",
              "      }\n",
              "      quickchartButtonEl.classList.remove('colab-df-spinner');\n",
              "      quickchartButtonEl.classList.add('colab-df-quickchart-complete');\n",
              "    }\n",
              "    (() => {\n",
              "      let quickchartButtonEl =\n",
              "        document.querySelector('#df-77dd301f-f101-4f4b-a9a4-8d9bd73cf388 button');\n",
              "      quickchartButtonEl.style.display =\n",
              "        google.colab.kernel.accessAllowed ? 'block' : 'none';\n",
              "    })();\n",
              "  </script>\n",
              "</div>\n",
              "    </div>\n",
              "  </div>\n"
            ],
            "application/vnd.google.colaboratory.intrinsic+json": {
              "type": "dataframe",
              "variable_name": "chd_test",
              "summary": "{\n  \"name\": \"chd_test\",\n  \"rows\": 1060,\n  \"fields\": [\n    {\n      \"column\": \"Unnamed: 0\",\n      \"properties\": {\n        \"dtype\": \"number\",\n        \"std\": 1201,\n        \"min\": 4,\n        \"max\": 4235,\n        \"num_unique_values\": 1060,\n        \"samples\": [\n          2821,\n          4008,\n          3085\n        ],\n        \"semantic_type\": \"\",\n        \"description\": \"\"\n      }\n    },\n    {\n      \"column\": \"sex\",\n      \"properties\": {\n        \"dtype\": \"number\",\n        \"std\": 0,\n        \"min\": 0,\n        \"max\": 1,\n        \"num_unique_values\": 2,\n        \"samples\": [\n          1,\n          0\n        ],\n        \"semantic_type\": \"\",\n        \"description\": \"\"\n      }\n    },\n    {\n      \"column\": \"age\",\n      \"properties\": {\n        \"dtype\": \"number\",\n        \"std\": 8,\n        \"min\": 34,\n        \"max\": 69,\n        \"num_unique_values\": 36,\n        \"samples\": [\n          69,\n          47\n        ],\n        \"semantic_type\": \"\",\n        \"description\": \"\"\n      }\n    },\n    {\n      \"column\": \"education\",\n      \"properties\": {\n        \"dtype\": \"number\",\n        \"std\": 1.042773664643174,\n        \"min\": 1.0,\n        \"max\": 4.0,\n        \"num_unique_values\": 4,\n        \"samples\": [\n          3.0,\n          4.0\n        ],\n        \"semantic_type\": \"\",\n        \"description\": \"\"\n      }\n    },\n    {\n      \"column\": \"currentSmoker\",\n      \"properties\": {\n        \"dtype\": \"number\",\n        \"std\": 0,\n        \"min\": 0,\n        \"max\": 1,\n        \"num_unique_values\": 2,\n        \"samples\": [\n          0,\n          1\n        ],\n        \"semantic_type\": \"\",\n        \"description\": \"\"\n      }\n    },\n    {\n      \"column\": \"cigsPerDay\",\n      \"properties\": {\n        \"dtype\": \"number\",\n        \"std\": 11.650215278273134,\n        \"min\": 0.0,\n        \"max\": 60.0,\n        \"num_unique_values\": 27,\n        \"samples\": [\n          1.0,\n          43.0\n        ],\n        \"semantic_type\": \"\",\n        \"description\": \"\"\n      }\n    },\n    {\n      \"column\": \"BPMeds\",\n      \"properties\": {\n        \"dtype\": \"number\",\n        \"std\": 0.169821692953555,\n        \"min\": 0.0,\n        \"max\": 1.0,\n        \"num_unique_values\": 2,\n        \"samples\": [\n          1.0,\n          0.0\n        ],\n        \"semantic_type\": \"\",\n        \"description\": \"\"\n      }\n    },\n    {\n      \"column\": \"prevalentStroke\",\n      \"properties\": {\n        \"dtype\": \"number\",\n        \"std\": 0,\n        \"min\": 0,\n        \"max\": 1,\n        \"num_unique_values\": 2,\n        \"samples\": [\n          1,\n          0\n        ],\n        \"semantic_type\": \"\",\n        \"description\": \"\"\n      }\n    },\n    {\n      \"column\": \"prevalentHyp\",\n      \"properties\": {\n        \"dtype\": \"number\",\n        \"std\": 0,\n        \"min\": 0,\n        \"max\": 1,\n        \"num_unique_values\": 2,\n        \"samples\": [\n          1,\n          0\n        ],\n        \"semantic_type\": \"\",\n        \"description\": \"\"\n      }\n    },\n    {\n      \"column\": \"diabetes\",\n      \"properties\": {\n        \"dtype\": \"number\",\n        \"std\": 0,\n        \"min\": 0,\n        \"max\": 1,\n        \"num_unique_values\": 2,\n        \"samples\": [\n          1,\n          0\n        ],\n        \"semantic_type\": \"\",\n        \"description\": \"\"\n      }\n    },\n    {\n      \"column\": \"totChol\",\n      \"properties\": {\n        \"dtype\": \"number\",\n        \"std\": 43.83523296407875,\n        \"min\": 124.0,\n        \"max\": 453.0,\n        \"num_unique_values\": 196,\n        \"samples\": [\n          135.0,\n          195.0\n        ],\n        \"semantic_type\": \"\",\n        \"description\": \"\"\n      }\n    },\n    {\n      \"column\": \"sysBP\",\n      \"properties\": {\n        \"dtype\": \"number\",\n        \"std\": 20.74399096663064,\n        \"min\": 92.5,\n        \"max\": 215.0,\n        \"num_unique_values\": 167,\n        \"samples\": [\n          166.0,\n          124.5\n        ],\n        \"semantic_type\": \"\",\n        \"description\": \"\"\n      }\n    },\n    {\n      \"column\": \"diaBP\",\n      \"properties\": {\n        \"dtype\": \"number\",\n        \"std\": 11.58941470102808,\n        \"min\": 48.0,\n        \"max\": 140.0,\n        \"num_unique_values\": 117,\n        \"samples\": [\n          66.5,\n          80.0\n        ],\n        \"semantic_type\": \"\",\n        \"description\": \"\"\n      }\n    },\n    {\n      \"column\": \"BMI\",\n      \"properties\": {\n        \"dtype\": \"number\",\n        \"std\": 3.914417613932532,\n        \"min\": 15.96,\n        \"max\": 45.79,\n        \"num_unique_values\": 666,\n        \"samples\": [\n          24.9,\n          24.8\n        ],\n        \"semantic_type\": \"\",\n        \"description\": \"\"\n      }\n    },\n    {\n      \"column\": \"heartRate\",\n      \"properties\": {\n        \"dtype\": \"number\",\n        \"std\": 11.95315325767632,\n        \"min\": 45.0,\n        \"max\": 143.0,\n        \"num_unique_values\": 60,\n        \"samples\": [\n          78.0,\n          70.0\n        ],\n        \"semantic_type\": \"\",\n        \"description\": \"\"\n      }\n    },\n    {\n      \"column\": \"glucose\",\n      \"properties\": {\n        \"dtype\": \"number\",\n        \"std\": 24.931659322505936,\n        \"min\": 44.0,\n        \"max\": 394.0,\n        \"num_unique_values\": 90,\n        \"samples\": [\n          177.0,\n          143.0\n        ],\n        \"semantic_type\": \"\",\n        \"description\": \"\"\n      }\n    },\n    {\n      \"column\": \"TenYearCHD\",\n      \"properties\": {\n        \"dtype\": \"number\",\n        \"std\": 0,\n        \"min\": 0,\n        \"max\": 1,\n        \"num_unique_values\": 2,\n        \"samples\": [\n          1,\n          0\n        ],\n        \"semantic_type\": \"\",\n        \"description\": \"\"\n      }\n    }\n  ]\n}"
            }
          },
          "metadata": {},
          "execution_count": 6
        }
      ]
    },
    {
      "cell_type": "code",
      "source": [
        "print(chd_test.shape)\n",
        "print(chd_test.dtypes)"
      ],
      "metadata": {
        "colab": {
          "base_uri": "https://localhost:8080/"
        },
        "id": "SxOnFaQx6wTC",
        "outputId": "ab3870f9-f5e7-4701-f7e9-c4af3eae35f6"
      },
      "execution_count": 10,
      "outputs": [
        {
          "output_type": "stream",
          "name": "stdout",
          "text": [
            "(1060, 17)\n",
            "Unnamed: 0           int64\n",
            "sex                  int64\n",
            "age                  int64\n",
            "education          float64\n",
            "currentSmoker        int64\n",
            "cigsPerDay         float64\n",
            "BPMeds             float64\n",
            "prevalentStroke      int64\n",
            "prevalentHyp         int64\n",
            "diabetes             int64\n",
            "totChol            float64\n",
            "sysBP              float64\n",
            "diaBP              float64\n",
            "BMI                float64\n",
            "heartRate          float64\n",
            "glucose            float64\n",
            "TenYearCHD           int64\n",
            "dtype: object\n"
          ]
        }
      ]
    },
    {
      "cell_type": "markdown",
      "source": [
        "###Cleaning\n",
        "**********"
      ],
      "metadata": {
        "id": "Rgxd2RxC8Ad3"
      }
    },
    {
      "cell_type": "markdown",
      "source": [
        "#####sex\n",
        "*******"
      ],
      "metadata": {
        "id": "h32qQLWD8qfL"
      }
    },
    {
      "cell_type": "markdown",
      "source": [
        "decision: no na's to drop, mapped the one-hot encodings to categories"
      ],
      "metadata": {
        "id": "KJ2Rd7HuG3FA"
      }
    },
    {
      "cell_type": "code",
      "source": [
        "chd_test['sex'].value_counts()"
      ],
      "metadata": {
        "colab": {
          "base_uri": "https://localhost:8080/"
        },
        "id": "Yqsj32d_94fQ",
        "outputId": "14880530-92d7-48f7-a2b3-03c351de7b59"
      },
      "execution_count": 57,
      "outputs": [
        {
          "output_type": "execute_result",
          "data": {
            "text/plain": [
              "sex\n",
              "0    617\n",
              "1    443\n",
              "Name: count, dtype: int64"
            ]
          },
          "metadata": {},
          "execution_count": 57
        }
      ]
    },
    {
      "cell_type": "code",
      "source": [
        "chd_test['sex'].isna().sum()"
      ],
      "metadata": {
        "colab": {
          "base_uri": "https://localhost:8080/"
        },
        "id": "3Ey1CPqyGuyV",
        "outputId": "a6403d93-b694-4a80-904c-f49fc9f0f510"
      },
      "execution_count": 58,
      "outputs": [
        {
          "output_type": "execute_result",
          "data": {
            "text/plain": [
              "0"
            ]
          },
          "metadata": {},
          "execution_count": 58
        }
      ]
    },
    {
      "cell_type": "code",
      "source": [
        "# Map numerical values to categories\n",
        "sex_map = {0: 'female', 1: 'male'}\n",
        "\n",
        "# Create a new column 'sex_category' based on the mapping\n",
        "chd_test['sex_category'] = chd_test['sex'].map(sex_map)"
      ],
      "metadata": {
        "id": "SqQ2DlUAD3ir"
      },
      "execution_count": 95,
      "outputs": []
    },
    {
      "cell_type": "markdown",
      "source": [
        "#####age\n",
        "*********"
      ],
      "metadata": {
        "id": "wMSxLwWN8srj"
      }
    },
    {
      "cell_type": "markdown",
      "source": [
        "decision: no na's to drop, no changes to be made"
      ],
      "metadata": {
        "id": "B07-VbjRHanq"
      }
    },
    {
      "cell_type": "code",
      "source": [
        "chd_test['age'].value_counts()"
      ],
      "metadata": {
        "colab": {
          "base_uri": "https://localhost:8080/"
        },
        "id": "7r3auz9N95CV",
        "outputId": "b485c5ae-923d-4fc4-a3da-559f6e7ef598"
      },
      "execution_count": 17,
      "outputs": [
        {
          "output_type": "execute_result",
          "data": {
            "text/plain": [
              "age\n",
              "40    54\n",
              "44    50\n",
              "46    45\n",
              "51    45\n",
              "39    45\n",
              "43    43\n",
              "42    41\n",
              "50    40\n",
              "57    39\n",
              "41    38\n",
              "45    37\n",
              "52    36\n",
              "53    35\n",
              "47    34\n",
              "48    34\n",
              "59    33\n",
              "55    32\n",
              "49    32\n",
              "38    32\n",
              "56    30\n",
              "37    29\n",
              "54    29\n",
              "64    27\n",
              "58    26\n",
              "63    25\n",
              "62    24\n",
              "36    24\n",
              "61    23\n",
              "60    21\n",
              "67    14\n",
              "35    12\n",
              "66     9\n",
              "68     8\n",
              "65     7\n",
              "34     4\n",
              "69     3\n",
              "Name: count, dtype: int64"
            ]
          },
          "metadata": {},
          "execution_count": 17
        }
      ]
    },
    {
      "cell_type": "code",
      "source": [
        "chd_test['age'].isna().sum()"
      ],
      "metadata": {
        "colab": {
          "base_uri": "https://localhost:8080/"
        },
        "id": "VCGOL0nOHWcd",
        "outputId": "10042bcf-02df-4057-b190-ee3cd67d3fdc"
      },
      "execution_count": 60,
      "outputs": [
        {
          "output_type": "execute_result",
          "data": {
            "text/plain": [
              "0"
            ]
          },
          "metadata": {},
          "execution_count": 60
        }
      ]
    },
    {
      "cell_type": "markdown",
      "source": [
        "#####education\n",
        "**********"
      ],
      "metadata": {
        "id": "C0WOMOOV8vXm"
      }
    },
    {
      "cell_type": "markdown",
      "source": [
        "Decision: drop na's, mapped the one-hot encodings to categories"
      ],
      "metadata": {
        "id": "isJMczl-Krzj"
      }
    },
    {
      "cell_type": "code",
      "source": [
        "chd_test['education'].value_counts()"
      ],
      "metadata": {
        "colab": {
          "base_uri": "https://localhost:8080/"
        },
        "id": "Y0MUsNt_95kI",
        "outputId": "ed2dbae5-2128-4aee-d951-fdca4c80ae0f"
      },
      "execution_count": 18,
      "outputs": [
        {
          "output_type": "execute_result",
          "data": {
            "text/plain": [
              "education\n",
              "1.0    410\n",
              "2.0    304\n",
              "3.0    194\n",
              "4.0    132\n",
              "Name: count, dtype: int64"
            ]
          },
          "metadata": {},
          "execution_count": 18
        }
      ]
    },
    {
      "cell_type": "code",
      "source": [
        "chd_test['education'].isna().sum()"
      ],
      "metadata": {
        "colab": {
          "base_uri": "https://localhost:8080/"
        },
        "id": "wgnlvRpiIlvR",
        "outputId": "2e28e0ab-2b33-4caf-f7d7-523f3a6f06e3"
      },
      "execution_count": 62,
      "outputs": [
        {
          "output_type": "execute_result",
          "data": {
            "text/plain": [
              "20"
            ]
          },
          "metadata": {},
          "execution_count": 62
        }
      ]
    },
    {
      "cell_type": "code",
      "source": [
        "chd_test.dropna(subset=['education'], inplace=True)"
      ],
      "metadata": {
        "id": "CajY1z85L2Ue"
      },
      "execution_count": 96,
      "outputs": []
    },
    {
      "cell_type": "code",
      "source": [
        "# Map numerical values to categories\n",
        "education_map = {1: 'some HS', 2: 'HS/GED', 3: 'some college/vocation', 4: 'college'}\n",
        "\n",
        "# Create a new column based on the mapping\n",
        "chd_test['edu_category'] = chd_test['education'].map(education_map)"
      ],
      "metadata": {
        "id": "Z1aEI4GoL2nv"
      },
      "execution_count": 99,
      "outputs": []
    },
    {
      "cell_type": "markdown",
      "source": [
        "#####currentSmoker\n",
        "**********"
      ],
      "metadata": {
        "id": "R250dU0Q88rv"
      }
    },
    {
      "cell_type": "markdown",
      "source": [
        "Decision: no na's, mapped one-hot encodings to categorical"
      ],
      "metadata": {
        "id": "_u3DrO-SNT08"
      }
    },
    {
      "cell_type": "code",
      "source": [
        "chd_test['currentSmoker'].value_counts()"
      ],
      "metadata": {
        "colab": {
          "base_uri": "https://localhost:8080/"
        },
        "id": "U9slqdD_96G5",
        "outputId": "71ad2963-d677-4968-cb2b-b4edbe45d5bd"
      },
      "execution_count": 19,
      "outputs": [
        {
          "output_type": "execute_result",
          "data": {
            "text/plain": [
              "currentSmoker\n",
              "1    534\n",
              "0    526\n",
              "Name: count, dtype: int64"
            ]
          },
          "metadata": {},
          "execution_count": 19
        }
      ]
    },
    {
      "cell_type": "code",
      "source": [
        "chd_test['currentSmoker'].isna().sum()"
      ],
      "metadata": {
        "colab": {
          "base_uri": "https://localhost:8080/"
        },
        "id": "Rx6-DCojItgU",
        "outputId": "7b34ba7d-553d-4f40-93f1-27c5ca2023bd"
      },
      "execution_count": 63,
      "outputs": [
        {
          "output_type": "execute_result",
          "data": {
            "text/plain": [
              "0"
            ]
          },
          "metadata": {},
          "execution_count": 63
        }
      ]
    },
    {
      "cell_type": "code",
      "source": [
        "# Map numerical values to categories\n",
        "smoker_map = {0: 'no smoking', 1: 'smoking'}\n",
        "\n",
        "# Create a new column based on the mapping\n",
        "chd_test['smoker_category'] = chd_test['currentSmoker'].map(smoker_map)"
      ],
      "metadata": {
        "id": "Sl9Fh-2xMxq7"
      },
      "execution_count": 100,
      "outputs": []
    },
    {
      "cell_type": "markdown",
      "source": [
        "#####cigsPerDay\n",
        "**************"
      ],
      "metadata": {
        "id": "p0kfUc3O88pX"
      }
    },
    {
      "cell_type": "markdown",
      "source": [
        "Decision: filled na's with the median score"
      ],
      "metadata": {
        "id": "vvRVbiWTN3Fb"
      }
    },
    {
      "cell_type": "code",
      "source": [
        "chd_test['cigsPerDay'].value_counts()"
      ],
      "metadata": {
        "colab": {
          "base_uri": "https://localhost:8080/"
        },
        "id": "F4NDjsHp96gM",
        "outputId": "37f8d9dd-af2a-4e58-f553-5fcff291d8f7"
      },
      "execution_count": 20,
      "outputs": [
        {
          "output_type": "execute_result",
          "data": {
            "text/plain": [
              "cigsPerDay\n",
              "0.0     526\n",
              "20.0    206\n",
              "15.0     51\n",
              "30.0     46\n",
              "9.0      36\n",
              "10.0     35\n",
              "3.0      27\n",
              "5.0      26\n",
              "25.0     22\n",
              "43.0     16\n",
              "1.0      14\n",
              "40.0     13\n",
              "35.0      6\n",
              "4.0       5\n",
              "2.0       5\n",
              "17.0      3\n",
              "7.0       3\n",
              "6.0       3\n",
              "13.0      2\n",
              "45.0      2\n",
              "60.0      2\n",
              "8.0       1\n",
              "12.0      1\n",
              "50.0      1\n",
              "18.0      1\n",
              "23.0      1\n",
              "14.0      1\n",
              "Name: count, dtype: int64"
            ]
          },
          "metadata": {},
          "execution_count": 20
        }
      ]
    },
    {
      "cell_type": "code",
      "source": [
        "chd_test['cigsPerDay'].isna().sum()"
      ],
      "metadata": {
        "colab": {
          "base_uri": "https://localhost:8080/"
        },
        "id": "eYSXaSVaIyUU",
        "outputId": "c8a47277-52de-4b16-e023-3aa1cb4939f8"
      },
      "execution_count": 64,
      "outputs": [
        {
          "output_type": "execute_result",
          "data": {
            "text/plain": [
              "5"
            ]
          },
          "metadata": {},
          "execution_count": 64
        }
      ]
    },
    {
      "cell_type": "code",
      "source": [
        "median_value = chd_test['cigsPerDay'].median()\n",
        "\n",
        "# Replace missing values with the median\n",
        "chd_test['cigsPerDay'].fillna(median_value, inplace=True)"
      ],
      "metadata": {
        "id": "RNWlAJlBNoaX"
      },
      "execution_count": 101,
      "outputs": []
    },
    {
      "cell_type": "markdown",
      "source": [
        "#####BPMeds\n",
        "***********"
      ],
      "metadata": {
        "id": "7GRFsxo588mi"
      }
    },
    {
      "cell_type": "markdown",
      "source": [
        "Decision: remove na's, mapped one-hot encodings to categorical"
      ],
      "metadata": {
        "id": "do9E1IKsOnqK"
      }
    },
    {
      "cell_type": "code",
      "source": [
        "chd_test['BPMeds'].value_counts()"
      ],
      "metadata": {
        "colab": {
          "base_uri": "https://localhost:8080/"
        },
        "id": "KykU-dpC97AT",
        "outputId": "f46ec8d3-ae60-4dfa-c3e1-450c5c09f834"
      },
      "execution_count": 21,
      "outputs": [
        {
          "output_type": "execute_result",
          "data": {
            "text/plain": [
              "BPMeds\n",
              "0.0    1013\n",
              "1.0      31\n",
              "Name: count, dtype: int64"
            ]
          },
          "metadata": {},
          "execution_count": 21
        }
      ]
    },
    {
      "cell_type": "code",
      "source": [
        "chd_test['BPMeds'].isna().sum()"
      ],
      "metadata": {
        "colab": {
          "base_uri": "https://localhost:8080/"
        },
        "id": "-pFcvwL0I3gk",
        "outputId": "1e02242f-c8dd-4f3d-b470-50128c623842"
      },
      "execution_count": 65,
      "outputs": [
        {
          "output_type": "execute_result",
          "data": {
            "text/plain": [
              "16"
            ]
          },
          "metadata": {},
          "execution_count": 65
        }
      ]
    },
    {
      "cell_type": "code",
      "source": [
        "chd_test.dropna(subset=['BPMeds'], inplace=True)"
      ],
      "metadata": {
        "id": "2o_oGOF0OJdV"
      },
      "execution_count": 103,
      "outputs": []
    },
    {
      "cell_type": "code",
      "source": [
        "# Map numerical values to categories\n",
        "BPMeds_map = {0: 'no meds', 1: 'on meds'}\n",
        "\n",
        "# Create a new column based on the mapping\n",
        "chd_test['BPMeds_category'] = chd_test['BPMeds'].map(BPMeds_map)"
      ],
      "metadata": {
        "id": "Aos19RJaOUVj"
      },
      "execution_count": 104,
      "outputs": []
    },
    {
      "cell_type": "markdown",
      "source": [
        "#####prevalentStroke\n",
        "****************"
      ],
      "metadata": {
        "id": "fhLWoQWc88jY"
      }
    },
    {
      "cell_type": "markdown",
      "source": [
        "Decision: no na's, mapped one-hot encodings to categorical"
      ],
      "metadata": {
        "id": "y3--IGFdPBOn"
      }
    },
    {
      "cell_type": "code",
      "source": [
        "chd_test['prevalentStroke'].value_counts()"
      ],
      "metadata": {
        "colab": {
          "base_uri": "https://localhost:8080/"
        },
        "id": "A2wj7yJc97XI",
        "outputId": "04d7380c-954d-4bcb-a4e4-53bfa952b1c8"
      },
      "execution_count": 22,
      "outputs": [
        {
          "output_type": "execute_result",
          "data": {
            "text/plain": [
              "prevalentStroke\n",
              "0    1056\n",
              "1       4\n",
              "Name: count, dtype: int64"
            ]
          },
          "metadata": {},
          "execution_count": 22
        }
      ]
    },
    {
      "cell_type": "code",
      "source": [
        "chd_test['prevalentStroke'].isna().sum()"
      ],
      "metadata": {
        "colab": {
          "base_uri": "https://localhost:8080/"
        },
        "id": "AwPnMj_YI7g2",
        "outputId": "bf531a05-bd0c-4b7b-b749-c4a922cce179"
      },
      "execution_count": 66,
      "outputs": [
        {
          "output_type": "execute_result",
          "data": {
            "text/plain": [
              "0"
            ]
          },
          "metadata": {},
          "execution_count": 66
        }
      ]
    },
    {
      "cell_type": "code",
      "source": [
        "# Map numerical values to categories\n",
        "stroke_map = {0: 'no stroke', 1: 'had stroke'}\n",
        "\n",
        "# Create a new column based on the mapping\n",
        "chd_test['stroke_category'] = chd_test['prevalentStroke'].map(stroke_map)"
      ],
      "metadata": {
        "id": "Ch2qVImrOwmX"
      },
      "execution_count": 105,
      "outputs": []
    },
    {
      "cell_type": "markdown",
      "source": [
        "#####prevalentHyp\n",
        "*************"
      ],
      "metadata": {
        "id": "kkeHngOb88f5"
      }
    },
    {
      "cell_type": "markdown",
      "source": [
        "Decision: no na's, mapped one-hot encodings to categorical"
      ],
      "metadata": {
        "id": "Zn4Y9qm4PTop"
      }
    },
    {
      "cell_type": "code",
      "source": [
        "chd_test['prevalentHyp'].value_counts()"
      ],
      "metadata": {
        "colab": {
          "base_uri": "https://localhost:8080/"
        },
        "id": "XdwQvhob98P9",
        "outputId": "69225f30-b619-4065-f5f8-cecd8d136e67"
      },
      "execution_count": 23,
      "outputs": [
        {
          "output_type": "execute_result",
          "data": {
            "text/plain": [
              "prevalentHyp\n",
              "0    764\n",
              "1    296\n",
              "Name: count, dtype: int64"
            ]
          },
          "metadata": {},
          "execution_count": 23
        }
      ]
    },
    {
      "cell_type": "code",
      "source": [
        "chd_test['prevalentHyp'].isna().sum()"
      ],
      "metadata": {
        "colab": {
          "base_uri": "https://localhost:8080/"
        },
        "id": "0Aks-eRpI_GG",
        "outputId": "294a11bd-8680-4d3e-f63d-6c19f23c4379"
      },
      "execution_count": 67,
      "outputs": [
        {
          "output_type": "execute_result",
          "data": {
            "text/plain": [
              "0"
            ]
          },
          "metadata": {},
          "execution_count": 67
        }
      ]
    },
    {
      "cell_type": "code",
      "source": [
        "# Map numerical values to categories\n",
        "hyp_map = {0: 'no hyp', 1: 'hyp'}\n",
        "\n",
        "# Create a new column based on the mapping\n",
        "chd_test['hyp_category'] = chd_test['prevalentHyp'].map(hyp_map)"
      ],
      "metadata": {
        "id": "dntm7C4gPH4T"
      },
      "execution_count": 106,
      "outputs": []
    },
    {
      "cell_type": "markdown",
      "source": [
        "#####diabetes\n",
        "*************"
      ],
      "metadata": {
        "id": "o5Bf-BL-88WU"
      }
    },
    {
      "cell_type": "markdown",
      "source": [
        "Decision: no na's, mapped one-hot encoding to categorical"
      ],
      "metadata": {
        "id": "IE7BLkE5Pkb0"
      }
    },
    {
      "cell_type": "code",
      "source": [
        "chd_test['diabetes'].value_counts()"
      ],
      "metadata": {
        "colab": {
          "base_uri": "https://localhost:8080/"
        },
        "id": "Z1xAJYAw99jw",
        "outputId": "f9db6cfd-e8b0-4a8b-bc8d-599ec9e26836"
      },
      "execution_count": 24,
      "outputs": [
        {
          "output_type": "execute_result",
          "data": {
            "text/plain": [
              "diabetes\n",
              "0    1034\n",
              "1      26\n",
              "Name: count, dtype: int64"
            ]
          },
          "metadata": {},
          "execution_count": 24
        }
      ]
    },
    {
      "cell_type": "code",
      "source": [
        "chd_test['diabetes'].isna().sum()"
      ],
      "metadata": {
        "colab": {
          "base_uri": "https://localhost:8080/"
        },
        "id": "1PfjGzI3JCkN",
        "outputId": "54b9d231-a2c3-48ae-e71c-a28e14a78d18"
      },
      "execution_count": 68,
      "outputs": [
        {
          "output_type": "execute_result",
          "data": {
            "text/plain": [
              "0"
            ]
          },
          "metadata": {},
          "execution_count": 68
        }
      ]
    },
    {
      "cell_type": "code",
      "source": [
        "# Map numerical values to categories\n",
        "diabetes_map = {0: 'no diabetes', 1: 'diabetes'}\n",
        "\n",
        "# Create a new column based on the mapping\n",
        "chd_test['diabetes_category'] = chd_test['diabetes'].map(diabetes_map)"
      ],
      "metadata": {
        "id": "tfrD7gtPPaK7"
      },
      "execution_count": 107,
      "outputs": []
    },
    {
      "cell_type": "markdown",
      "source": [
        "#####totChol\n",
        "************"
      ],
      "metadata": {
        "id": "nFBMRqjm9Dq_"
      }
    },
    {
      "cell_type": "markdown",
      "source": [
        "Decision: replace na's with median value"
      ],
      "metadata": {
        "id": "YbdEoYXlP7Z7"
      }
    },
    {
      "cell_type": "code",
      "source": [
        "chd_test['totChol'].value_counts()"
      ],
      "metadata": {
        "colab": {
          "base_uri": "https://localhost:8080/"
        },
        "id": "vThZGzOO9-JO",
        "outputId": "5c2c26dd-de94-4b47-bd67-51db79b99d9a"
      },
      "execution_count": 25,
      "outputs": [
        {
          "output_type": "execute_result",
          "data": {
            "text/plain": [
              "totChol\n",
              "240.0    22\n",
              "220.0    20\n",
              "226.0    16\n",
              "250.0    16\n",
              "210.0    16\n",
              "         ..\n",
              "382.0     1\n",
              "314.0     1\n",
              "322.0     1\n",
              "327.0     1\n",
              "184.0     1\n",
              "Name: count, Length: 196, dtype: int64"
            ]
          },
          "metadata": {},
          "execution_count": 25
        }
      ]
    },
    {
      "cell_type": "code",
      "source": [
        "chd_test['totChol'].isna().sum()"
      ],
      "metadata": {
        "colab": {
          "base_uri": "https://localhost:8080/"
        },
        "id": "AhUdLfSPJFWc",
        "outputId": "edfb505d-6f90-48b4-c29d-f55b7e94d9a4"
      },
      "execution_count": 69,
      "outputs": [
        {
          "output_type": "execute_result",
          "data": {
            "text/plain": [
              "11"
            ]
          },
          "metadata": {},
          "execution_count": 69
        }
      ]
    },
    {
      "cell_type": "code",
      "source": [
        "median_value_chol = chd_test['totChol'].median()\n",
        "\n",
        "# Replace missing values with the median\n",
        "chd_test['totChol'].fillna(median_value_chol, inplace=True)"
      ],
      "metadata": {
        "id": "-KVf7BhkPqq0"
      },
      "execution_count": 108,
      "outputs": []
    },
    {
      "cell_type": "markdown",
      "source": [
        "#####sysBP\n",
        "***********"
      ],
      "metadata": {
        "id": "aUXcLSka9jGk"
      }
    },
    {
      "cell_type": "markdown",
      "source": [
        "Decision: no na's, no mapping needed"
      ],
      "metadata": {
        "id": "gQs_67lAP_pi"
      }
    },
    {
      "cell_type": "code",
      "source": [
        "chd_test['sysBP'].value_counts()"
      ],
      "metadata": {
        "colab": {
          "base_uri": "https://localhost:8080/"
        },
        "id": "vOdtV9bn9-hE",
        "outputId": "e1c0c7b9-070e-4cfe-f3d6-d1453ee146ef"
      },
      "execution_count": 26,
      "outputs": [
        {
          "output_type": "execute_result",
          "data": {
            "text/plain": [
              "sysBP\n",
              "120.0    37\n",
              "130.0    31\n",
              "119.0    29\n",
              "110.0    24\n",
              "122.0    23\n",
              "         ..\n",
              "164.5     1\n",
              "135.5     1\n",
              "186.5     1\n",
              "191.0     1\n",
              "145.5     1\n",
              "Name: count, Length: 167, dtype: int64"
            ]
          },
          "metadata": {},
          "execution_count": 26
        }
      ]
    },
    {
      "cell_type": "code",
      "source": [
        "chd_test['sysBP'].isna().sum()"
      ],
      "metadata": {
        "colab": {
          "base_uri": "https://localhost:8080/"
        },
        "id": "qArqc_22JJLQ",
        "outputId": "683ebb8d-607e-42f9-8959-a6b41ff6b2f0"
      },
      "execution_count": 70,
      "outputs": [
        {
          "output_type": "execute_result",
          "data": {
            "text/plain": [
              "0"
            ]
          },
          "metadata": {},
          "execution_count": 70
        }
      ]
    },
    {
      "cell_type": "markdown",
      "source": [
        "#####diaBP\n",
        "***********"
      ],
      "metadata": {
        "id": "4UzcCZcr9nYa"
      }
    },
    {
      "cell_type": "markdown",
      "source": [
        "Decision: no na's, no mapping needed"
      ],
      "metadata": {
        "id": "kix3bOt0QEtW"
      }
    },
    {
      "cell_type": "code",
      "source": [
        "chd_test['diaBP'].value_counts()"
      ],
      "metadata": {
        "colab": {
          "base_uri": "https://localhost:8080/"
        },
        "id": "2UfWSiy39-58",
        "outputId": "93cd15df-961c-424a-e28f-9683fedfcdd0"
      },
      "execution_count": 27,
      "outputs": [
        {
          "output_type": "execute_result",
          "data": {
            "text/plain": [
              "diaBP\n",
              "80.0     64\n",
              "82.0     46\n",
              "78.0     41\n",
              "70.0     38\n",
              "72.0     36\n",
              "         ..\n",
              "88.5      1\n",
              "103.5     1\n",
              "69.5      1\n",
              "100.5     1\n",
              "58.0      1\n",
              "Name: count, Length: 117, dtype: int64"
            ]
          },
          "metadata": {},
          "execution_count": 27
        }
      ]
    },
    {
      "cell_type": "code",
      "source": [
        "chd_test['diaBP'].isna().sum()"
      ],
      "metadata": {
        "colab": {
          "base_uri": "https://localhost:8080/"
        },
        "id": "uYET3B8lJMUi",
        "outputId": "407303f1-ab10-48e8-e401-bf4a2667974f"
      },
      "execution_count": 71,
      "outputs": [
        {
          "output_type": "execute_result",
          "data": {
            "text/plain": [
              "0"
            ]
          },
          "metadata": {},
          "execution_count": 71
        }
      ]
    },
    {
      "cell_type": "markdown",
      "source": [
        "#####BMI\n",
        "**************"
      ],
      "metadata": {
        "id": "M6LmnGQ59nSu"
      }
    },
    {
      "cell_type": "markdown",
      "source": [
        "Decision: replace na's with median value"
      ],
      "metadata": {
        "id": "y2_trv3tQSMA"
      }
    },
    {
      "cell_type": "code",
      "source": [
        "chd_test['BMI'].value_counts()"
      ],
      "metadata": {
        "colab": {
          "base_uri": "https://localhost:8080/"
        },
        "id": "VjJhpom-9_dj",
        "outputId": "a47b1ab4-7f10-4d4c-a0be-fc73deec883a"
      },
      "execution_count": 28,
      "outputs": [
        {
          "output_type": "execute_result",
          "data": {
            "text/plain": [
              "BMI\n",
              "22.19    8\n",
              "25.38    7\n",
              "25.94    7\n",
              "22.18    6\n",
              "22.54    6\n",
              "        ..\n",
              "31.50    1\n",
              "24.36    1\n",
              "30.46    1\n",
              "20.19    1\n",
              "42.15    1\n",
              "Name: count, Length: 666, dtype: int64"
            ]
          },
          "metadata": {},
          "execution_count": 28
        }
      ]
    },
    {
      "cell_type": "code",
      "source": [
        "chd_test['BMI'].isna().sum()"
      ],
      "metadata": {
        "colab": {
          "base_uri": "https://localhost:8080/"
        },
        "id": "nQv2lBX9JQZf",
        "outputId": "f455885a-97c6-4fbf-c21c-b638c541e211"
      },
      "execution_count": 72,
      "outputs": [
        {
          "output_type": "execute_result",
          "data": {
            "text/plain": [
              "4"
            ]
          },
          "metadata": {},
          "execution_count": 72
        }
      ]
    },
    {
      "cell_type": "code",
      "source": [
        "median_value_BMI = chd_test['BMI'].median()\n",
        "\n",
        "# Replace missing values with the median\n",
        "chd_test['BMI'].fillna(median_value_BMI, inplace=True)"
      ],
      "metadata": {
        "id": "5ll37X6tQJXU"
      },
      "execution_count": 109,
      "outputs": []
    },
    {
      "cell_type": "markdown",
      "source": [
        "#####heartRate\n",
        "***********"
      ],
      "metadata": {
        "id": "csviW4ad9nNU"
      }
    },
    {
      "cell_type": "markdown",
      "source": [
        "Decision: replace na with median value"
      ],
      "metadata": {
        "id": "GrbjLt74Qfa9"
      }
    },
    {
      "cell_type": "code",
      "source": [
        "chd_test['heartRate'].value_counts()"
      ],
      "metadata": {
        "colab": {
          "base_uri": "https://localhost:8080/"
        },
        "id": "3pH2vWnb9_3g",
        "outputId": "df0eb898-8ff7-480a-b28e-09b5da5310cf"
      },
      "execution_count": 29,
      "outputs": [
        {
          "output_type": "execute_result",
          "data": {
            "text/plain": [
              "heartRate\n",
              "75.0     135\n",
              "80.0     112\n",
              "70.0      79\n",
              "85.0      58\n",
              "60.0      57\n",
              "72.0      53\n",
              "65.0      51\n",
              "90.0      43\n",
              "68.0      37\n",
              "78.0      26\n",
              "67.0      23\n",
              "62.0      22\n",
              "100.0     22\n",
              "95.0      21\n",
              "63.0      20\n",
              "64.0      20\n",
              "83.0      19\n",
              "66.0      17\n",
              "58.0      16\n",
              "88.0      15\n",
              "77.0      15\n",
              "69.0      14\n",
              "96.0      14\n",
              "76.0      13\n",
              "82.0      11\n",
              "73.0      11\n",
              "55.0      10\n",
              "71.0       9\n",
              "87.0       9\n",
              "92.0       9\n",
              "79.0       9\n",
              "56.0       7\n",
              "94.0       7\n",
              "74.0       7\n",
              "110.0      7\n",
              "84.0       6\n",
              "52.0       6\n",
              "105.0      5\n",
              "57.0       5\n",
              "86.0       5\n",
              "81.0       5\n",
              "50.0       3\n",
              "102.0      3\n",
              "108.0      3\n",
              "45.0       2\n",
              "98.0       2\n",
              "91.0       2\n",
              "48.0       2\n",
              "107.0      1\n",
              "61.0       1\n",
              "59.0       1\n",
              "122.0      1\n",
              "104.0      1\n",
              "103.0      1\n",
              "112.0      1\n",
              "101.0      1\n",
              "89.0       1\n",
              "143.0      1\n",
              "125.0      1\n",
              "120.0      1\n",
              "Name: count, dtype: int64"
            ]
          },
          "metadata": {},
          "execution_count": 29
        }
      ]
    },
    {
      "cell_type": "code",
      "source": [
        "chd_test['heartRate'].isna().sum()"
      ],
      "metadata": {
        "colab": {
          "base_uri": "https://localhost:8080/"
        },
        "id": "aMy1xk8xJT3o",
        "outputId": "53ce6709-989f-46d2-868f-691331857164"
      },
      "execution_count": 73,
      "outputs": [
        {
          "output_type": "execute_result",
          "data": {
            "text/plain": [
              "1"
            ]
          },
          "metadata": {},
          "execution_count": 73
        }
      ]
    },
    {
      "cell_type": "code",
      "source": [
        "median_value_hr = chd_test['heartRate'].median()\n",
        "\n",
        "# Replace missing values with the median\n",
        "chd_test['heartRate'].fillna(median_value_hr, inplace=True)"
      ],
      "metadata": {
        "id": "3sxuvsfIQXnL"
      },
      "execution_count": 110,
      "outputs": []
    },
    {
      "cell_type": "markdown",
      "source": [
        "#####glucose\n",
        "**************"
      ],
      "metadata": {
        "id": "NlaWKx979x-R"
      }
    },
    {
      "cell_type": "markdown",
      "source": [
        "Decision: converted na's to median value"
      ],
      "metadata": {
        "id": "gw4UrpOOQwju"
      }
    },
    {
      "cell_type": "code",
      "source": [
        "chd_test['glucose'].value_counts()"
      ],
      "metadata": {
        "colab": {
          "base_uri": "https://localhost:8080/"
        },
        "id": "4MMx7t9w-Al-",
        "outputId": "a3ffa2e8-940c-4f3f-8ae3-c3f72c3076f7"
      },
      "execution_count": 30,
      "outputs": [
        {
          "output_type": "execute_result",
          "data": {
            "text/plain": [
              "glucose\n",
              "76.0     47\n",
              "75.0     46\n",
              "83.0     41\n",
              "77.0     41\n",
              "78.0     40\n",
              "         ..\n",
              "143.0     1\n",
              "163.0     1\n",
              "119.0     1\n",
              "205.0     1\n",
              "145.0     1\n",
              "Name: count, Length: 90, dtype: int64"
            ]
          },
          "metadata": {},
          "execution_count": 30
        }
      ]
    },
    {
      "cell_type": "code",
      "source": [
        "chd_test['glucose'].isna().sum()"
      ],
      "metadata": {
        "colab": {
          "base_uri": "https://localhost:8080/"
        },
        "id": "LUiGdkyFJXA1",
        "outputId": "d358091d-218b-4537-f7b5-01c83a595a1b"
      },
      "execution_count": 74,
      "outputs": [
        {
          "output_type": "execute_result",
          "data": {
            "text/plain": [
              "103"
            ]
          },
          "metadata": {},
          "execution_count": 74
        }
      ]
    },
    {
      "cell_type": "code",
      "source": [
        "median_value_gluc = chd_test['glucose'].median()\n",
        "\n",
        "# Replace missing values with the median\n",
        "chd_test['glucose'].fillna(median_value_gluc, inplace=True)"
      ],
      "metadata": {
        "id": "WAdOQWsIQ2dC"
      },
      "execution_count": 111,
      "outputs": []
    },
    {
      "cell_type": "markdown",
      "source": [
        "#####TenYearCHD\n",
        "**********"
      ],
      "metadata": {
        "id": "BwpSVCW9904h"
      }
    },
    {
      "cell_type": "markdown",
      "source": [
        "Decision: no na's, mapped one-hot encodings to categorical"
      ],
      "metadata": {
        "id": "ZDvPZa-_QoIE"
      }
    },
    {
      "cell_type": "code",
      "source": [
        "chd_test['TenYearCHD'].value_counts()"
      ],
      "metadata": {
        "colab": {
          "base_uri": "https://localhost:8080/"
        },
        "id": "Odq_3fyv9fhO",
        "outputId": "2f520907-8177-488d-f35c-9ea8c35f2c08"
      },
      "execution_count": 31,
      "outputs": [
        {
          "output_type": "execute_result",
          "data": {
            "text/plain": [
              "TenYearCHD\n",
              "0    903\n",
              "1    157\n",
              "Name: count, dtype: int64"
            ]
          },
          "metadata": {},
          "execution_count": 31
        }
      ]
    },
    {
      "cell_type": "code",
      "source": [
        "chd_test['TenYearCHD'].isna().sum()"
      ],
      "metadata": {
        "colab": {
          "base_uri": "https://localhost:8080/"
        },
        "id": "7Ok8yY8IJaMy",
        "outputId": "e76d141f-a610-4f29-9992-5bdd7f7dbc1f"
      },
      "execution_count": 75,
      "outputs": [
        {
          "output_type": "execute_result",
          "data": {
            "text/plain": [
              "0"
            ]
          },
          "metadata": {},
          "execution_count": 75
        }
      ]
    },
    {
      "cell_type": "code",
      "source": [
        "# Map numerical values to categories\n",
        "chd_map = {0: 'no chd', 1: 'chd'}\n",
        "\n",
        "# Create a new column based on the mapping\n",
        "chd_test['chd_category'] = chd_test['TenYearCHD'].map(chd_map)"
      ],
      "metadata": {
        "id": "9jkozSC7RCqY"
      },
      "execution_count": 112,
      "outputs": []
    },
    {
      "cell_type": "markdown",
      "source": [
        "####Inspection\n",
        "********"
      ],
      "metadata": {
        "id": "blSN59HkRQw9"
      }
    },
    {
      "cell_type": "code",
      "source": [
        "chd_test.head()"
      ],
      "metadata": {
        "colab": {
          "base_uri": "https://localhost:8080/",
          "height": 290
        },
        "id": "b0g-H9ZDRa7x",
        "outputId": "db557df0-8eca-4004-b4f0-4aa0dfa35124"
      },
      "execution_count": 113,
      "outputs": [
        {
          "output_type": "execute_result",
          "data": {
            "text/plain": [
              "   Unnamed: 0  sex  age  education  currentSmoker  cigsPerDay  BPMeds  \\\n",
              "0         674    0   58        1.0              1        20.0     0.0   \n",
              "1        4070    0   51        3.0              0         0.0     0.0   \n",
              "2        3150    0   44        2.0              1         9.0     0.0   \n",
              "3        1695    0   40        2.0              1        20.0     0.0   \n",
              "4        2692    1   58        2.0              1        20.0     0.0   \n",
              "\n",
              "   prevalentStroke  prevalentHyp  diabetes  ...  glucose  TenYearCHD  \\\n",
              "0                0             0         0  ...     78.0           0   \n",
              "1                0             0         0  ...     74.0           0   \n",
              "2                0             1         0  ...     78.0           1   \n",
              "3                0             0         0  ...     78.0           1   \n",
              "4                0             0         0  ...     78.0           0   \n",
              "\n",
              "   sex_category           edu_category  smoker_category  BPMeds_category  \\\n",
              "0        female                some HS          smoking          no meds   \n",
              "1        female  some college/vocation       no smoking          no meds   \n",
              "2        female                 HS/GED          smoking          no meds   \n",
              "3        female                 HS/GED          smoking          no meds   \n",
              "4          male                 HS/GED          smoking          no meds   \n",
              "\n",
              "   stroke_category hyp_category diabetes_category chd_category  \n",
              "0        no stroke       no hyp       no diabetes       no chd  \n",
              "1        no stroke       no hyp       no diabetes       no chd  \n",
              "2        no stroke          hyp       no diabetes          chd  \n",
              "3        no stroke       no hyp       no diabetes          chd  \n",
              "4        no stroke       no hyp       no diabetes       no chd  \n",
              "\n",
              "[5 rows x 25 columns]"
            ],
            "text/html": [
              "\n",
              "  <div id=\"df-51f414e1-7045-4b4c-8236-f23933640704\" class=\"colab-df-container\">\n",
              "    <div>\n",
              "<style scoped>\n",
              "    .dataframe tbody tr th:only-of-type {\n",
              "        vertical-align: middle;\n",
              "    }\n",
              "\n",
              "    .dataframe tbody tr th {\n",
              "        vertical-align: top;\n",
              "    }\n",
              "\n",
              "    .dataframe thead th {\n",
              "        text-align: right;\n",
              "    }\n",
              "</style>\n",
              "<table border=\"1\" class=\"dataframe\">\n",
              "  <thead>\n",
              "    <tr style=\"text-align: right;\">\n",
              "      <th></th>\n",
              "      <th>Unnamed: 0</th>\n",
              "      <th>sex</th>\n",
              "      <th>age</th>\n",
              "      <th>education</th>\n",
              "      <th>currentSmoker</th>\n",
              "      <th>cigsPerDay</th>\n",
              "      <th>BPMeds</th>\n",
              "      <th>prevalentStroke</th>\n",
              "      <th>prevalentHyp</th>\n",
              "      <th>diabetes</th>\n",
              "      <th>...</th>\n",
              "      <th>glucose</th>\n",
              "      <th>TenYearCHD</th>\n",
              "      <th>sex_category</th>\n",
              "      <th>edu_category</th>\n",
              "      <th>smoker_category</th>\n",
              "      <th>BPMeds_category</th>\n",
              "      <th>stroke_category</th>\n",
              "      <th>hyp_category</th>\n",
              "      <th>diabetes_category</th>\n",
              "      <th>chd_category</th>\n",
              "    </tr>\n",
              "  </thead>\n",
              "  <tbody>\n",
              "    <tr>\n",
              "      <th>0</th>\n",
              "      <td>674</td>\n",
              "      <td>0</td>\n",
              "      <td>58</td>\n",
              "      <td>1.0</td>\n",
              "      <td>1</td>\n",
              "      <td>20.0</td>\n",
              "      <td>0.0</td>\n",
              "      <td>0</td>\n",
              "      <td>0</td>\n",
              "      <td>0</td>\n",
              "      <td>...</td>\n",
              "      <td>78.0</td>\n",
              "      <td>0</td>\n",
              "      <td>female</td>\n",
              "      <td>some HS</td>\n",
              "      <td>smoking</td>\n",
              "      <td>no meds</td>\n",
              "      <td>no stroke</td>\n",
              "      <td>no hyp</td>\n",
              "      <td>no diabetes</td>\n",
              "      <td>no chd</td>\n",
              "    </tr>\n",
              "    <tr>\n",
              "      <th>1</th>\n",
              "      <td>4070</td>\n",
              "      <td>0</td>\n",
              "      <td>51</td>\n",
              "      <td>3.0</td>\n",
              "      <td>0</td>\n",
              "      <td>0.0</td>\n",
              "      <td>0.0</td>\n",
              "      <td>0</td>\n",
              "      <td>0</td>\n",
              "      <td>0</td>\n",
              "      <td>...</td>\n",
              "      <td>74.0</td>\n",
              "      <td>0</td>\n",
              "      <td>female</td>\n",
              "      <td>some college/vocation</td>\n",
              "      <td>no smoking</td>\n",
              "      <td>no meds</td>\n",
              "      <td>no stroke</td>\n",
              "      <td>no hyp</td>\n",
              "      <td>no diabetes</td>\n",
              "      <td>no chd</td>\n",
              "    </tr>\n",
              "    <tr>\n",
              "      <th>2</th>\n",
              "      <td>3150</td>\n",
              "      <td>0</td>\n",
              "      <td>44</td>\n",
              "      <td>2.0</td>\n",
              "      <td>1</td>\n",
              "      <td>9.0</td>\n",
              "      <td>0.0</td>\n",
              "      <td>0</td>\n",
              "      <td>1</td>\n",
              "      <td>0</td>\n",
              "      <td>...</td>\n",
              "      <td>78.0</td>\n",
              "      <td>1</td>\n",
              "      <td>female</td>\n",
              "      <td>HS/GED</td>\n",
              "      <td>smoking</td>\n",
              "      <td>no meds</td>\n",
              "      <td>no stroke</td>\n",
              "      <td>hyp</td>\n",
              "      <td>no diabetes</td>\n",
              "      <td>chd</td>\n",
              "    </tr>\n",
              "    <tr>\n",
              "      <th>3</th>\n",
              "      <td>1695</td>\n",
              "      <td>0</td>\n",
              "      <td>40</td>\n",
              "      <td>2.0</td>\n",
              "      <td>1</td>\n",
              "      <td>20.0</td>\n",
              "      <td>0.0</td>\n",
              "      <td>0</td>\n",
              "      <td>0</td>\n",
              "      <td>0</td>\n",
              "      <td>...</td>\n",
              "      <td>78.0</td>\n",
              "      <td>1</td>\n",
              "      <td>female</td>\n",
              "      <td>HS/GED</td>\n",
              "      <td>smoking</td>\n",
              "      <td>no meds</td>\n",
              "      <td>no stroke</td>\n",
              "      <td>no hyp</td>\n",
              "      <td>no diabetes</td>\n",
              "      <td>chd</td>\n",
              "    </tr>\n",
              "    <tr>\n",
              "      <th>4</th>\n",
              "      <td>2692</td>\n",
              "      <td>1</td>\n",
              "      <td>58</td>\n",
              "      <td>2.0</td>\n",
              "      <td>1</td>\n",
              "      <td>20.0</td>\n",
              "      <td>0.0</td>\n",
              "      <td>0</td>\n",
              "      <td>0</td>\n",
              "      <td>0</td>\n",
              "      <td>...</td>\n",
              "      <td>78.0</td>\n",
              "      <td>0</td>\n",
              "      <td>male</td>\n",
              "      <td>HS/GED</td>\n",
              "      <td>smoking</td>\n",
              "      <td>no meds</td>\n",
              "      <td>no stroke</td>\n",
              "      <td>no hyp</td>\n",
              "      <td>no diabetes</td>\n",
              "      <td>no chd</td>\n",
              "    </tr>\n",
              "  </tbody>\n",
              "</table>\n",
              "<p>5 rows × 25 columns</p>\n",
              "</div>\n",
              "    <div class=\"colab-df-buttons\">\n",
              "\n",
              "  <div class=\"colab-df-container\">\n",
              "    <button class=\"colab-df-convert\" onclick=\"convertToInteractive('df-51f414e1-7045-4b4c-8236-f23933640704')\"\n",
              "            title=\"Convert this dataframe to an interactive table.\"\n",
              "            style=\"display:none;\">\n",
              "\n",
              "  <svg xmlns=\"http://www.w3.org/2000/svg\" height=\"24px\" viewBox=\"0 -960 960 960\">\n",
              "    <path d=\"M120-120v-720h720v720H120Zm60-500h600v-160H180v160Zm220 220h160v-160H400v160Zm0 220h160v-160H400v160ZM180-400h160v-160H180v160Zm440 0h160v-160H620v160ZM180-180h160v-160H180v160Zm440 0h160v-160H620v160Z\"/>\n",
              "  </svg>\n",
              "    </button>\n",
              "\n",
              "  <style>\n",
              "    .colab-df-container {\n",
              "      display:flex;\n",
              "      gap: 12px;\n",
              "    }\n",
              "\n",
              "    .colab-df-convert {\n",
              "      background-color: #E8F0FE;\n",
              "      border: none;\n",
              "      border-radius: 50%;\n",
              "      cursor: pointer;\n",
              "      display: none;\n",
              "      fill: #1967D2;\n",
              "      height: 32px;\n",
              "      padding: 0 0 0 0;\n",
              "      width: 32px;\n",
              "    }\n",
              "\n",
              "    .colab-df-convert:hover {\n",
              "      background-color: #E2EBFA;\n",
              "      box-shadow: 0px 1px 2px rgba(60, 64, 67, 0.3), 0px 1px 3px 1px rgba(60, 64, 67, 0.15);\n",
              "      fill: #174EA6;\n",
              "    }\n",
              "\n",
              "    .colab-df-buttons div {\n",
              "      margin-bottom: 4px;\n",
              "    }\n",
              "\n",
              "    [theme=dark] .colab-df-convert {\n",
              "      background-color: #3B4455;\n",
              "      fill: #D2E3FC;\n",
              "    }\n",
              "\n",
              "    [theme=dark] .colab-df-convert:hover {\n",
              "      background-color: #434B5C;\n",
              "      box-shadow: 0px 1px 3px 1px rgba(0, 0, 0, 0.15);\n",
              "      filter: drop-shadow(0px 1px 2px rgba(0, 0, 0, 0.3));\n",
              "      fill: #FFFFFF;\n",
              "    }\n",
              "  </style>\n",
              "\n",
              "    <script>\n",
              "      const buttonEl =\n",
              "        document.querySelector('#df-51f414e1-7045-4b4c-8236-f23933640704 button.colab-df-convert');\n",
              "      buttonEl.style.display =\n",
              "        google.colab.kernel.accessAllowed ? 'block' : 'none';\n",
              "\n",
              "      async function convertToInteractive(key) {\n",
              "        const element = document.querySelector('#df-51f414e1-7045-4b4c-8236-f23933640704');\n",
              "        const dataTable =\n",
              "          await google.colab.kernel.invokeFunction('convertToInteractive',\n",
              "                                                    [key], {});\n",
              "        if (!dataTable) return;\n",
              "\n",
              "        const docLinkHtml = 'Like what you see? Visit the ' +\n",
              "          '<a target=\"_blank\" href=https://colab.research.google.com/notebooks/data_table.ipynb>data table notebook</a>'\n",
              "          + ' to learn more about interactive tables.';\n",
              "        element.innerHTML = '';\n",
              "        dataTable['output_type'] = 'display_data';\n",
              "        await google.colab.output.renderOutput(dataTable, element);\n",
              "        const docLink = document.createElement('div');\n",
              "        docLink.innerHTML = docLinkHtml;\n",
              "        element.appendChild(docLink);\n",
              "      }\n",
              "    </script>\n",
              "  </div>\n",
              "\n",
              "\n",
              "<div id=\"df-20b81782-cfdc-4d29-96d3-6eb7e7286daa\">\n",
              "  <button class=\"colab-df-quickchart\" onclick=\"quickchart('df-20b81782-cfdc-4d29-96d3-6eb7e7286daa')\"\n",
              "            title=\"Suggest charts\"\n",
              "            style=\"display:none;\">\n",
              "\n",
              "<svg xmlns=\"http://www.w3.org/2000/svg\" height=\"24px\"viewBox=\"0 0 24 24\"\n",
              "     width=\"24px\">\n",
              "    <g>\n",
              "        <path d=\"M19 3H5c-1.1 0-2 .9-2 2v14c0 1.1.9 2 2 2h14c1.1 0 2-.9 2-2V5c0-1.1-.9-2-2-2zM9 17H7v-7h2v7zm4 0h-2V7h2v10zm4 0h-2v-4h2v4z\"/>\n",
              "    </g>\n",
              "</svg>\n",
              "  </button>\n",
              "\n",
              "<style>\n",
              "  .colab-df-quickchart {\n",
              "      --bg-color: #E8F0FE;\n",
              "      --fill-color: #1967D2;\n",
              "      --hover-bg-color: #E2EBFA;\n",
              "      --hover-fill-color: #174EA6;\n",
              "      --disabled-fill-color: #AAA;\n",
              "      --disabled-bg-color: #DDD;\n",
              "  }\n",
              "\n",
              "  [theme=dark] .colab-df-quickchart {\n",
              "      --bg-color: #3B4455;\n",
              "      --fill-color: #D2E3FC;\n",
              "      --hover-bg-color: #434B5C;\n",
              "      --hover-fill-color: #FFFFFF;\n",
              "      --disabled-bg-color: #3B4455;\n",
              "      --disabled-fill-color: #666;\n",
              "  }\n",
              "\n",
              "  .colab-df-quickchart {\n",
              "    background-color: var(--bg-color);\n",
              "    border: none;\n",
              "    border-radius: 50%;\n",
              "    cursor: pointer;\n",
              "    display: none;\n",
              "    fill: var(--fill-color);\n",
              "    height: 32px;\n",
              "    padding: 0;\n",
              "    width: 32px;\n",
              "  }\n",
              "\n",
              "  .colab-df-quickchart:hover {\n",
              "    background-color: var(--hover-bg-color);\n",
              "    box-shadow: 0 1px 2px rgba(60, 64, 67, 0.3), 0 1px 3px 1px rgba(60, 64, 67, 0.15);\n",
              "    fill: var(--button-hover-fill-color);\n",
              "  }\n",
              "\n",
              "  .colab-df-quickchart-complete:disabled,\n",
              "  .colab-df-quickchart-complete:disabled:hover {\n",
              "    background-color: var(--disabled-bg-color);\n",
              "    fill: var(--disabled-fill-color);\n",
              "    box-shadow: none;\n",
              "  }\n",
              "\n",
              "  .colab-df-spinner {\n",
              "    border: 2px solid var(--fill-color);\n",
              "    border-color: transparent;\n",
              "    border-bottom-color: var(--fill-color);\n",
              "    animation:\n",
              "      spin 1s steps(1) infinite;\n",
              "  }\n",
              "\n",
              "  @keyframes spin {\n",
              "    0% {\n",
              "      border-color: transparent;\n",
              "      border-bottom-color: var(--fill-color);\n",
              "      border-left-color: var(--fill-color);\n",
              "    }\n",
              "    20% {\n",
              "      border-color: transparent;\n",
              "      border-left-color: var(--fill-color);\n",
              "      border-top-color: var(--fill-color);\n",
              "    }\n",
              "    30% {\n",
              "      border-color: transparent;\n",
              "      border-left-color: var(--fill-color);\n",
              "      border-top-color: var(--fill-color);\n",
              "      border-right-color: var(--fill-color);\n",
              "    }\n",
              "    40% {\n",
              "      border-color: transparent;\n",
              "      border-right-color: var(--fill-color);\n",
              "      border-top-color: var(--fill-color);\n",
              "    }\n",
              "    60% {\n",
              "      border-color: transparent;\n",
              "      border-right-color: var(--fill-color);\n",
              "    }\n",
              "    80% {\n",
              "      border-color: transparent;\n",
              "      border-right-color: var(--fill-color);\n",
              "      border-bottom-color: var(--fill-color);\n",
              "    }\n",
              "    90% {\n",
              "      border-color: transparent;\n",
              "      border-bottom-color: var(--fill-color);\n",
              "    }\n",
              "  }\n",
              "</style>\n",
              "\n",
              "  <script>\n",
              "    async function quickchart(key) {\n",
              "      const quickchartButtonEl =\n",
              "        document.querySelector('#' + key + ' button');\n",
              "      quickchartButtonEl.disabled = true;  // To prevent multiple clicks.\n",
              "      quickchartButtonEl.classList.add('colab-df-spinner');\n",
              "      try {\n",
              "        const charts = await google.colab.kernel.invokeFunction(\n",
              "            'suggestCharts', [key], {});\n",
              "      } catch (error) {\n",
              "        console.error('Error during call to suggestCharts:', error);\n",
              "      }\n",
              "      quickchartButtonEl.classList.remove('colab-df-spinner');\n",
              "      quickchartButtonEl.classList.add('colab-df-quickchart-complete');\n",
              "    }\n",
              "    (() => {\n",
              "      let quickchartButtonEl =\n",
              "        document.querySelector('#df-20b81782-cfdc-4d29-96d3-6eb7e7286daa button');\n",
              "      quickchartButtonEl.style.display =\n",
              "        google.colab.kernel.accessAllowed ? 'block' : 'none';\n",
              "    })();\n",
              "  </script>\n",
              "</div>\n",
              "    </div>\n",
              "  </div>\n"
            ],
            "application/vnd.google.colaboratory.intrinsic+json": {
              "type": "dataframe",
              "variable_name": "chd_test"
            }
          },
          "metadata": {},
          "execution_count": 113
        }
      ]
    },
    {
      "cell_type": "code",
      "source": [
        "chd_test.shape"
      ],
      "metadata": {
        "colab": {
          "base_uri": "https://localhost:8080/"
        },
        "id": "MB5VXMUCRm5J",
        "outputId": "f733bbfe-1e05-4e7d-b89c-8cf3d45a763e"
      },
      "execution_count": 116,
      "outputs": [
        {
          "output_type": "execute_result",
          "data": {
            "text/plain": [
              "(1024, 25)"
            ]
          },
          "metadata": {},
          "execution_count": 116
        }
      ]
    },
    {
      "cell_type": "code",
      "source": [
        "for each in chd_test.columns:\n",
        "    print(f\"{each}: {chd_test[each].isnull().sum()}\")"
      ],
      "metadata": {
        "colab": {
          "base_uri": "https://localhost:8080/"
        },
        "id": "UeL9We3xRUxS",
        "outputId": "65b2f107-294b-4fe3-c40f-2bba41a3c727"
      },
      "execution_count": 115,
      "outputs": [
        {
          "output_type": "stream",
          "name": "stdout",
          "text": [
            "Unnamed: 0: 0\n",
            "sex: 0\n",
            "age: 0\n",
            "education: 0\n",
            "currentSmoker: 0\n",
            "cigsPerDay: 0\n",
            "BPMeds: 0\n",
            "prevalentStroke: 0\n",
            "prevalentHyp: 0\n",
            "diabetes: 0\n",
            "totChol: 0\n",
            "sysBP: 0\n",
            "diaBP: 0\n",
            "BMI: 0\n",
            "heartRate: 0\n",
            "glucose: 0\n",
            "TenYearCHD: 0\n",
            "sex_category: 0\n",
            "edu_category: 0\n",
            "smoker_category: 0\n",
            "BPMeds_category: 0\n",
            "stroke_category: 0\n",
            "hyp_category: 0\n",
            "diabetes_category: 0\n",
            "chd_category: 0\n"
          ]
        }
      ]
    },
    {
      "cell_type": "markdown",
      "source": [
        "##**Training cleaning**\n",
        "*********"
      ],
      "metadata": {
        "id": "I4L4jMb26ZML"
      }
    },
    {
      "cell_type": "markdown",
      "source": [
        "###Exploration\n",
        "*************"
      ],
      "metadata": {
        "id": "9-GKXA1e7lal"
      }
    },
    {
      "cell_type": "code",
      "source": [
        "chd_train.head()"
      ],
      "metadata": {
        "colab": {
          "base_uri": "https://localhost:8080/",
          "height": 243
        },
        "id": "mOP_Xiut6f1N",
        "outputId": "52ae893f-3e01-4757-baa7-33466027e3d5"
      },
      "execution_count": 8,
      "outputs": [
        {
          "output_type": "execute_result",
          "data": {
            "text/plain": [
              "   Unnamed: 0  sex  age  education  currentSmoker  cigsPerDay  BPMeds  \\\n",
              "0        1267    1   58        1.0              0         0.0     0.0   \n",
              "1        1209    0   40        1.0              1        15.0     0.0   \n",
              "2        2050    0   52        1.0              0         0.0     0.0   \n",
              "3        1183    1   38        2.0              1        43.0     0.0   \n",
              "4        3225    0   43        1.0              0         0.0     0.0   \n",
              "\n",
              "   prevalentStroke  prevalentHyp  diabetes  totChol  sysBP  diaBP    BMI  \\\n",
              "0                0             0         0    220.0  143.0  104.0  29.85   \n",
              "1                0             0         0    199.0  122.0   82.0  22.16   \n",
              "2                0             0         0    275.0  112.0   71.0  25.68   \n",
              "3                0             1         0    170.0  130.0   94.0  23.90   \n",
              "4                0             0         0    202.0  124.0   92.0  21.26   \n",
              "\n",
              "   heartRate  glucose  TenYearCHD  \n",
              "0         75     87.0           1  \n",
              "1         85     77.0           0  \n",
              "2         80      NaN           0  \n",
              "3        110     75.0           0  \n",
              "4         75     74.0           0  "
            ],
            "text/html": [
              "\n",
              "  <div id=\"df-e9522200-3f1d-4e03-9527-0aa41bdf6453\" class=\"colab-df-container\">\n",
              "    <div>\n",
              "<style scoped>\n",
              "    .dataframe tbody tr th:only-of-type {\n",
              "        vertical-align: middle;\n",
              "    }\n",
              "\n",
              "    .dataframe tbody tr th {\n",
              "        vertical-align: top;\n",
              "    }\n",
              "\n",
              "    .dataframe thead th {\n",
              "        text-align: right;\n",
              "    }\n",
              "</style>\n",
              "<table border=\"1\" class=\"dataframe\">\n",
              "  <thead>\n",
              "    <tr style=\"text-align: right;\">\n",
              "      <th></th>\n",
              "      <th>Unnamed: 0</th>\n",
              "      <th>sex</th>\n",
              "      <th>age</th>\n",
              "      <th>education</th>\n",
              "      <th>currentSmoker</th>\n",
              "      <th>cigsPerDay</th>\n",
              "      <th>BPMeds</th>\n",
              "      <th>prevalentStroke</th>\n",
              "      <th>prevalentHyp</th>\n",
              "      <th>diabetes</th>\n",
              "      <th>totChol</th>\n",
              "      <th>sysBP</th>\n",
              "      <th>diaBP</th>\n",
              "      <th>BMI</th>\n",
              "      <th>heartRate</th>\n",
              "      <th>glucose</th>\n",
              "      <th>TenYearCHD</th>\n",
              "    </tr>\n",
              "  </thead>\n",
              "  <tbody>\n",
              "    <tr>\n",
              "      <th>0</th>\n",
              "      <td>1267</td>\n",
              "      <td>1</td>\n",
              "      <td>58</td>\n",
              "      <td>1.0</td>\n",
              "      <td>0</td>\n",
              "      <td>0.0</td>\n",
              "      <td>0.0</td>\n",
              "      <td>0</td>\n",
              "      <td>0</td>\n",
              "      <td>0</td>\n",
              "      <td>220.0</td>\n",
              "      <td>143.0</td>\n",
              "      <td>104.0</td>\n",
              "      <td>29.85</td>\n",
              "      <td>75</td>\n",
              "      <td>87.0</td>\n",
              "      <td>1</td>\n",
              "    </tr>\n",
              "    <tr>\n",
              "      <th>1</th>\n",
              "      <td>1209</td>\n",
              "      <td>0</td>\n",
              "      <td>40</td>\n",
              "      <td>1.0</td>\n",
              "      <td>1</td>\n",
              "      <td>15.0</td>\n",
              "      <td>0.0</td>\n",
              "      <td>0</td>\n",
              "      <td>0</td>\n",
              "      <td>0</td>\n",
              "      <td>199.0</td>\n",
              "      <td>122.0</td>\n",
              "      <td>82.0</td>\n",
              "      <td>22.16</td>\n",
              "      <td>85</td>\n",
              "      <td>77.0</td>\n",
              "      <td>0</td>\n",
              "    </tr>\n",
              "    <tr>\n",
              "      <th>2</th>\n",
              "      <td>2050</td>\n",
              "      <td>0</td>\n",
              "      <td>52</td>\n",
              "      <td>1.0</td>\n",
              "      <td>0</td>\n",
              "      <td>0.0</td>\n",
              "      <td>0.0</td>\n",
              "      <td>0</td>\n",
              "      <td>0</td>\n",
              "      <td>0</td>\n",
              "      <td>275.0</td>\n",
              "      <td>112.0</td>\n",
              "      <td>71.0</td>\n",
              "      <td>25.68</td>\n",
              "      <td>80</td>\n",
              "      <td>NaN</td>\n",
              "      <td>0</td>\n",
              "    </tr>\n",
              "    <tr>\n",
              "      <th>3</th>\n",
              "      <td>1183</td>\n",
              "      <td>1</td>\n",
              "      <td>38</td>\n",
              "      <td>2.0</td>\n",
              "      <td>1</td>\n",
              "      <td>43.0</td>\n",
              "      <td>0.0</td>\n",
              "      <td>0</td>\n",
              "      <td>1</td>\n",
              "      <td>0</td>\n",
              "      <td>170.0</td>\n",
              "      <td>130.0</td>\n",
              "      <td>94.0</td>\n",
              "      <td>23.90</td>\n",
              "      <td>110</td>\n",
              "      <td>75.0</td>\n",
              "      <td>0</td>\n",
              "    </tr>\n",
              "    <tr>\n",
              "      <th>4</th>\n",
              "      <td>3225</td>\n",
              "      <td>0</td>\n",
              "      <td>43</td>\n",
              "      <td>1.0</td>\n",
              "      <td>0</td>\n",
              "      <td>0.0</td>\n",
              "      <td>0.0</td>\n",
              "      <td>0</td>\n",
              "      <td>0</td>\n",
              "      <td>0</td>\n",
              "      <td>202.0</td>\n",
              "      <td>124.0</td>\n",
              "      <td>92.0</td>\n",
              "      <td>21.26</td>\n",
              "      <td>75</td>\n",
              "      <td>74.0</td>\n",
              "      <td>0</td>\n",
              "    </tr>\n",
              "  </tbody>\n",
              "</table>\n",
              "</div>\n",
              "    <div class=\"colab-df-buttons\">\n",
              "\n",
              "  <div class=\"colab-df-container\">\n",
              "    <button class=\"colab-df-convert\" onclick=\"convertToInteractive('df-e9522200-3f1d-4e03-9527-0aa41bdf6453')\"\n",
              "            title=\"Convert this dataframe to an interactive table.\"\n",
              "            style=\"display:none;\">\n",
              "\n",
              "  <svg xmlns=\"http://www.w3.org/2000/svg\" height=\"24px\" viewBox=\"0 -960 960 960\">\n",
              "    <path d=\"M120-120v-720h720v720H120Zm60-500h600v-160H180v160Zm220 220h160v-160H400v160Zm0 220h160v-160H400v160ZM180-400h160v-160H180v160Zm440 0h160v-160H620v160ZM180-180h160v-160H180v160Zm440 0h160v-160H620v160Z\"/>\n",
              "  </svg>\n",
              "    </button>\n",
              "\n",
              "  <style>\n",
              "    .colab-df-container {\n",
              "      display:flex;\n",
              "      gap: 12px;\n",
              "    }\n",
              "\n",
              "    .colab-df-convert {\n",
              "      background-color: #E8F0FE;\n",
              "      border: none;\n",
              "      border-radius: 50%;\n",
              "      cursor: pointer;\n",
              "      display: none;\n",
              "      fill: #1967D2;\n",
              "      height: 32px;\n",
              "      padding: 0 0 0 0;\n",
              "      width: 32px;\n",
              "    }\n",
              "\n",
              "    .colab-df-convert:hover {\n",
              "      background-color: #E2EBFA;\n",
              "      box-shadow: 0px 1px 2px rgba(60, 64, 67, 0.3), 0px 1px 3px 1px rgba(60, 64, 67, 0.15);\n",
              "      fill: #174EA6;\n",
              "    }\n",
              "\n",
              "    .colab-df-buttons div {\n",
              "      margin-bottom: 4px;\n",
              "    }\n",
              "\n",
              "    [theme=dark] .colab-df-convert {\n",
              "      background-color: #3B4455;\n",
              "      fill: #D2E3FC;\n",
              "    }\n",
              "\n",
              "    [theme=dark] .colab-df-convert:hover {\n",
              "      background-color: #434B5C;\n",
              "      box-shadow: 0px 1px 3px 1px rgba(0, 0, 0, 0.15);\n",
              "      filter: drop-shadow(0px 1px 2px rgba(0, 0, 0, 0.3));\n",
              "      fill: #FFFFFF;\n",
              "    }\n",
              "  </style>\n",
              "\n",
              "    <script>\n",
              "      const buttonEl =\n",
              "        document.querySelector('#df-e9522200-3f1d-4e03-9527-0aa41bdf6453 button.colab-df-convert');\n",
              "      buttonEl.style.display =\n",
              "        google.colab.kernel.accessAllowed ? 'block' : 'none';\n",
              "\n",
              "      async function convertToInteractive(key) {\n",
              "        const element = document.querySelector('#df-e9522200-3f1d-4e03-9527-0aa41bdf6453');\n",
              "        const dataTable =\n",
              "          await google.colab.kernel.invokeFunction('convertToInteractive',\n",
              "                                                    [key], {});\n",
              "        if (!dataTable) return;\n",
              "\n",
              "        const docLinkHtml = 'Like what you see? Visit the ' +\n",
              "          '<a target=\"_blank\" href=https://colab.research.google.com/notebooks/data_table.ipynb>data table notebook</a>'\n",
              "          + ' to learn more about interactive tables.';\n",
              "        element.innerHTML = '';\n",
              "        dataTable['output_type'] = 'display_data';\n",
              "        await google.colab.output.renderOutput(dataTable, element);\n",
              "        const docLink = document.createElement('div');\n",
              "        docLink.innerHTML = docLinkHtml;\n",
              "        element.appendChild(docLink);\n",
              "      }\n",
              "    </script>\n",
              "  </div>\n",
              "\n",
              "\n",
              "<div id=\"df-f662a97c-eea2-414a-904b-164245e5ce6b\">\n",
              "  <button class=\"colab-df-quickchart\" onclick=\"quickchart('df-f662a97c-eea2-414a-904b-164245e5ce6b')\"\n",
              "            title=\"Suggest charts\"\n",
              "            style=\"display:none;\">\n",
              "\n",
              "<svg xmlns=\"http://www.w3.org/2000/svg\" height=\"24px\"viewBox=\"0 0 24 24\"\n",
              "     width=\"24px\">\n",
              "    <g>\n",
              "        <path d=\"M19 3H5c-1.1 0-2 .9-2 2v14c0 1.1.9 2 2 2h14c1.1 0 2-.9 2-2V5c0-1.1-.9-2-2-2zM9 17H7v-7h2v7zm4 0h-2V7h2v10zm4 0h-2v-4h2v4z\"/>\n",
              "    </g>\n",
              "</svg>\n",
              "  </button>\n",
              "\n",
              "<style>\n",
              "  .colab-df-quickchart {\n",
              "      --bg-color: #E8F0FE;\n",
              "      --fill-color: #1967D2;\n",
              "      --hover-bg-color: #E2EBFA;\n",
              "      --hover-fill-color: #174EA6;\n",
              "      --disabled-fill-color: #AAA;\n",
              "      --disabled-bg-color: #DDD;\n",
              "  }\n",
              "\n",
              "  [theme=dark] .colab-df-quickchart {\n",
              "      --bg-color: #3B4455;\n",
              "      --fill-color: #D2E3FC;\n",
              "      --hover-bg-color: #434B5C;\n",
              "      --hover-fill-color: #FFFFFF;\n",
              "      --disabled-bg-color: #3B4455;\n",
              "      --disabled-fill-color: #666;\n",
              "  }\n",
              "\n",
              "  .colab-df-quickchart {\n",
              "    background-color: var(--bg-color);\n",
              "    border: none;\n",
              "    border-radius: 50%;\n",
              "    cursor: pointer;\n",
              "    display: none;\n",
              "    fill: var(--fill-color);\n",
              "    height: 32px;\n",
              "    padding: 0;\n",
              "    width: 32px;\n",
              "  }\n",
              "\n",
              "  .colab-df-quickchart:hover {\n",
              "    background-color: var(--hover-bg-color);\n",
              "    box-shadow: 0 1px 2px rgba(60, 64, 67, 0.3), 0 1px 3px 1px rgba(60, 64, 67, 0.15);\n",
              "    fill: var(--button-hover-fill-color);\n",
              "  }\n",
              "\n",
              "  .colab-df-quickchart-complete:disabled,\n",
              "  .colab-df-quickchart-complete:disabled:hover {\n",
              "    background-color: var(--disabled-bg-color);\n",
              "    fill: var(--disabled-fill-color);\n",
              "    box-shadow: none;\n",
              "  }\n",
              "\n",
              "  .colab-df-spinner {\n",
              "    border: 2px solid var(--fill-color);\n",
              "    border-color: transparent;\n",
              "    border-bottom-color: var(--fill-color);\n",
              "    animation:\n",
              "      spin 1s steps(1) infinite;\n",
              "  }\n",
              "\n",
              "  @keyframes spin {\n",
              "    0% {\n",
              "      border-color: transparent;\n",
              "      border-bottom-color: var(--fill-color);\n",
              "      border-left-color: var(--fill-color);\n",
              "    }\n",
              "    20% {\n",
              "      border-color: transparent;\n",
              "      border-left-color: var(--fill-color);\n",
              "      border-top-color: var(--fill-color);\n",
              "    }\n",
              "    30% {\n",
              "      border-color: transparent;\n",
              "      border-left-color: var(--fill-color);\n",
              "      border-top-color: var(--fill-color);\n",
              "      border-right-color: var(--fill-color);\n",
              "    }\n",
              "    40% {\n",
              "      border-color: transparent;\n",
              "      border-right-color: var(--fill-color);\n",
              "      border-top-color: var(--fill-color);\n",
              "    }\n",
              "    60% {\n",
              "      border-color: transparent;\n",
              "      border-right-color: var(--fill-color);\n",
              "    }\n",
              "    80% {\n",
              "      border-color: transparent;\n",
              "      border-right-color: var(--fill-color);\n",
              "      border-bottom-color: var(--fill-color);\n",
              "    }\n",
              "    90% {\n",
              "      border-color: transparent;\n",
              "      border-bottom-color: var(--fill-color);\n",
              "    }\n",
              "  }\n",
              "</style>\n",
              "\n",
              "  <script>\n",
              "    async function quickchart(key) {\n",
              "      const quickchartButtonEl =\n",
              "        document.querySelector('#' + key + ' button');\n",
              "      quickchartButtonEl.disabled = true;  // To prevent multiple clicks.\n",
              "      quickchartButtonEl.classList.add('colab-df-spinner');\n",
              "      try {\n",
              "        const charts = await google.colab.kernel.invokeFunction(\n",
              "            'suggestCharts', [key], {});\n",
              "      } catch (error) {\n",
              "        console.error('Error during call to suggestCharts:', error);\n",
              "      }\n",
              "      quickchartButtonEl.classList.remove('colab-df-spinner');\n",
              "      quickchartButtonEl.classList.add('colab-df-quickchart-complete');\n",
              "    }\n",
              "    (() => {\n",
              "      let quickchartButtonEl =\n",
              "        document.querySelector('#df-f662a97c-eea2-414a-904b-164245e5ce6b button');\n",
              "      quickchartButtonEl.style.display =\n",
              "        google.colab.kernel.accessAllowed ? 'block' : 'none';\n",
              "    })();\n",
              "  </script>\n",
              "</div>\n",
              "    </div>\n",
              "  </div>\n"
            ],
            "application/vnd.google.colaboratory.intrinsic+json": {
              "type": "dataframe",
              "variable_name": "chd_train",
              "summary": "{\n  \"name\": \"chd_train\",\n  \"rows\": 3180,\n  \"fields\": [\n    {\n      \"column\": \"Unnamed: 0\",\n      \"properties\": {\n        \"dtype\": \"number\",\n        \"std\": 1231,\n        \"min\": 1,\n        \"max\": 4240,\n        \"num_unique_values\": 3180,\n        \"samples\": [\n          3896,\n          2879,\n          3270\n        ],\n        \"semantic_type\": \"\",\n        \"description\": \"\"\n      }\n    },\n    {\n      \"column\": \"sex\",\n      \"properties\": {\n        \"dtype\": \"number\",\n        \"std\": 0,\n        \"min\": 0,\n        \"max\": 1,\n        \"num_unique_values\": 2,\n        \"samples\": [\n          0,\n          1\n        ],\n        \"semantic_type\": \"\",\n        \"description\": \"\"\n      }\n    },\n    {\n      \"column\": \"age\",\n      \"properties\": {\n        \"dtype\": \"number\",\n        \"std\": 8,\n        \"min\": 32,\n        \"max\": 70,\n        \"num_unique_values\": 39,\n        \"samples\": [\n          67,\n          32\n        ],\n        \"semantic_type\": \"\",\n        \"description\": \"\"\n      }\n    },\n    {\n      \"column\": \"education\",\n      \"properties\": {\n        \"dtype\": \"number\",\n        \"std\": 1.011134624909823,\n        \"min\": 1.0,\n        \"max\": 4.0,\n        \"num_unique_values\": 4,\n        \"samples\": [\n          2.0,\n          3.0\n        ],\n        \"semantic_type\": \"\",\n        \"description\": \"\"\n      }\n    },\n    {\n      \"column\": \"currentSmoker\",\n      \"properties\": {\n        \"dtype\": \"number\",\n        \"std\": 0,\n        \"min\": 0,\n        \"max\": 1,\n        \"num_unique_values\": 2,\n        \"samples\": [\n          1,\n          0\n        ],\n        \"semantic_type\": \"\",\n        \"description\": \"\"\n      }\n    },\n    {\n      \"column\": \"cigsPerDay\",\n      \"properties\": {\n        \"dtype\": \"number\",\n        \"std\": 12.013704001555473,\n        \"min\": 0.0,\n        \"max\": 70.0,\n        \"num_unique_values\": 33,\n        \"samples\": [\n          38.0,\n          8.0\n        ],\n        \"semantic_type\": \"\",\n        \"description\": \"\"\n      }\n    },\n    {\n      \"column\": \"BPMeds\",\n      \"properties\": {\n        \"dtype\": \"number\",\n        \"std\": 0.16947908596200822,\n        \"min\": 0.0,\n        \"max\": 1.0,\n        \"num_unique_values\": 2,\n        \"samples\": [\n          1.0,\n          0.0\n        ],\n        \"semantic_type\": \"\",\n        \"description\": \"\"\n      }\n    },\n    {\n      \"column\": \"prevalentStroke\",\n      \"properties\": {\n        \"dtype\": \"number\",\n        \"std\": 0,\n        \"min\": 0,\n        \"max\": 1,\n        \"num_unique_values\": 2,\n        \"samples\": [\n          1,\n          0\n        ],\n        \"semantic_type\": \"\",\n        \"description\": \"\"\n      }\n    },\n    {\n      \"column\": \"prevalentHyp\",\n      \"properties\": {\n        \"dtype\": \"number\",\n        \"std\": 0,\n        \"min\": 0,\n        \"max\": 1,\n        \"num_unique_values\": 2,\n        \"samples\": [\n          1,\n          0\n        ],\n        \"semantic_type\": \"\",\n        \"description\": \"\"\n      }\n    },\n    {\n      \"column\": \"diabetes\",\n      \"properties\": {\n        \"dtype\": \"number\",\n        \"std\": 0,\n        \"min\": 0,\n        \"max\": 1,\n        \"num_unique_values\": 2,\n        \"samples\": [\n          1,\n          0\n        ],\n        \"semantic_type\": \"\",\n        \"description\": \"\"\n      }\n    },\n    {\n      \"column\": \"totChol\",\n      \"properties\": {\n        \"dtype\": \"number\",\n        \"std\": 44.847410643806406,\n        \"min\": 107.0,\n        \"max\": 696.0,\n        \"num_unique_values\": 243,\n        \"samples\": [\n          180.0,\n          237.0\n        ],\n        \"semantic_type\": \"\",\n        \"description\": \"\"\n      }\n    },\n    {\n      \"column\": \"sysBP\",\n      \"properties\": {\n        \"dtype\": \"number\",\n        \"std\": 22.433266948078337,\n        \"min\": 83.5,\n        \"max\": 295.0,\n        \"num_unique_values\": 229,\n        \"samples\": [\n          181.5,\n          174.0\n        ],\n        \"semantic_type\": \"\",\n        \"description\": \"\"\n      }\n    },\n    {\n      \"column\": \"diaBP\",\n      \"properties\": {\n        \"dtype\": \"number\",\n        \"std\": 12.009212492738772,\n        \"min\": 50.0,\n        \"max\": 142.5,\n        \"num_unique_values\": 139,\n        \"samples\": [\n          142.5,\n          70.5\n        ],\n        \"semantic_type\": \"\",\n        \"description\": \"\"\n      }\n    },\n    {\n      \"column\": \"BMI\",\n      \"properties\": {\n        \"dtype\": \"number\",\n        \"std\": 4.130474751655827,\n        \"min\": 15.54,\n        \"max\": 56.8,\n        \"num_unique_values\": 1234,\n        \"samples\": [\n          26.87,\n          29.18\n        ],\n        \"semantic_type\": \"\",\n        \"description\": \"\"\n      }\n    },\n    {\n      \"column\": \"heartRate\",\n      \"properties\": {\n        \"dtype\": \"number\",\n        \"std\": 12,\n        \"min\": 44,\n        \"max\": 140,\n        \"num_unique_values\": 70,\n        \"samples\": [\n          69,\n          75\n        ],\n        \"semantic_type\": \"\",\n        \"description\": \"\"\n      }\n    },\n    {\n      \"column\": \"glucose\",\n      \"properties\": {\n        \"dtype\": \"number\",\n        \"std\": 23.625356737313467,\n        \"min\": 40.0,\n        \"max\": 394.0,\n        \"num_unique_values\": 130,\n        \"samples\": [\n          118.0,\n          88.0\n        ],\n        \"semantic_type\": \"\",\n        \"description\": \"\"\n      }\n    },\n    {\n      \"column\": \"TenYearCHD\",\n      \"properties\": {\n        \"dtype\": \"number\",\n        \"std\": 0,\n        \"min\": 0,\n        \"max\": 1,\n        \"num_unique_values\": 2,\n        \"samples\": [\n          0,\n          1\n        ],\n        \"semantic_type\": \"\",\n        \"description\": \"\"\n      }\n    }\n  ]\n}"
            }
          },
          "metadata": {},
          "execution_count": 8
        }
      ]
    },
    {
      "cell_type": "code",
      "source": [
        "print(chd_train.shape)\n",
        "print(chd_train.dtypes)"
      ],
      "metadata": {
        "colab": {
          "base_uri": "https://localhost:8080/"
        },
        "id": "iaSHoTn56tp0",
        "outputId": "4fe5c66d-735a-4568-9db6-d07629973eff"
      },
      "execution_count": 13,
      "outputs": [
        {
          "output_type": "stream",
          "name": "stdout",
          "text": [
            "(3180, 17)\n",
            "Unnamed: 0           int64\n",
            "sex                  int64\n",
            "age                  int64\n",
            "education          float64\n",
            "currentSmoker        int64\n",
            "cigsPerDay         float64\n",
            "BPMeds             float64\n",
            "prevalentStroke      int64\n",
            "prevalentHyp         int64\n",
            "diabetes             int64\n",
            "totChol            float64\n",
            "sysBP              float64\n",
            "diaBP              float64\n",
            "BMI                float64\n",
            "heartRate            int64\n",
            "glucose            float64\n",
            "TenYearCHD           int64\n",
            "dtype: object\n"
          ]
        }
      ]
    },
    {
      "cell_type": "code",
      "source": [
        "for each in chd_train.columns:\n",
        "    print(f\"{each}: {chd_train[each].isnull().sum()}\")"
      ],
      "metadata": {
        "colab": {
          "base_uri": "https://localhost:8080/"
        },
        "id": "AK42l1mx7unl",
        "outputId": "fb24971a-5220-4bb3-9337-63fc95d6c0f4"
      },
      "execution_count": 14,
      "outputs": [
        {
          "output_type": "stream",
          "name": "stdout",
          "text": [
            "Unnamed: 0: 0\n",
            "sex: 0\n",
            "age: 0\n",
            "education: 85\n",
            "currentSmoker: 0\n",
            "cigsPerDay: 24\n",
            "BPMeds: 37\n",
            "prevalentStroke: 0\n",
            "prevalentHyp: 0\n",
            "diabetes: 0\n",
            "totChol: 39\n",
            "sysBP: 0\n",
            "diaBP: 0\n",
            "BMI: 15\n",
            "heartRate: 0\n",
            "glucose: 285\n",
            "TenYearCHD: 0\n"
          ]
        }
      ]
    },
    {
      "cell_type": "markdown",
      "source": [
        "###Cleaning\n",
        "***********"
      ],
      "metadata": {
        "id": "zYhzclDR8Djv"
      }
    },
    {
      "cell_type": "markdown",
      "source": [
        "#####sex\n",
        "*********"
      ],
      "metadata": {
        "id": "U_aFuYZ9_6gk"
      }
    },
    {
      "cell_type": "markdown",
      "source": [
        "Decision:"
      ],
      "metadata": {
        "id": "YrXGx2V6TRbp"
      }
    },
    {
      "cell_type": "code",
      "source": [
        "chd_train['sex'].value_counts()"
      ],
      "metadata": {
        "colab": {
          "base_uri": "https://localhost:8080/"
        },
        "outputId": "2b6b6d1d-bc41-4bf8-9fdd-06d231ca846c",
        "id": "eAcoBpBK_9My"
      },
      "execution_count": 32,
      "outputs": [
        {
          "output_type": "execute_result",
          "data": {
            "text/plain": [
              "sex\n",
              "0    1803\n",
              "1    1377\n",
              "Name: count, dtype: int64"
            ]
          },
          "metadata": {},
          "execution_count": 32
        }
      ]
    },
    {
      "cell_type": "code",
      "source": [
        "chd_train['sex'].isna().sum()"
      ],
      "metadata": {
        "colab": {
          "base_uri": "https://localhost:8080/"
        },
        "id": "0TWa8EvpJrC2",
        "outputId": "0828e639-b5b9-4e43-ab20-fd6e2dbec3fa"
      },
      "execution_count": 78,
      "outputs": [
        {
          "output_type": "execute_result",
          "data": {
            "text/plain": [
              "0"
            ]
          },
          "metadata": {},
          "execution_count": 78
        }
      ]
    },
    {
      "cell_type": "markdown",
      "source": [
        "#####age\n",
        "**********"
      ],
      "metadata": {
        "id": "mx5dpofD_9My"
      }
    },
    {
      "cell_type": "markdown",
      "source": [
        "Decision:"
      ],
      "metadata": {
        "id": "Lhzd-bhlTXzW"
      }
    },
    {
      "cell_type": "code",
      "source": [
        "chd_train['age'].value_counts()"
      ],
      "metadata": {
        "colab": {
          "base_uri": "https://localhost:8080/"
        },
        "outputId": "aef8feb8-ffde-4e66-8276-59a098129209",
        "id": "jJumNDkj_9My"
      },
      "execution_count": 77,
      "outputs": [
        {
          "output_type": "execute_result",
          "data": {
            "text/plain": [
              "age\n",
              "48    139\n",
              "42    139\n",
              "40    138\n",
              "46    137\n",
              "41    136\n",
              "39    125\n",
              "45    125\n",
              "43    116\n",
              "44    116\n",
              "55    113\n",
              "52    113\n",
              "38    112\n",
              "47    107\n",
              "53    104\n",
              "54    103\n",
              "51    101\n",
              "50    100\n",
              "49    100\n",
              "56     93\n",
              "58     91\n",
              "60     90\n",
              "61     87\n",
              "59     86\n",
              "63     85\n",
              "57     84\n",
              "62     75\n",
              "64     66\n",
              "37     63\n",
              "36     60\n",
              "65     50\n",
              "67     31\n",
              "35     30\n",
              "66     29\n",
              "34     14\n",
              "68     10\n",
              "33      5\n",
              "69      4\n",
              "70      2\n",
              "32      1\n",
              "Name: count, dtype: int64"
            ]
          },
          "metadata": {},
          "execution_count": 77
        }
      ]
    },
    {
      "cell_type": "code",
      "source": [
        "chd_train['age'].isna().sum()"
      ],
      "metadata": {
        "colab": {
          "base_uri": "https://localhost:8080/"
        },
        "id": "rWGeDohIJu18",
        "outputId": "0bd2bbcd-60f8-45f4-d84f-8a4d35f6a2d6"
      },
      "execution_count": 79,
      "outputs": [
        {
          "output_type": "execute_result",
          "data": {
            "text/plain": [
              "0"
            ]
          },
          "metadata": {},
          "execution_count": 79
        }
      ]
    },
    {
      "cell_type": "markdown",
      "source": [
        "#####education\n",
        "************"
      ],
      "metadata": {
        "id": "G0tS7Z3g_9Mz"
      }
    },
    {
      "cell_type": "markdown",
      "source": [
        "Decision:"
      ],
      "metadata": {
        "id": "eC7j32QbTZay"
      }
    },
    {
      "cell_type": "code",
      "source": [
        "chd_train['education'].value_counts()"
      ],
      "metadata": {
        "colab": {
          "base_uri": "https://localhost:8080/"
        },
        "outputId": "4e65c2a5-2e9f-441e-ff9b-a1d0483e6818",
        "id": "i3QK5WP0_9Mz"
      },
      "execution_count": 34,
      "outputs": [
        {
          "output_type": "execute_result",
          "data": {
            "text/plain": [
              "education\n",
              "1.0    1310\n",
              "2.0     949\n",
              "3.0     495\n",
              "4.0     341\n",
              "Name: count, dtype: int64"
            ]
          },
          "metadata": {},
          "execution_count": 34
        }
      ]
    },
    {
      "cell_type": "code",
      "source": [
        "chd_train['education'].isna().sum()"
      ],
      "metadata": {
        "colab": {
          "base_uri": "https://localhost:8080/"
        },
        "id": "XMebIuVuJwCs",
        "outputId": "4dd24185-b19b-49c5-bf4f-2cf58f0cc81f"
      },
      "execution_count": 80,
      "outputs": [
        {
          "output_type": "execute_result",
          "data": {
            "text/plain": [
              "85"
            ]
          },
          "metadata": {},
          "execution_count": 80
        }
      ]
    },
    {
      "cell_type": "markdown",
      "source": [
        "#####currentSmoker\n",
        "***********"
      ],
      "metadata": {
        "id": "F1ylsDfb_9Mz"
      }
    },
    {
      "cell_type": "markdown",
      "source": [
        "Decision:"
      ],
      "metadata": {
        "id": "vphvVO6kTbjG"
      }
    },
    {
      "cell_type": "code",
      "source": [
        "chd_train['currentSmoker'].value_counts()"
      ],
      "metadata": {
        "colab": {
          "base_uri": "https://localhost:8080/"
        },
        "outputId": "3a477f24-1ada-4820-a044-26a2cf3959f6",
        "id": "gS_cujSI_9Mz"
      },
      "execution_count": 35,
      "outputs": [
        {
          "output_type": "execute_result",
          "data": {
            "text/plain": [
              "currentSmoker\n",
              "0    1619\n",
              "1    1561\n",
              "Name: count, dtype: int64"
            ]
          },
          "metadata": {},
          "execution_count": 35
        }
      ]
    },
    {
      "cell_type": "code",
      "source": [
        "chd_train['currentSmoker'].isna().sum()"
      ],
      "metadata": {
        "colab": {
          "base_uri": "https://localhost:8080/"
        },
        "id": "-SXQ3s1wJyb9",
        "outputId": "9db55c4a-d663-4a8c-86af-8b124fc4a16c"
      },
      "execution_count": 81,
      "outputs": [
        {
          "output_type": "execute_result",
          "data": {
            "text/plain": [
              "0"
            ]
          },
          "metadata": {},
          "execution_count": 81
        }
      ]
    },
    {
      "cell_type": "markdown",
      "source": [
        "#####cigsPerDay\n",
        "**************"
      ],
      "metadata": {
        "id": "DRUT6lwj_9Mz"
      }
    },
    {
      "cell_type": "markdown",
      "source": [
        "Decision:"
      ],
      "metadata": {
        "id": "Q9rOSNO3TlpC"
      }
    },
    {
      "cell_type": "code",
      "source": [
        "chd_train['cigsPerDay'].value_counts()"
      ],
      "metadata": {
        "colab": {
          "base_uri": "https://localhost:8080/"
        },
        "outputId": "32bde0cb-0520-40c7-a344-12a12c3b9c6f",
        "id": "o5ot8R69_9M0"
      },
      "execution_count": 36,
      "outputs": [
        {
          "output_type": "execute_result",
          "data": {
            "text/plain": [
              "cigsPerDay\n",
              "0.0     1619\n",
              "20.0     528\n",
              "30.0     172\n",
              "15.0     159\n",
              "10.0     108\n",
              "5.0       95\n",
              "9.0       94\n",
              "3.0       73\n",
              "40.0      67\n",
              "1.0       53\n",
              "43.0      40\n",
              "25.0      33\n",
              "35.0      16\n",
              "6.0       15\n",
              "2.0       13\n",
              "8.0       10\n",
              "60.0       9\n",
              "7.0        9\n",
              "18.0       7\n",
              "23.0       5\n",
              "11.0       5\n",
              "50.0       5\n",
              "4.0        4\n",
              "17.0       4\n",
              "16.0       3\n",
              "12.0       2\n",
              "19.0       2\n",
              "29.0       1\n",
              "14.0       1\n",
              "70.0       1\n",
              "45.0       1\n",
              "38.0       1\n",
              "13.0       1\n",
              "Name: count, dtype: int64"
            ]
          },
          "metadata": {},
          "execution_count": 36
        }
      ]
    },
    {
      "cell_type": "code",
      "source": [
        "chd_train['cigsPerDay'].isna().sum()"
      ],
      "metadata": {
        "colab": {
          "base_uri": "https://localhost:8080/"
        },
        "id": "Llgdm9-tJ1mM",
        "outputId": "6a31fe78-35a8-48e9-e8cf-27461edc94d8"
      },
      "execution_count": 82,
      "outputs": [
        {
          "output_type": "execute_result",
          "data": {
            "text/plain": [
              "24"
            ]
          },
          "metadata": {},
          "execution_count": 82
        }
      ]
    },
    {
      "cell_type": "markdown",
      "source": [
        "#####BPMeds\n",
        "**********"
      ],
      "metadata": {
        "id": "fforHXMt_9M0"
      }
    },
    {
      "cell_type": "markdown",
      "source": [
        "Decision:"
      ],
      "metadata": {
        "id": "-iwS0FObTnPm"
      }
    },
    {
      "cell_type": "code",
      "source": [
        "chd_train['BPMeds'].value_counts()"
      ],
      "metadata": {
        "colab": {
          "base_uri": "https://localhost:8080/"
        },
        "outputId": "d8a31e85-72e9-4bbc-eb49-5297ec2a5020",
        "id": "GNcJQ4KO_9M0"
      },
      "execution_count": 37,
      "outputs": [
        {
          "output_type": "execute_result",
          "data": {
            "text/plain": [
              "BPMeds\n",
              "0.0    3050\n",
              "1.0      93\n",
              "Name: count, dtype: int64"
            ]
          },
          "metadata": {},
          "execution_count": 37
        }
      ]
    },
    {
      "cell_type": "code",
      "source": [
        "chd_train['BPMeds'].isna().sum()"
      ],
      "metadata": {
        "colab": {
          "base_uri": "https://localhost:8080/"
        },
        "id": "EKWbYK5PJ6TD",
        "outputId": "591eb00c-b0e0-41fb-fc7c-e157d371ba63"
      },
      "execution_count": 83,
      "outputs": [
        {
          "output_type": "execute_result",
          "data": {
            "text/plain": [
              "37"
            ]
          },
          "metadata": {},
          "execution_count": 83
        }
      ]
    },
    {
      "cell_type": "markdown",
      "source": [
        "#####prevalentStroke\n",
        "**********"
      ],
      "metadata": {
        "id": "jstZGbAA_9M0"
      }
    },
    {
      "cell_type": "markdown",
      "source": [
        "Decision:"
      ],
      "metadata": {
        "id": "FWh8QoC_Tog5"
      }
    },
    {
      "cell_type": "code",
      "source": [
        "chd_train['prevalentStroke'].value_counts()"
      ],
      "metadata": {
        "colab": {
          "base_uri": "https://localhost:8080/"
        },
        "outputId": "a188e9c6-3a6d-40ac-92d5-78a0569903cf",
        "id": "UoQit3ef_9M1"
      },
      "execution_count": 38,
      "outputs": [
        {
          "output_type": "execute_result",
          "data": {
            "text/plain": [
              "prevalentStroke\n",
              "0    3159\n",
              "1      21\n",
              "Name: count, dtype: int64"
            ]
          },
          "metadata": {},
          "execution_count": 38
        }
      ]
    },
    {
      "cell_type": "code",
      "source": [
        "chd_train['prevalentStroke'].isna().sum()"
      ],
      "metadata": {
        "colab": {
          "base_uri": "https://localhost:8080/"
        },
        "id": "-_uLzCXxJ9Zz",
        "outputId": "c237eed8-7f90-4dcd-aed2-a69c590ee099"
      },
      "execution_count": 84,
      "outputs": [
        {
          "output_type": "execute_result",
          "data": {
            "text/plain": [
              "0"
            ]
          },
          "metadata": {},
          "execution_count": 84
        }
      ]
    },
    {
      "cell_type": "markdown",
      "source": [
        "#####prevalentHyp\n",
        "************"
      ],
      "metadata": {
        "id": "3RNDFOLe_9M1"
      }
    },
    {
      "cell_type": "markdown",
      "source": [
        "Decision:"
      ],
      "metadata": {
        "id": "zXR-JP9fTpi3"
      }
    },
    {
      "cell_type": "code",
      "source": [
        "chd_train['prevalentHyp'].value_counts()"
      ],
      "metadata": {
        "colab": {
          "base_uri": "https://localhost:8080/"
        },
        "outputId": "6fa99391-7aab-48f9-96f8-7f44fba7fd17",
        "id": "V3snmuOL_9M1"
      },
      "execution_count": 39,
      "outputs": [
        {
          "output_type": "execute_result",
          "data": {
            "text/plain": [
              "prevalentHyp\n",
              "0    2159\n",
              "1    1021\n",
              "Name: count, dtype: int64"
            ]
          },
          "metadata": {},
          "execution_count": 39
        }
      ]
    },
    {
      "cell_type": "code",
      "source": [
        "chd_train['prevalentHyp'].isna().sum()"
      ],
      "metadata": {
        "colab": {
          "base_uri": "https://localhost:8080/"
        },
        "id": "ZK4Os3a8KAUi",
        "outputId": "1db4fbd9-4769-47f0-ee74-53b2c8fcb51b"
      },
      "execution_count": 85,
      "outputs": [
        {
          "output_type": "execute_result",
          "data": {
            "text/plain": [
              "0"
            ]
          },
          "metadata": {},
          "execution_count": 85
        }
      ]
    },
    {
      "cell_type": "markdown",
      "source": [
        "#####diabetes\n",
        "**********"
      ],
      "metadata": {
        "id": "8VGyQXH-_9M1"
      }
    },
    {
      "cell_type": "markdown",
      "source": [
        "Decision:"
      ],
      "metadata": {
        "id": "6cjkxhzeTqk0"
      }
    },
    {
      "cell_type": "code",
      "source": [
        "chd_train['diabetes'].value_counts()"
      ],
      "metadata": {
        "colab": {
          "base_uri": "https://localhost:8080/"
        },
        "outputId": "37c8976d-4ea3-435c-f774-b5bef5166237",
        "id": "44gYM_CS_9M1"
      },
      "execution_count": 40,
      "outputs": [
        {
          "output_type": "execute_result",
          "data": {
            "text/plain": [
              "diabetes\n",
              "0    3097\n",
              "1      83\n",
              "Name: count, dtype: int64"
            ]
          },
          "metadata": {},
          "execution_count": 40
        }
      ]
    },
    {
      "cell_type": "code",
      "source": [
        "chd_train['diabetes'].isna().sum()"
      ],
      "metadata": {
        "colab": {
          "base_uri": "https://localhost:8080/"
        },
        "id": "_qsmBSdvKEVq",
        "outputId": "8aeddd80-9d2f-4bbd-a2b8-8bec8e95118b"
      },
      "execution_count": 86,
      "outputs": [
        {
          "output_type": "execute_result",
          "data": {
            "text/plain": [
              "0"
            ]
          },
          "metadata": {},
          "execution_count": 86
        }
      ]
    },
    {
      "cell_type": "markdown",
      "source": [
        "#####totChol\n",
        "***********"
      ],
      "metadata": {
        "id": "gmoOiYBG_9M2"
      }
    },
    {
      "cell_type": "markdown",
      "source": [
        "Decision:"
      ],
      "metadata": {
        "id": "HYz19NtATrjI"
      }
    },
    {
      "cell_type": "code",
      "source": [
        "chd_train['totChol'].value_counts()"
      ],
      "metadata": {
        "colab": {
          "base_uri": "https://localhost:8080/"
        },
        "outputId": "f1b705ec-3639-46f2-993f-7c0ee0e860dd",
        "id": "V0tN7btL_9M2"
      },
      "execution_count": 41,
      "outputs": [
        {
          "output_type": "execute_result",
          "data": {
            "text/plain": [
              "totChol\n",
              "240.0    63\n",
              "220.0    50\n",
              "232.0    49\n",
              "260.0    48\n",
              "210.0    45\n",
              "         ..\n",
              "385.0     1\n",
              "359.0     1\n",
              "355.0     1\n",
              "119.0     1\n",
              "392.0     1\n",
              "Name: count, Length: 243, dtype: int64"
            ]
          },
          "metadata": {},
          "execution_count": 41
        }
      ]
    },
    {
      "cell_type": "code",
      "source": [
        "chd_train['totChol'].isna().sum()"
      ],
      "metadata": {
        "colab": {
          "base_uri": "https://localhost:8080/"
        },
        "id": "EnOVw4gRKHd6",
        "outputId": "b8f65220-43b7-4b2d-cde3-697aa07d88eb"
      },
      "execution_count": 87,
      "outputs": [
        {
          "output_type": "execute_result",
          "data": {
            "text/plain": [
              "39"
            ]
          },
          "metadata": {},
          "execution_count": 87
        }
      ]
    },
    {
      "cell_type": "markdown",
      "source": [
        "#####sysBP\n",
        "***********"
      ],
      "metadata": {
        "id": "fcjNRKVG_9M2"
      }
    },
    {
      "cell_type": "markdown",
      "source": [
        "Decision:"
      ],
      "metadata": {
        "id": "RXzmSqnqTsaU"
      }
    },
    {
      "cell_type": "code",
      "source": [
        "chd_train['sysBP'].value_counts()"
      ],
      "metadata": {
        "colab": {
          "base_uri": "https://localhost:8080/"
        },
        "outputId": "82e13c7e-db57-4390-a3b0-1e0fef8dfcb9",
        "id": "3yqrniDI_9M2"
      },
      "execution_count": 42,
      "outputs": [
        {
          "output_type": "execute_result",
          "data": {
            "text/plain": [
              "sysBP\n",
              "110.0    72\n",
              "130.0    71\n",
              "120.0    70\n",
              "115.0    69\n",
              "125.0    68\n",
              "         ..\n",
              "213.0     1\n",
              "187.5     1\n",
              "85.0      1\n",
              "201.0     1\n",
              "169.5     1\n",
              "Name: count, Length: 229, dtype: int64"
            ]
          },
          "metadata": {},
          "execution_count": 42
        }
      ]
    },
    {
      "cell_type": "code",
      "source": [
        "chd_train['sysBP'].isna().sum()"
      ],
      "metadata": {
        "colab": {
          "base_uri": "https://localhost:8080/"
        },
        "id": "VTJwZXBOKPFu",
        "outputId": "9f513ce4-31dc-4464-abb9-69c753e7dfdc"
      },
      "execution_count": 88,
      "outputs": [
        {
          "output_type": "execute_result",
          "data": {
            "text/plain": [
              "0"
            ]
          },
          "metadata": {},
          "execution_count": 88
        }
      ]
    },
    {
      "cell_type": "markdown",
      "source": [
        "#####diaBP\n",
        "**************"
      ],
      "metadata": {
        "id": "Wb_oFA09_9M2"
      }
    },
    {
      "cell_type": "markdown",
      "source": [
        "Decision:"
      ],
      "metadata": {
        "id": "2s-8xXcFTtfo"
      }
    },
    {
      "cell_type": "code",
      "source": [
        "chd_train['diaBP'].value_counts()"
      ],
      "metadata": {
        "colab": {
          "base_uri": "https://localhost:8080/"
        },
        "outputId": "d83d2125-e860-4fe2-c73f-5a3c66971746",
        "id": "dgyfRJBU_9M2"
      },
      "execution_count": 43,
      "outputs": [
        {
          "output_type": "execute_result",
          "data": {
            "text/plain": [
              "diaBP\n",
              "80.0     198\n",
              "82.0     106\n",
              "84.0     102\n",
              "85.0     102\n",
              "81.0      98\n",
              "        ... \n",
              "115.5      1\n",
              "135.0      1\n",
              "110.5      1\n",
              "129.0      1\n",
              "122.5      1\n",
              "Name: count, Length: 139, dtype: int64"
            ]
          },
          "metadata": {},
          "execution_count": 43
        }
      ]
    },
    {
      "cell_type": "code",
      "source": [
        "chd_train['diaBP'].isna().sum()"
      ],
      "metadata": {
        "colab": {
          "base_uri": "https://localhost:8080/"
        },
        "id": "9gKo3ob_KRze",
        "outputId": "fe48abb5-42cd-4b86-8467-486902a29e92"
      },
      "execution_count": 89,
      "outputs": [
        {
          "output_type": "execute_result",
          "data": {
            "text/plain": [
              "0"
            ]
          },
          "metadata": {},
          "execution_count": 89
        }
      ]
    },
    {
      "cell_type": "markdown",
      "source": [
        "#####BMI\n",
        "************"
      ],
      "metadata": {
        "id": "TD5tbEG2_9M3"
      }
    },
    {
      "cell_type": "markdown",
      "source": [
        "Decision:"
      ],
      "metadata": {
        "id": "wPnZJ9mbTufh"
      }
    },
    {
      "cell_type": "code",
      "source": [
        "chd_train['BMI'].value_counts()"
      ],
      "metadata": {
        "colab": {
          "base_uri": "https://localhost:8080/"
        },
        "outputId": "797e8af9-27b6-4fc9-b9dc-eeebf11ca140",
        "id": "1LqCawpj_9M3"
      },
      "execution_count": 44,
      "outputs": [
        {
          "output_type": "execute_result",
          "data": {
            "text/plain": [
              "BMI\n",
              "23.48    17\n",
              "22.91    15\n",
              "22.54    12\n",
              "23.09    12\n",
              "25.09    11\n",
              "         ..\n",
              "17.65     1\n",
              "29.46     1\n",
              "32.81     1\n",
              "23.83     1\n",
              "26.78     1\n",
              "Name: count, Length: 1234, dtype: int64"
            ]
          },
          "metadata": {},
          "execution_count": 44
        }
      ]
    },
    {
      "cell_type": "code",
      "source": [
        "chd_train['BMI'].isna().sum()"
      ],
      "metadata": {
        "colab": {
          "base_uri": "https://localhost:8080/"
        },
        "id": "ZQcmStlhKT6Q",
        "outputId": "42715f39-ba82-4447-ac37-4a120107aeee"
      },
      "execution_count": 90,
      "outputs": [
        {
          "output_type": "execute_result",
          "data": {
            "text/plain": [
              "15"
            ]
          },
          "metadata": {},
          "execution_count": 90
        }
      ]
    },
    {
      "cell_type": "markdown",
      "source": [
        "#####heartRate\n",
        "**********"
      ],
      "metadata": {
        "id": "6m26tcxV_9M3"
      }
    },
    {
      "cell_type": "markdown",
      "source": [
        "Decision:"
      ],
      "metadata": {
        "id": "EmPtwulfTvbc"
      }
    },
    {
      "cell_type": "code",
      "source": [
        "chd_train['heartRate'].value_counts()"
      ],
      "metadata": {
        "colab": {
          "base_uri": "https://localhost:8080/"
        },
        "outputId": "2865cac3-1cda-4ae8-ed44-b58afe560838",
        "id": "AvgUtXjS_9M3"
      },
      "execution_count": 45,
      "outputs": [
        {
          "output_type": "execute_result",
          "data": {
            "text/plain": [
              "heartRate\n",
              "75     428\n",
              "80     273\n",
              "70     226\n",
              "60     174\n",
              "85     170\n",
              "      ... \n",
              "51       1\n",
              "46       1\n",
              "97       1\n",
              "47       1\n",
              "130      1\n",
              "Name: count, Length: 70, dtype: int64"
            ]
          },
          "metadata": {},
          "execution_count": 45
        }
      ]
    },
    {
      "cell_type": "code",
      "source": [
        "chd_train['heartRate'].isna().sum()"
      ],
      "metadata": {
        "colab": {
          "base_uri": "https://localhost:8080/"
        },
        "id": "8pdYPCDHKWb7",
        "outputId": "8c6129cb-35ce-4a1b-be8d-3c15bceacc2f"
      },
      "execution_count": 91,
      "outputs": [
        {
          "output_type": "execute_result",
          "data": {
            "text/plain": [
              "0"
            ]
          },
          "metadata": {},
          "execution_count": 91
        }
      ]
    },
    {
      "cell_type": "markdown",
      "source": [
        "#####glucose\n",
        "************"
      ],
      "metadata": {
        "id": "vEajBXiT_9M3"
      }
    },
    {
      "cell_type": "markdown",
      "source": [
        "Decision:"
      ],
      "metadata": {
        "id": "MYfJi_y8Tw22"
      }
    },
    {
      "cell_type": "code",
      "source": [
        "chd_train['glucose'].value_counts()"
      ],
      "metadata": {
        "colab": {
          "base_uri": "https://localhost:8080/"
        },
        "outputId": "830e5915-6e38-46c6-8ce8-a21fcfffb143",
        "id": "Wfpy67G6_9M3"
      },
      "execution_count": 46,
      "outputs": [
        {
          "output_type": "execute_result",
          "data": {
            "text/plain": [
              "glucose\n",
              "75.0     147\n",
              "77.0     126\n",
              "73.0     119\n",
              "80.0     117\n",
              "70.0     113\n",
              "        ... \n",
              "348.0      1\n",
              "119.0      1\n",
              "320.0      1\n",
              "136.0      1\n",
              "186.0      1\n",
              "Name: count, Length: 130, dtype: int64"
            ]
          },
          "metadata": {},
          "execution_count": 46
        }
      ]
    },
    {
      "cell_type": "code",
      "source": [
        "chd_train['glucose'].isna().sum()"
      ],
      "metadata": {
        "colab": {
          "base_uri": "https://localhost:8080/"
        },
        "id": "C9nOmOb5KZH2",
        "outputId": "396d1a68-b3a9-4c6c-a871-645c2501ead8"
      },
      "execution_count": 92,
      "outputs": [
        {
          "output_type": "execute_result",
          "data": {
            "text/plain": [
              "285"
            ]
          },
          "metadata": {},
          "execution_count": 92
        }
      ]
    },
    {
      "cell_type": "markdown",
      "source": [
        "#####TenYearCHD\n",
        "*************"
      ],
      "metadata": {
        "id": "kWSQOmIc_9M3"
      }
    },
    {
      "cell_type": "markdown",
      "source": [
        "Decision:"
      ],
      "metadata": {
        "id": "kFajwvssTx2G"
      }
    },
    {
      "cell_type": "code",
      "source": [
        "chd_train['TenYearCHD'].value_counts()"
      ],
      "metadata": {
        "colab": {
          "base_uri": "https://localhost:8080/"
        },
        "outputId": "00f58ded-20dd-4222-9721-731cbbdd685b",
        "id": "js6e-K5p_9M4"
      },
      "execution_count": 47,
      "outputs": [
        {
          "output_type": "execute_result",
          "data": {
            "text/plain": [
              "TenYearCHD\n",
              "0    2693\n",
              "1     487\n",
              "Name: count, dtype: int64"
            ]
          },
          "metadata": {},
          "execution_count": 47
        }
      ]
    },
    {
      "cell_type": "code",
      "source": [
        "chd_train['TenYearCHD'].isna().sum()"
      ],
      "metadata": {
        "colab": {
          "base_uri": "https://localhost:8080/"
        },
        "id": "XKXzz60L_6_5",
        "outputId": "bb1c90c2-2ef8-4dcf-8aec-f8933a480a72"
      },
      "execution_count": 93,
      "outputs": [
        {
          "output_type": "execute_result",
          "data": {
            "text/plain": [
              "0"
            ]
          },
          "metadata": {},
          "execution_count": 93
        }
      ]
    }
  ]
}