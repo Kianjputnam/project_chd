{
  "nbformat": 4,
  "nbformat_minor": 0,
  "metadata": {
    "colab": {
      "provenance": [],
      "authorship_tag": "ABX9TyPsJ05IWXMytltlJewxveEp",
      "include_colab_link": true
    },
    "kernelspec": {
      "name": "python3",
      "display_name": "Python 3"
    },
    "language_info": {
      "name": "python"
    }
  },
  "cells": [
    {
      "cell_type": "markdown",
      "metadata": {
        "id": "view-in-github",
        "colab_type": "text"
      },
      "source": [
        "<a href=\"https://colab.research.google.com/github/Kianjputnam/project_chd/blob/main/Chd_Cleaning.ipynb\" target=\"_parent\"><img src=\"https://colab.research.google.com/assets/colab-badge.svg\" alt=\"Open In Colab\"/></a>"
      ]
    },
    {
      "cell_type": "markdown",
      "source": [
        "##**Import libraries**\n",
        "******"
      ],
      "metadata": {
        "id": "SRV8JYUX5ivs"
      }
    },
    {
      "cell_type": "code",
      "source": [
        "import pandas as pd\n",
        "import numpy as np"
      ],
      "metadata": {
        "id": "oHABpsOv4vYf"
      },
      "execution_count": 241,
      "outputs": []
    },
    {
      "cell_type": "markdown",
      "source": [
        "##**Load and inspect data**\n",
        "*********"
      ],
      "metadata": {
        "id": "TCLAvJzE6Dax"
      }
    },
    {
      "cell_type": "code",
      "execution_count": 242,
      "metadata": {
        "colab": {
          "base_uri": "https://localhost:8080/"
        },
        "id": "6uyOC6ct4fpy",
        "outputId": "1a5f282d-b886-494c-8d75-af83ffae9dd9"
      },
      "outputs": [
        {
          "output_type": "stream",
          "name": "stdout",
          "text": [
            "fatal: destination path 'project_chd' already exists and is not an empty directory.\n"
          ]
        }
      ],
      "source": [
        "! git clone https://www.github.com/Kianjputnam/project_chd"
      ]
    },
    {
      "cell_type": "code",
      "source": [
        "chd_test = pd.read_csv(\"./project_chd/fhs_test.csv\")"
      ],
      "metadata": {
        "id": "Yblm0m1J41Lh"
      },
      "execution_count": 243,
      "outputs": []
    },
    {
      "cell_type": "code",
      "source": [
        "chd_train = pd.read_csv(\"./project_chd/fhs_train.csv\")"
      ],
      "metadata": {
        "id": "Tfv1NMmA48QO"
      },
      "execution_count": 244,
      "outputs": []
    },
    {
      "cell_type": "markdown",
      "source": [
        "Given that predictive models generally don't do well with na values, I made the following decisions for variables\n",
        "\n",
        "* Categorical variables: dropped na values and mapped encodings to proper categorical values in new columns. This allows for the models to run with the one-hot encodings and for visuals to be done with categorical values\n",
        "* Numerical variables: converted na values into the median values\n",
        "\n",
        "**In categorical variables which the na's were dropped, this only removed 3.3% of the testing data and 3.8% of the training data"
      ],
      "metadata": {
        "id": "kdGXXZOZRssj"
      }
    },
    {
      "cell_type": "markdown",
      "source": [
        "##**Test cleaning**\n",
        "**********"
      ],
      "metadata": {
        "id": "kFyBzy8p6Y7B"
      }
    },
    {
      "cell_type": "markdown",
      "source": [
        "###Exploration\n",
        "****************"
      ],
      "metadata": {
        "id": "5Ez7_Z5I7Odj"
      }
    },
    {
      "cell_type": "code",
      "source": [
        "chd_test.head()"
      ],
      "metadata": {
        "colab": {
          "base_uri": "https://localhost:8080/",
          "height": 243
        },
        "id": "Y2-6rw1_6lqw",
        "outputId": "e26acf16-296a-45f5-85c4-35a132464d84"
      },
      "execution_count": 245,
      "outputs": [
        {
          "output_type": "execute_result",
          "data": {
            "text/plain": [
              "   Unnamed: 0  sex  age  education  currentSmoker  cigsPerDay  BPMeds  \\\n",
              "0         674    0   58        1.0              1        20.0     0.0   \n",
              "1        4070    0   51        3.0              0         0.0     0.0   \n",
              "2        3150    0   44        2.0              1         9.0     0.0   \n",
              "3        1695    0   40        2.0              1        20.0     0.0   \n",
              "4        2692    1   58        2.0              1        20.0     0.0   \n",
              "\n",
              "   prevalentStroke  prevalentHyp  diabetes  totChol  sysBP  diaBP    BMI  \\\n",
              "0                0             0         0      NaN  126.0   77.0  30.08   \n",
              "1                0             0         0    264.0  135.0   83.0  26.68   \n",
              "2                0             1         0      NaN  147.5   96.0  30.57   \n",
              "3                0             0         0    271.0  138.5   88.0  27.24   \n",
              "4                0             0         0    207.0  110.0   80.0  23.55   \n",
              "\n",
              "   heartRate  glucose  TenYearCHD  \n",
              "0       78.0      NaN           0  \n",
              "1       60.0     74.0           0  \n",
              "2       78.0      NaN           1  \n",
              "3       80.0      NaN           1  \n",
              "4       78.0     78.0           0  "
            ],
            "text/html": [
              "\n",
              "  <div id=\"df-2cf4ef73-4592-402a-8f47-d4402e177fb3\" class=\"colab-df-container\">\n",
              "    <div>\n",
              "<style scoped>\n",
              "    .dataframe tbody tr th:only-of-type {\n",
              "        vertical-align: middle;\n",
              "    }\n",
              "\n",
              "    .dataframe tbody tr th {\n",
              "        vertical-align: top;\n",
              "    }\n",
              "\n",
              "    .dataframe thead th {\n",
              "        text-align: right;\n",
              "    }\n",
              "</style>\n",
              "<table border=\"1\" class=\"dataframe\">\n",
              "  <thead>\n",
              "    <tr style=\"text-align: right;\">\n",
              "      <th></th>\n",
              "      <th>Unnamed: 0</th>\n",
              "      <th>sex</th>\n",
              "      <th>age</th>\n",
              "      <th>education</th>\n",
              "      <th>currentSmoker</th>\n",
              "      <th>cigsPerDay</th>\n",
              "      <th>BPMeds</th>\n",
              "      <th>prevalentStroke</th>\n",
              "      <th>prevalentHyp</th>\n",
              "      <th>diabetes</th>\n",
              "      <th>totChol</th>\n",
              "      <th>sysBP</th>\n",
              "      <th>diaBP</th>\n",
              "      <th>BMI</th>\n",
              "      <th>heartRate</th>\n",
              "      <th>glucose</th>\n",
              "      <th>TenYearCHD</th>\n",
              "    </tr>\n",
              "  </thead>\n",
              "  <tbody>\n",
              "    <tr>\n",
              "      <th>0</th>\n",
              "      <td>674</td>\n",
              "      <td>0</td>\n",
              "      <td>58</td>\n",
              "      <td>1.0</td>\n",
              "      <td>1</td>\n",
              "      <td>20.0</td>\n",
              "      <td>0.0</td>\n",
              "      <td>0</td>\n",
              "      <td>0</td>\n",
              "      <td>0</td>\n",
              "      <td>NaN</td>\n",
              "      <td>126.0</td>\n",
              "      <td>77.0</td>\n",
              "      <td>30.08</td>\n",
              "      <td>78.0</td>\n",
              "      <td>NaN</td>\n",
              "      <td>0</td>\n",
              "    </tr>\n",
              "    <tr>\n",
              "      <th>1</th>\n",
              "      <td>4070</td>\n",
              "      <td>0</td>\n",
              "      <td>51</td>\n",
              "      <td>3.0</td>\n",
              "      <td>0</td>\n",
              "      <td>0.0</td>\n",
              "      <td>0.0</td>\n",
              "      <td>0</td>\n",
              "      <td>0</td>\n",
              "      <td>0</td>\n",
              "      <td>264.0</td>\n",
              "      <td>135.0</td>\n",
              "      <td>83.0</td>\n",
              "      <td>26.68</td>\n",
              "      <td>60.0</td>\n",
              "      <td>74.0</td>\n",
              "      <td>0</td>\n",
              "    </tr>\n",
              "    <tr>\n",
              "      <th>2</th>\n",
              "      <td>3150</td>\n",
              "      <td>0</td>\n",
              "      <td>44</td>\n",
              "      <td>2.0</td>\n",
              "      <td>1</td>\n",
              "      <td>9.0</td>\n",
              "      <td>0.0</td>\n",
              "      <td>0</td>\n",
              "      <td>1</td>\n",
              "      <td>0</td>\n",
              "      <td>NaN</td>\n",
              "      <td>147.5</td>\n",
              "      <td>96.0</td>\n",
              "      <td>30.57</td>\n",
              "      <td>78.0</td>\n",
              "      <td>NaN</td>\n",
              "      <td>1</td>\n",
              "    </tr>\n",
              "    <tr>\n",
              "      <th>3</th>\n",
              "      <td>1695</td>\n",
              "      <td>0</td>\n",
              "      <td>40</td>\n",
              "      <td>2.0</td>\n",
              "      <td>1</td>\n",
              "      <td>20.0</td>\n",
              "      <td>0.0</td>\n",
              "      <td>0</td>\n",
              "      <td>0</td>\n",
              "      <td>0</td>\n",
              "      <td>271.0</td>\n",
              "      <td>138.5</td>\n",
              "      <td>88.0</td>\n",
              "      <td>27.24</td>\n",
              "      <td>80.0</td>\n",
              "      <td>NaN</td>\n",
              "      <td>1</td>\n",
              "    </tr>\n",
              "    <tr>\n",
              "      <th>4</th>\n",
              "      <td>2692</td>\n",
              "      <td>1</td>\n",
              "      <td>58</td>\n",
              "      <td>2.0</td>\n",
              "      <td>1</td>\n",
              "      <td>20.0</td>\n",
              "      <td>0.0</td>\n",
              "      <td>0</td>\n",
              "      <td>0</td>\n",
              "      <td>0</td>\n",
              "      <td>207.0</td>\n",
              "      <td>110.0</td>\n",
              "      <td>80.0</td>\n",
              "      <td>23.55</td>\n",
              "      <td>78.0</td>\n",
              "      <td>78.0</td>\n",
              "      <td>0</td>\n",
              "    </tr>\n",
              "  </tbody>\n",
              "</table>\n",
              "</div>\n",
              "    <div class=\"colab-df-buttons\">\n",
              "\n",
              "  <div class=\"colab-df-container\">\n",
              "    <button class=\"colab-df-convert\" onclick=\"convertToInteractive('df-2cf4ef73-4592-402a-8f47-d4402e177fb3')\"\n",
              "            title=\"Convert this dataframe to an interactive table.\"\n",
              "            style=\"display:none;\">\n",
              "\n",
              "  <svg xmlns=\"http://www.w3.org/2000/svg\" height=\"24px\" viewBox=\"0 -960 960 960\">\n",
              "    <path d=\"M120-120v-720h720v720H120Zm60-500h600v-160H180v160Zm220 220h160v-160H400v160Zm0 220h160v-160H400v160ZM180-400h160v-160H180v160Zm440 0h160v-160H620v160ZM180-180h160v-160H180v160Zm440 0h160v-160H620v160Z\"/>\n",
              "  </svg>\n",
              "    </button>\n",
              "\n",
              "  <style>\n",
              "    .colab-df-container {\n",
              "      display:flex;\n",
              "      gap: 12px;\n",
              "    }\n",
              "\n",
              "    .colab-df-convert {\n",
              "      background-color: #E8F0FE;\n",
              "      border: none;\n",
              "      border-radius: 50%;\n",
              "      cursor: pointer;\n",
              "      display: none;\n",
              "      fill: #1967D2;\n",
              "      height: 32px;\n",
              "      padding: 0 0 0 0;\n",
              "      width: 32px;\n",
              "    }\n",
              "\n",
              "    .colab-df-convert:hover {\n",
              "      background-color: #E2EBFA;\n",
              "      box-shadow: 0px 1px 2px rgba(60, 64, 67, 0.3), 0px 1px 3px 1px rgba(60, 64, 67, 0.15);\n",
              "      fill: #174EA6;\n",
              "    }\n",
              "\n",
              "    .colab-df-buttons div {\n",
              "      margin-bottom: 4px;\n",
              "    }\n",
              "\n",
              "    [theme=dark] .colab-df-convert {\n",
              "      background-color: #3B4455;\n",
              "      fill: #D2E3FC;\n",
              "    }\n",
              "\n",
              "    [theme=dark] .colab-df-convert:hover {\n",
              "      background-color: #434B5C;\n",
              "      box-shadow: 0px 1px 3px 1px rgba(0, 0, 0, 0.15);\n",
              "      filter: drop-shadow(0px 1px 2px rgba(0, 0, 0, 0.3));\n",
              "      fill: #FFFFFF;\n",
              "    }\n",
              "  </style>\n",
              "\n",
              "    <script>\n",
              "      const buttonEl =\n",
              "        document.querySelector('#df-2cf4ef73-4592-402a-8f47-d4402e177fb3 button.colab-df-convert');\n",
              "      buttonEl.style.display =\n",
              "        google.colab.kernel.accessAllowed ? 'block' : 'none';\n",
              "\n",
              "      async function convertToInteractive(key) {\n",
              "        const element = document.querySelector('#df-2cf4ef73-4592-402a-8f47-d4402e177fb3');\n",
              "        const dataTable =\n",
              "          await google.colab.kernel.invokeFunction('convertToInteractive',\n",
              "                                                    [key], {});\n",
              "        if (!dataTable) return;\n",
              "\n",
              "        const docLinkHtml = 'Like what you see? Visit the ' +\n",
              "          '<a target=\"_blank\" href=https://colab.research.google.com/notebooks/data_table.ipynb>data table notebook</a>'\n",
              "          + ' to learn more about interactive tables.';\n",
              "        element.innerHTML = '';\n",
              "        dataTable['output_type'] = 'display_data';\n",
              "        await google.colab.output.renderOutput(dataTable, element);\n",
              "        const docLink = document.createElement('div');\n",
              "        docLink.innerHTML = docLinkHtml;\n",
              "        element.appendChild(docLink);\n",
              "      }\n",
              "    </script>\n",
              "  </div>\n",
              "\n",
              "\n",
              "<div id=\"df-9e2a3e27-e575-4fa1-9155-65b323ea97dd\">\n",
              "  <button class=\"colab-df-quickchart\" onclick=\"quickchart('df-9e2a3e27-e575-4fa1-9155-65b323ea97dd')\"\n",
              "            title=\"Suggest charts\"\n",
              "            style=\"display:none;\">\n",
              "\n",
              "<svg xmlns=\"http://www.w3.org/2000/svg\" height=\"24px\"viewBox=\"0 0 24 24\"\n",
              "     width=\"24px\">\n",
              "    <g>\n",
              "        <path d=\"M19 3H5c-1.1 0-2 .9-2 2v14c0 1.1.9 2 2 2h14c1.1 0 2-.9 2-2V5c0-1.1-.9-2-2-2zM9 17H7v-7h2v7zm4 0h-2V7h2v10zm4 0h-2v-4h2v4z\"/>\n",
              "    </g>\n",
              "</svg>\n",
              "  </button>\n",
              "\n",
              "<style>\n",
              "  .colab-df-quickchart {\n",
              "      --bg-color: #E8F0FE;\n",
              "      --fill-color: #1967D2;\n",
              "      --hover-bg-color: #E2EBFA;\n",
              "      --hover-fill-color: #174EA6;\n",
              "      --disabled-fill-color: #AAA;\n",
              "      --disabled-bg-color: #DDD;\n",
              "  }\n",
              "\n",
              "  [theme=dark] .colab-df-quickchart {\n",
              "      --bg-color: #3B4455;\n",
              "      --fill-color: #D2E3FC;\n",
              "      --hover-bg-color: #434B5C;\n",
              "      --hover-fill-color: #FFFFFF;\n",
              "      --disabled-bg-color: #3B4455;\n",
              "      --disabled-fill-color: #666;\n",
              "  }\n",
              "\n",
              "  .colab-df-quickchart {\n",
              "    background-color: var(--bg-color);\n",
              "    border: none;\n",
              "    border-radius: 50%;\n",
              "    cursor: pointer;\n",
              "    display: none;\n",
              "    fill: var(--fill-color);\n",
              "    height: 32px;\n",
              "    padding: 0;\n",
              "    width: 32px;\n",
              "  }\n",
              "\n",
              "  .colab-df-quickchart:hover {\n",
              "    background-color: var(--hover-bg-color);\n",
              "    box-shadow: 0 1px 2px rgba(60, 64, 67, 0.3), 0 1px 3px 1px rgba(60, 64, 67, 0.15);\n",
              "    fill: var(--button-hover-fill-color);\n",
              "  }\n",
              "\n",
              "  .colab-df-quickchart-complete:disabled,\n",
              "  .colab-df-quickchart-complete:disabled:hover {\n",
              "    background-color: var(--disabled-bg-color);\n",
              "    fill: var(--disabled-fill-color);\n",
              "    box-shadow: none;\n",
              "  }\n",
              "\n",
              "  .colab-df-spinner {\n",
              "    border: 2px solid var(--fill-color);\n",
              "    border-color: transparent;\n",
              "    border-bottom-color: var(--fill-color);\n",
              "    animation:\n",
              "      spin 1s steps(1) infinite;\n",
              "  }\n",
              "\n",
              "  @keyframes spin {\n",
              "    0% {\n",
              "      border-color: transparent;\n",
              "      border-bottom-color: var(--fill-color);\n",
              "      border-left-color: var(--fill-color);\n",
              "    }\n",
              "    20% {\n",
              "      border-color: transparent;\n",
              "      border-left-color: var(--fill-color);\n",
              "      border-top-color: var(--fill-color);\n",
              "    }\n",
              "    30% {\n",
              "      border-color: transparent;\n",
              "      border-left-color: var(--fill-color);\n",
              "      border-top-color: var(--fill-color);\n",
              "      border-right-color: var(--fill-color);\n",
              "    }\n",
              "    40% {\n",
              "      border-color: transparent;\n",
              "      border-right-color: var(--fill-color);\n",
              "      border-top-color: var(--fill-color);\n",
              "    }\n",
              "    60% {\n",
              "      border-color: transparent;\n",
              "      border-right-color: var(--fill-color);\n",
              "    }\n",
              "    80% {\n",
              "      border-color: transparent;\n",
              "      border-right-color: var(--fill-color);\n",
              "      border-bottom-color: var(--fill-color);\n",
              "    }\n",
              "    90% {\n",
              "      border-color: transparent;\n",
              "      border-bottom-color: var(--fill-color);\n",
              "    }\n",
              "  }\n",
              "</style>\n",
              "\n",
              "  <script>\n",
              "    async function quickchart(key) {\n",
              "      const quickchartButtonEl =\n",
              "        document.querySelector('#' + key + ' button');\n",
              "      quickchartButtonEl.disabled = true;  // To prevent multiple clicks.\n",
              "      quickchartButtonEl.classList.add('colab-df-spinner');\n",
              "      try {\n",
              "        const charts = await google.colab.kernel.invokeFunction(\n",
              "            'suggestCharts', [key], {});\n",
              "      } catch (error) {\n",
              "        console.error('Error during call to suggestCharts:', error);\n",
              "      }\n",
              "      quickchartButtonEl.classList.remove('colab-df-spinner');\n",
              "      quickchartButtonEl.classList.add('colab-df-quickchart-complete');\n",
              "    }\n",
              "    (() => {\n",
              "      let quickchartButtonEl =\n",
              "        document.querySelector('#df-9e2a3e27-e575-4fa1-9155-65b323ea97dd button');\n",
              "      quickchartButtonEl.style.display =\n",
              "        google.colab.kernel.accessAllowed ? 'block' : 'none';\n",
              "    })();\n",
              "  </script>\n",
              "</div>\n",
              "    </div>\n",
              "  </div>\n"
            ],
            "application/vnd.google.colaboratory.intrinsic+json": {
              "type": "dataframe",
              "variable_name": "chd_test",
              "summary": "{\n  \"name\": \"chd_test\",\n  \"rows\": 1060,\n  \"fields\": [\n    {\n      \"column\": \"Unnamed: 0\",\n      \"properties\": {\n        \"dtype\": \"number\",\n        \"std\": 1201,\n        \"min\": 4,\n        \"max\": 4235,\n        \"num_unique_values\": 1060,\n        \"samples\": [\n          2821,\n          4008,\n          3085\n        ],\n        \"semantic_type\": \"\",\n        \"description\": \"\"\n      }\n    },\n    {\n      \"column\": \"sex\",\n      \"properties\": {\n        \"dtype\": \"number\",\n        \"std\": 0,\n        \"min\": 0,\n        \"max\": 1,\n        \"num_unique_values\": 2,\n        \"samples\": [\n          1,\n          0\n        ],\n        \"semantic_type\": \"\",\n        \"description\": \"\"\n      }\n    },\n    {\n      \"column\": \"age\",\n      \"properties\": {\n        \"dtype\": \"number\",\n        \"std\": 8,\n        \"min\": 34,\n        \"max\": 69,\n        \"num_unique_values\": 36,\n        \"samples\": [\n          69,\n          47\n        ],\n        \"semantic_type\": \"\",\n        \"description\": \"\"\n      }\n    },\n    {\n      \"column\": \"education\",\n      \"properties\": {\n        \"dtype\": \"number\",\n        \"std\": 1.042773664643174,\n        \"min\": 1.0,\n        \"max\": 4.0,\n        \"num_unique_values\": 4,\n        \"samples\": [\n          3.0,\n          4.0\n        ],\n        \"semantic_type\": \"\",\n        \"description\": \"\"\n      }\n    },\n    {\n      \"column\": \"currentSmoker\",\n      \"properties\": {\n        \"dtype\": \"number\",\n        \"std\": 0,\n        \"min\": 0,\n        \"max\": 1,\n        \"num_unique_values\": 2,\n        \"samples\": [\n          0,\n          1\n        ],\n        \"semantic_type\": \"\",\n        \"description\": \"\"\n      }\n    },\n    {\n      \"column\": \"cigsPerDay\",\n      \"properties\": {\n        \"dtype\": \"number\",\n        \"std\": 11.650215278273134,\n        \"min\": 0.0,\n        \"max\": 60.0,\n        \"num_unique_values\": 27,\n        \"samples\": [\n          1.0,\n          43.0\n        ],\n        \"semantic_type\": \"\",\n        \"description\": \"\"\n      }\n    },\n    {\n      \"column\": \"BPMeds\",\n      \"properties\": {\n        \"dtype\": \"number\",\n        \"std\": 0.169821692953555,\n        \"min\": 0.0,\n        \"max\": 1.0,\n        \"num_unique_values\": 2,\n        \"samples\": [\n          1.0,\n          0.0\n        ],\n        \"semantic_type\": \"\",\n        \"description\": \"\"\n      }\n    },\n    {\n      \"column\": \"prevalentStroke\",\n      \"properties\": {\n        \"dtype\": \"number\",\n        \"std\": 0,\n        \"min\": 0,\n        \"max\": 1,\n        \"num_unique_values\": 2,\n        \"samples\": [\n          1,\n          0\n        ],\n        \"semantic_type\": \"\",\n        \"description\": \"\"\n      }\n    },\n    {\n      \"column\": \"prevalentHyp\",\n      \"properties\": {\n        \"dtype\": \"number\",\n        \"std\": 0,\n        \"min\": 0,\n        \"max\": 1,\n        \"num_unique_values\": 2,\n        \"samples\": [\n          1,\n          0\n        ],\n        \"semantic_type\": \"\",\n        \"description\": \"\"\n      }\n    },\n    {\n      \"column\": \"diabetes\",\n      \"properties\": {\n        \"dtype\": \"number\",\n        \"std\": 0,\n        \"min\": 0,\n        \"max\": 1,\n        \"num_unique_values\": 2,\n        \"samples\": [\n          1,\n          0\n        ],\n        \"semantic_type\": \"\",\n        \"description\": \"\"\n      }\n    },\n    {\n      \"column\": \"totChol\",\n      \"properties\": {\n        \"dtype\": \"number\",\n        \"std\": 43.83523296407875,\n        \"min\": 124.0,\n        \"max\": 453.0,\n        \"num_unique_values\": 196,\n        \"samples\": [\n          135.0,\n          195.0\n        ],\n        \"semantic_type\": \"\",\n        \"description\": \"\"\n      }\n    },\n    {\n      \"column\": \"sysBP\",\n      \"properties\": {\n        \"dtype\": \"number\",\n        \"std\": 20.74399096663064,\n        \"min\": 92.5,\n        \"max\": 215.0,\n        \"num_unique_values\": 167,\n        \"samples\": [\n          166.0,\n          124.5\n        ],\n        \"semantic_type\": \"\",\n        \"description\": \"\"\n      }\n    },\n    {\n      \"column\": \"diaBP\",\n      \"properties\": {\n        \"dtype\": \"number\",\n        \"std\": 11.58941470102808,\n        \"min\": 48.0,\n        \"max\": 140.0,\n        \"num_unique_values\": 117,\n        \"samples\": [\n          66.5,\n          80.0\n        ],\n        \"semantic_type\": \"\",\n        \"description\": \"\"\n      }\n    },\n    {\n      \"column\": \"BMI\",\n      \"properties\": {\n        \"dtype\": \"number\",\n        \"std\": 3.914417613932532,\n        \"min\": 15.96,\n        \"max\": 45.79,\n        \"num_unique_values\": 666,\n        \"samples\": [\n          24.9,\n          24.8\n        ],\n        \"semantic_type\": \"\",\n        \"description\": \"\"\n      }\n    },\n    {\n      \"column\": \"heartRate\",\n      \"properties\": {\n        \"dtype\": \"number\",\n        \"std\": 11.95315325767632,\n        \"min\": 45.0,\n        \"max\": 143.0,\n        \"num_unique_values\": 60,\n        \"samples\": [\n          78.0,\n          70.0\n        ],\n        \"semantic_type\": \"\",\n        \"description\": \"\"\n      }\n    },\n    {\n      \"column\": \"glucose\",\n      \"properties\": {\n        \"dtype\": \"number\",\n        \"std\": 24.931659322505936,\n        \"min\": 44.0,\n        \"max\": 394.0,\n        \"num_unique_values\": 90,\n        \"samples\": [\n          177.0,\n          143.0\n        ],\n        \"semantic_type\": \"\",\n        \"description\": \"\"\n      }\n    },\n    {\n      \"column\": \"TenYearCHD\",\n      \"properties\": {\n        \"dtype\": \"number\",\n        \"std\": 0,\n        \"min\": 0,\n        \"max\": 1,\n        \"num_unique_values\": 2,\n        \"samples\": [\n          1,\n          0\n        ],\n        \"semantic_type\": \"\",\n        \"description\": \"\"\n      }\n    }\n  ]\n}"
            }
          },
          "metadata": {},
          "execution_count": 245
        }
      ]
    },
    {
      "cell_type": "code",
      "source": [
        "print(chd_test.shape)\n",
        "print(chd_test.dtypes)"
      ],
      "metadata": {
        "colab": {
          "base_uri": "https://localhost:8080/"
        },
        "id": "SxOnFaQx6wTC",
        "outputId": "c037c0d6-9577-4e4a-c828-5077d657a4e7"
      },
      "execution_count": 246,
      "outputs": [
        {
          "output_type": "stream",
          "name": "stdout",
          "text": [
            "(1060, 17)\n",
            "Unnamed: 0           int64\n",
            "sex                  int64\n",
            "age                  int64\n",
            "education          float64\n",
            "currentSmoker        int64\n",
            "cigsPerDay         float64\n",
            "BPMeds             float64\n",
            "prevalentStroke      int64\n",
            "prevalentHyp         int64\n",
            "diabetes             int64\n",
            "totChol            float64\n",
            "sysBP              float64\n",
            "diaBP              float64\n",
            "BMI                float64\n",
            "heartRate          float64\n",
            "glucose            float64\n",
            "TenYearCHD           int64\n",
            "dtype: object\n"
          ]
        }
      ]
    },
    {
      "cell_type": "markdown",
      "source": [
        "###Cleaning\n",
        "**********"
      ],
      "metadata": {
        "id": "Rgxd2RxC8Ad3"
      }
    },
    {
      "cell_type": "markdown",
      "source": [
        "#####sex\n",
        "*******"
      ],
      "metadata": {
        "id": "h32qQLWD8qfL"
      }
    },
    {
      "cell_type": "markdown",
      "source": [
        "decision: no na's to drop, mapped the one-hot encodings to categories"
      ],
      "metadata": {
        "id": "KJ2Rd7HuG3FA"
      }
    },
    {
      "cell_type": "code",
      "source": [
        "chd_test['sex'].value_counts()"
      ],
      "metadata": {
        "colab": {
          "base_uri": "https://localhost:8080/"
        },
        "id": "Yqsj32d_94fQ",
        "outputId": "f40c34a8-49bd-4fa1-ca36-6e3df6cac449"
      },
      "execution_count": 247,
      "outputs": [
        {
          "output_type": "execute_result",
          "data": {
            "text/plain": [
              "sex\n",
              "0    617\n",
              "1    443\n",
              "Name: count, dtype: int64"
            ]
          },
          "metadata": {},
          "execution_count": 247
        }
      ]
    },
    {
      "cell_type": "code",
      "source": [
        "chd_test['sex'].isna().sum()"
      ],
      "metadata": {
        "colab": {
          "base_uri": "https://localhost:8080/"
        },
        "id": "3Ey1CPqyGuyV",
        "outputId": "61bf8f2a-4565-4259-b0bf-7236db4fb804"
      },
      "execution_count": 248,
      "outputs": [
        {
          "output_type": "execute_result",
          "data": {
            "text/plain": [
              "0"
            ]
          },
          "metadata": {},
          "execution_count": 248
        }
      ]
    },
    {
      "cell_type": "code",
      "source": [
        "# Map numerical values to categories\n",
        "sex_map = {0: 'female', 1: 'male'}\n",
        "\n",
        "# Create a new column 'sex_category' based on the mapping\n",
        "chd_test['sex_category'] = chd_test['sex'].map(sex_map)"
      ],
      "metadata": {
        "id": "SqQ2DlUAD3ir"
      },
      "execution_count": 249,
      "outputs": []
    },
    {
      "cell_type": "markdown",
      "source": [
        "#####age\n",
        "*********"
      ],
      "metadata": {
        "id": "wMSxLwWN8srj"
      }
    },
    {
      "cell_type": "markdown",
      "source": [
        "decision: no na's to drop, no changes to be made"
      ],
      "metadata": {
        "id": "B07-VbjRHanq"
      }
    },
    {
      "cell_type": "code",
      "source": [
        "chd_test['age'].value_counts()"
      ],
      "metadata": {
        "colab": {
          "base_uri": "https://localhost:8080/"
        },
        "id": "7r3auz9N95CV",
        "outputId": "88de967b-bea6-4fdf-e513-4d3473ebf5be"
      },
      "execution_count": 250,
      "outputs": [
        {
          "output_type": "execute_result",
          "data": {
            "text/plain": [
              "age\n",
              "40    54\n",
              "44    50\n",
              "46    45\n",
              "51    45\n",
              "39    45\n",
              "43    43\n",
              "42    41\n",
              "50    40\n",
              "57    39\n",
              "41    38\n",
              "45    37\n",
              "52    36\n",
              "53    35\n",
              "47    34\n",
              "48    34\n",
              "59    33\n",
              "55    32\n",
              "49    32\n",
              "38    32\n",
              "56    30\n",
              "37    29\n",
              "54    29\n",
              "64    27\n",
              "58    26\n",
              "63    25\n",
              "62    24\n",
              "36    24\n",
              "61    23\n",
              "60    21\n",
              "67    14\n",
              "35    12\n",
              "66     9\n",
              "68     8\n",
              "65     7\n",
              "34     4\n",
              "69     3\n",
              "Name: count, dtype: int64"
            ]
          },
          "metadata": {},
          "execution_count": 250
        }
      ]
    },
    {
      "cell_type": "code",
      "source": [
        "chd_test['age'].isna().sum()"
      ],
      "metadata": {
        "colab": {
          "base_uri": "https://localhost:8080/"
        },
        "id": "VCGOL0nOHWcd",
        "outputId": "1b3d377b-ed6a-41d3-ac90-4882e8ea6540"
      },
      "execution_count": 251,
      "outputs": [
        {
          "output_type": "execute_result",
          "data": {
            "text/plain": [
              "0"
            ]
          },
          "metadata": {},
          "execution_count": 251
        }
      ]
    },
    {
      "cell_type": "markdown",
      "source": [
        "#####education\n",
        "**********"
      ],
      "metadata": {
        "id": "C0WOMOOV8vXm"
      }
    },
    {
      "cell_type": "markdown",
      "source": [
        "Decision: drop na's, mapped the one-hot encodings to categories"
      ],
      "metadata": {
        "id": "isJMczl-Krzj"
      }
    },
    {
      "cell_type": "code",
      "source": [
        "chd_test['education'].value_counts()"
      ],
      "metadata": {
        "colab": {
          "base_uri": "https://localhost:8080/"
        },
        "id": "Y0MUsNt_95kI",
        "outputId": "a678b9c1-780e-4cdd-9b3d-3d4801489595"
      },
      "execution_count": 252,
      "outputs": [
        {
          "output_type": "execute_result",
          "data": {
            "text/plain": [
              "education\n",
              "1.0    410\n",
              "2.0    304\n",
              "3.0    194\n",
              "4.0    132\n",
              "Name: count, dtype: int64"
            ]
          },
          "metadata": {},
          "execution_count": 252
        }
      ]
    },
    {
      "cell_type": "code",
      "source": [
        "chd_test['education'].isna().sum()"
      ],
      "metadata": {
        "colab": {
          "base_uri": "https://localhost:8080/"
        },
        "id": "wgnlvRpiIlvR",
        "outputId": "a5450e72-5f83-4bd8-de04-dd301de1366d"
      },
      "execution_count": 253,
      "outputs": [
        {
          "output_type": "execute_result",
          "data": {
            "text/plain": [
              "20"
            ]
          },
          "metadata": {},
          "execution_count": 253
        }
      ]
    },
    {
      "cell_type": "code",
      "source": [
        "chd_test.dropna(subset=['education'], inplace=True)"
      ],
      "metadata": {
        "id": "CajY1z85L2Ue"
      },
      "execution_count": 254,
      "outputs": []
    },
    {
      "cell_type": "code",
      "source": [
        "# Map numerical values to categories\n",
        "education_map = {1: 'some HS', 2: 'HS/GED', 3: 'some college/vocation', 4: 'college'}\n",
        "\n",
        "# Create a new column based on the mapping\n",
        "chd_test['edu_category'] = chd_test['education'].map(education_map)"
      ],
      "metadata": {
        "id": "Z1aEI4GoL2nv"
      },
      "execution_count": 255,
      "outputs": []
    },
    {
      "cell_type": "markdown",
      "source": [
        "#####currentSmoker\n",
        "**********"
      ],
      "metadata": {
        "id": "R250dU0Q88rv"
      }
    },
    {
      "cell_type": "markdown",
      "source": [
        "Decision: no na's, mapped one-hot encodings to categorical"
      ],
      "metadata": {
        "id": "_u3DrO-SNT08"
      }
    },
    {
      "cell_type": "code",
      "source": [
        "chd_test['currentSmoker'].value_counts()"
      ],
      "metadata": {
        "colab": {
          "base_uri": "https://localhost:8080/"
        },
        "id": "U9slqdD_96G5",
        "outputId": "85d1474f-fa01-410a-92ab-0f445d976ae5"
      },
      "execution_count": 256,
      "outputs": [
        {
          "output_type": "execute_result",
          "data": {
            "text/plain": [
              "currentSmoker\n",
              "1    523\n",
              "0    517\n",
              "Name: count, dtype: int64"
            ]
          },
          "metadata": {},
          "execution_count": 256
        }
      ]
    },
    {
      "cell_type": "code",
      "source": [
        "chd_test['currentSmoker'].isna().sum()"
      ],
      "metadata": {
        "colab": {
          "base_uri": "https://localhost:8080/"
        },
        "id": "Rx6-DCojItgU",
        "outputId": "3f63bcfd-a517-4ffd-b993-ba76c6885bf9"
      },
      "execution_count": 257,
      "outputs": [
        {
          "output_type": "execute_result",
          "data": {
            "text/plain": [
              "0"
            ]
          },
          "metadata": {},
          "execution_count": 257
        }
      ]
    },
    {
      "cell_type": "code",
      "source": [
        "# Map numerical values to categories\n",
        "smoker_map = {0: 'no smoking', 1: 'smoking'}\n",
        "\n",
        "# Create a new column based on the mapping\n",
        "chd_test['smoker_category'] = chd_test['currentSmoker'].map(smoker_map)"
      ],
      "metadata": {
        "id": "Sl9Fh-2xMxq7"
      },
      "execution_count": 258,
      "outputs": []
    },
    {
      "cell_type": "markdown",
      "source": [
        "#####cigsPerDay\n",
        "**************"
      ],
      "metadata": {
        "id": "p0kfUc3O88pX"
      }
    },
    {
      "cell_type": "markdown",
      "source": [
        "Decision: filled na's with the median score"
      ],
      "metadata": {
        "id": "vvRVbiWTN3Fb"
      }
    },
    {
      "cell_type": "code",
      "source": [
        "chd_test['cigsPerDay'].value_counts()"
      ],
      "metadata": {
        "colab": {
          "base_uri": "https://localhost:8080/"
        },
        "id": "F4NDjsHp96gM",
        "outputId": "649821c3-549b-479d-ba3e-2e453cb1485c"
      },
      "execution_count": 259,
      "outputs": [
        {
          "output_type": "execute_result",
          "data": {
            "text/plain": [
              "cigsPerDay\n",
              "0.0     517\n",
              "20.0    202\n",
              "15.0     51\n",
              "30.0     45\n",
              "9.0      34\n",
              "10.0     34\n",
              "3.0      27\n",
              "5.0      25\n",
              "25.0     21\n",
              "43.0     16\n",
              "1.0      14\n",
              "40.0     13\n",
              "35.0      6\n",
              "2.0       5\n",
              "4.0       4\n",
              "17.0      3\n",
              "7.0       3\n",
              "6.0       3\n",
              "13.0      2\n",
              "45.0      2\n",
              "60.0      2\n",
              "8.0       1\n",
              "12.0      1\n",
              "50.0      1\n",
              "18.0      1\n",
              "23.0      1\n",
              "14.0      1\n",
              "Name: count, dtype: int64"
            ]
          },
          "metadata": {},
          "execution_count": 259
        }
      ]
    },
    {
      "cell_type": "code",
      "source": [
        "chd_test['cigsPerDay'].isna().sum()"
      ],
      "metadata": {
        "colab": {
          "base_uri": "https://localhost:8080/"
        },
        "id": "eYSXaSVaIyUU",
        "outputId": "f4506e87-610f-4075-c1fd-c6a21a7b842f"
      },
      "execution_count": 260,
      "outputs": [
        {
          "output_type": "execute_result",
          "data": {
            "text/plain": [
              "5"
            ]
          },
          "metadata": {},
          "execution_count": 260
        }
      ]
    },
    {
      "cell_type": "code",
      "source": [
        "median_value = chd_test['cigsPerDay'].median()\n",
        "\n",
        "# Replace missing values with the median\n",
        "chd_test['cigsPerDay'].fillna(median_value, inplace=True)"
      ],
      "metadata": {
        "id": "RNWlAJlBNoaX"
      },
      "execution_count": 261,
      "outputs": []
    },
    {
      "cell_type": "markdown",
      "source": [
        "#####BPMeds\n",
        "***********"
      ],
      "metadata": {
        "id": "7GRFsxo588mi"
      }
    },
    {
      "cell_type": "markdown",
      "source": [
        "Decision: remove na's, mapped one-hot encodings to categorical"
      ],
      "metadata": {
        "id": "do9E1IKsOnqK"
      }
    },
    {
      "cell_type": "code",
      "source": [
        "chd_test['BPMeds'].value_counts()"
      ],
      "metadata": {
        "colab": {
          "base_uri": "https://localhost:8080/"
        },
        "id": "KykU-dpC97AT",
        "outputId": "3b879061-4f60-4d74-c9b7-ef83af635a6f"
      },
      "execution_count": 262,
      "outputs": [
        {
          "output_type": "execute_result",
          "data": {
            "text/plain": [
              "BPMeds\n",
              "0.0    993\n",
              "1.0     31\n",
              "Name: count, dtype: int64"
            ]
          },
          "metadata": {},
          "execution_count": 262
        }
      ]
    },
    {
      "cell_type": "code",
      "source": [
        "chd_test['BPMeds'].isna().sum()"
      ],
      "metadata": {
        "colab": {
          "base_uri": "https://localhost:8080/"
        },
        "id": "-pFcvwL0I3gk",
        "outputId": "25f0c79b-cc04-483f-aee4-a3ac9bb6e30f"
      },
      "execution_count": 263,
      "outputs": [
        {
          "output_type": "execute_result",
          "data": {
            "text/plain": [
              "16"
            ]
          },
          "metadata": {},
          "execution_count": 263
        }
      ]
    },
    {
      "cell_type": "code",
      "source": [
        "chd_test.dropna(subset=['BPMeds'], inplace=True)"
      ],
      "metadata": {
        "id": "2o_oGOF0OJdV"
      },
      "execution_count": 264,
      "outputs": []
    },
    {
      "cell_type": "code",
      "source": [
        "# Map numerical values to categories\n",
        "BPMeds_map = {0: 'no meds', 1: 'on meds'}\n",
        "\n",
        "# Create a new column based on the mapping\n",
        "chd_test['BPMeds_category'] = chd_test['BPMeds'].map(BPMeds_map)"
      ],
      "metadata": {
        "id": "Aos19RJaOUVj"
      },
      "execution_count": 265,
      "outputs": []
    },
    {
      "cell_type": "markdown",
      "source": [
        "#####prevalentStroke\n",
        "****************"
      ],
      "metadata": {
        "id": "fhLWoQWc88jY"
      }
    },
    {
      "cell_type": "markdown",
      "source": [
        "Decision: no na's, mapped one-hot encodings to categorical"
      ],
      "metadata": {
        "id": "y3--IGFdPBOn"
      }
    },
    {
      "cell_type": "code",
      "source": [
        "chd_test['prevalentStroke'].value_counts()"
      ],
      "metadata": {
        "colab": {
          "base_uri": "https://localhost:8080/"
        },
        "id": "A2wj7yJc97XI",
        "outputId": "5c820895-d64f-49f5-d76a-fae2e89fe461"
      },
      "execution_count": 266,
      "outputs": [
        {
          "output_type": "execute_result",
          "data": {
            "text/plain": [
              "prevalentStroke\n",
              "0    1020\n",
              "1       4\n",
              "Name: count, dtype: int64"
            ]
          },
          "metadata": {},
          "execution_count": 266
        }
      ]
    },
    {
      "cell_type": "code",
      "source": [
        "chd_test['prevalentStroke'].isna().sum()"
      ],
      "metadata": {
        "colab": {
          "base_uri": "https://localhost:8080/"
        },
        "id": "AwPnMj_YI7g2",
        "outputId": "6b516d94-ebc7-4daa-e959-0514eb5879dc"
      },
      "execution_count": 267,
      "outputs": [
        {
          "output_type": "execute_result",
          "data": {
            "text/plain": [
              "0"
            ]
          },
          "metadata": {},
          "execution_count": 267
        }
      ]
    },
    {
      "cell_type": "code",
      "source": [
        "# Map numerical values to categories\n",
        "stroke_map = {0: 'no stroke', 1: 'had stroke'}\n",
        "\n",
        "# Create a new column based on the mapping\n",
        "chd_test['stroke_category'] = chd_test['prevalentStroke'].map(stroke_map)"
      ],
      "metadata": {
        "id": "Ch2qVImrOwmX"
      },
      "execution_count": 268,
      "outputs": []
    },
    {
      "cell_type": "markdown",
      "source": [
        "#####prevalentHyp\n",
        "*************"
      ],
      "metadata": {
        "id": "kkeHngOb88f5"
      }
    },
    {
      "cell_type": "markdown",
      "source": [
        "Decision: no na's, mapped one-hot encodings to categorical"
      ],
      "metadata": {
        "id": "Zn4Y9qm4PTop"
      }
    },
    {
      "cell_type": "code",
      "source": [
        "chd_test['prevalentHyp'].value_counts()"
      ],
      "metadata": {
        "colab": {
          "base_uri": "https://localhost:8080/"
        },
        "id": "XdwQvhob98P9",
        "outputId": "b6b2f8ad-97b3-4a97-f12d-d6b4b59105d3"
      },
      "execution_count": 269,
      "outputs": [
        {
          "output_type": "execute_result",
          "data": {
            "text/plain": [
              "prevalentHyp\n",
              "0    740\n",
              "1    284\n",
              "Name: count, dtype: int64"
            ]
          },
          "metadata": {},
          "execution_count": 269
        }
      ]
    },
    {
      "cell_type": "code",
      "source": [
        "chd_test['prevalentHyp'].isna().sum()"
      ],
      "metadata": {
        "colab": {
          "base_uri": "https://localhost:8080/"
        },
        "id": "0Aks-eRpI_GG",
        "outputId": "5a0966ce-b16c-4b00-bb41-0c1962c1ad98"
      },
      "execution_count": 270,
      "outputs": [
        {
          "output_type": "execute_result",
          "data": {
            "text/plain": [
              "0"
            ]
          },
          "metadata": {},
          "execution_count": 270
        }
      ]
    },
    {
      "cell_type": "code",
      "source": [
        "# Map numerical values to categories\n",
        "hyp_map = {0: 'no hyp', 1: 'hyp'}\n",
        "\n",
        "# Create a new column based on the mapping\n",
        "chd_test['hyp_category'] = chd_test['prevalentHyp'].map(hyp_map)"
      ],
      "metadata": {
        "id": "dntm7C4gPH4T"
      },
      "execution_count": 271,
      "outputs": []
    },
    {
      "cell_type": "markdown",
      "source": [
        "#####diabetes\n",
        "*************"
      ],
      "metadata": {
        "id": "o5Bf-BL-88WU"
      }
    },
    {
      "cell_type": "markdown",
      "source": [
        "Decision: no na's, mapped one-hot encoding to categorical"
      ],
      "metadata": {
        "id": "IE7BLkE5Pkb0"
      }
    },
    {
      "cell_type": "code",
      "source": [
        "chd_test['diabetes'].value_counts()"
      ],
      "metadata": {
        "colab": {
          "base_uri": "https://localhost:8080/"
        },
        "id": "Z1xAJYAw99jw",
        "outputId": "f6340fc7-4a90-4b96-fa72-49509d708c2d"
      },
      "execution_count": 272,
      "outputs": [
        {
          "output_type": "execute_result",
          "data": {
            "text/plain": [
              "diabetes\n",
              "0    999\n",
              "1     25\n",
              "Name: count, dtype: int64"
            ]
          },
          "metadata": {},
          "execution_count": 272
        }
      ]
    },
    {
      "cell_type": "code",
      "source": [
        "chd_test['diabetes'].isna().sum()"
      ],
      "metadata": {
        "colab": {
          "base_uri": "https://localhost:8080/"
        },
        "id": "1PfjGzI3JCkN",
        "outputId": "f78c325e-933b-4e77-ff23-6988405b2210"
      },
      "execution_count": 273,
      "outputs": [
        {
          "output_type": "execute_result",
          "data": {
            "text/plain": [
              "0"
            ]
          },
          "metadata": {},
          "execution_count": 273
        }
      ]
    },
    {
      "cell_type": "code",
      "source": [
        "# Map numerical values to categories\n",
        "diabetes_map = {0: 'no diabetes', 1: 'diabetes'}\n",
        "\n",
        "# Create a new column based on the mapping\n",
        "chd_test['diabetes_category'] = chd_test['diabetes'].map(diabetes_map)"
      ],
      "metadata": {
        "id": "tfrD7gtPPaK7"
      },
      "execution_count": 274,
      "outputs": []
    },
    {
      "cell_type": "markdown",
      "source": [
        "#####totChol\n",
        "************"
      ],
      "metadata": {
        "id": "nFBMRqjm9Dq_"
      }
    },
    {
      "cell_type": "markdown",
      "source": [
        "Decision: replace na's with median value"
      ],
      "metadata": {
        "id": "YbdEoYXlP7Z7"
      }
    },
    {
      "cell_type": "code",
      "source": [
        "chd_test['totChol'].value_counts()"
      ],
      "metadata": {
        "colab": {
          "base_uri": "https://localhost:8080/"
        },
        "id": "vThZGzOO9-JO",
        "outputId": "38551101-9e4f-4926-9da7-c2f18064d863"
      },
      "execution_count": 275,
      "outputs": [
        {
          "output_type": "execute_result",
          "data": {
            "text/plain": [
              "totChol\n",
              "240.0    20\n",
              "220.0    19\n",
              "250.0    16\n",
              "210.0    16\n",
              "226.0    16\n",
              "         ..\n",
              "314.0     1\n",
              "366.0     1\n",
              "322.0     1\n",
              "327.0     1\n",
              "184.0     1\n",
              "Name: count, Length: 196, dtype: int64"
            ]
          },
          "metadata": {},
          "execution_count": 275
        }
      ]
    },
    {
      "cell_type": "code",
      "source": [
        "chd_test['totChol'].isna().sum()"
      ],
      "metadata": {
        "colab": {
          "base_uri": "https://localhost:8080/"
        },
        "id": "AhUdLfSPJFWc",
        "outputId": "b6939ec8-9aea-4495-c72f-37ccee8c664e"
      },
      "execution_count": 276,
      "outputs": [
        {
          "output_type": "execute_result",
          "data": {
            "text/plain": [
              "11"
            ]
          },
          "metadata": {},
          "execution_count": 276
        }
      ]
    },
    {
      "cell_type": "code",
      "source": [
        "median_value_chol = chd_test['totChol'].median()\n",
        "\n",
        "# Replace missing values with the median\n",
        "chd_test['totChol'].fillna(median_value_chol, inplace=True)"
      ],
      "metadata": {
        "id": "-KVf7BhkPqq0"
      },
      "execution_count": 277,
      "outputs": []
    },
    {
      "cell_type": "markdown",
      "source": [
        "#####sysBP\n",
        "***********"
      ],
      "metadata": {
        "id": "aUXcLSka9jGk"
      }
    },
    {
      "cell_type": "markdown",
      "source": [
        "Decision: no na's, no mapping needed"
      ],
      "metadata": {
        "id": "gQs_67lAP_pi"
      }
    },
    {
      "cell_type": "code",
      "source": [
        "chd_test['sysBP'].value_counts()"
      ],
      "metadata": {
        "colab": {
          "base_uri": "https://localhost:8080/"
        },
        "id": "vOdtV9bn9-hE",
        "outputId": "e89fe8ee-0278-420e-8ccf-09206e9b6018"
      },
      "execution_count": 278,
      "outputs": [
        {
          "output_type": "execute_result",
          "data": {
            "text/plain": [
              "sysBP\n",
              "120.0    37\n",
              "130.0    30\n",
              "119.0    28\n",
              "110.0    23\n",
              "122.0    22\n",
              "         ..\n",
              "164.5     1\n",
              "135.5     1\n",
              "186.5     1\n",
              "99.5      1\n",
              "145.5     1\n",
              "Name: count, Length: 166, dtype: int64"
            ]
          },
          "metadata": {},
          "execution_count": 278
        }
      ]
    },
    {
      "cell_type": "code",
      "source": [
        "chd_test['sysBP'].isna().sum()"
      ],
      "metadata": {
        "colab": {
          "base_uri": "https://localhost:8080/"
        },
        "id": "qArqc_22JJLQ",
        "outputId": "8f39460c-7b0d-4389-8812-cfef2f125dc1"
      },
      "execution_count": 279,
      "outputs": [
        {
          "output_type": "execute_result",
          "data": {
            "text/plain": [
              "0"
            ]
          },
          "metadata": {},
          "execution_count": 279
        }
      ]
    },
    {
      "cell_type": "markdown",
      "source": [
        "#####diaBP\n",
        "***********"
      ],
      "metadata": {
        "id": "4UzcCZcr9nYa"
      }
    },
    {
      "cell_type": "markdown",
      "source": [
        "Decision: no na's, no mapping needed"
      ],
      "metadata": {
        "id": "kix3bOt0QEtW"
      }
    },
    {
      "cell_type": "code",
      "source": [
        "chd_test['diaBP'].value_counts()"
      ],
      "metadata": {
        "colab": {
          "base_uri": "https://localhost:8080/"
        },
        "id": "2UfWSiy39-58",
        "outputId": "15caf6d1-191f-4a09-b110-9ae800818138"
      },
      "execution_count": 280,
      "outputs": [
        {
          "output_type": "execute_result",
          "data": {
            "text/plain": [
              "diaBP\n",
              "80.0     63\n",
              "82.0     45\n",
              "78.0     41\n",
              "72.0     36\n",
              "70.0     36\n",
              "         ..\n",
              "88.5      1\n",
              "103.5     1\n",
              "69.5      1\n",
              "100.5     1\n",
              "58.0      1\n",
              "Name: count, Length: 116, dtype: int64"
            ]
          },
          "metadata": {},
          "execution_count": 280
        }
      ]
    },
    {
      "cell_type": "code",
      "source": [
        "chd_test['diaBP'].isna().sum()"
      ],
      "metadata": {
        "colab": {
          "base_uri": "https://localhost:8080/"
        },
        "id": "uYET3B8lJMUi",
        "outputId": "b5a95262-546e-47a9-b756-5f4f4e9463b9"
      },
      "execution_count": 281,
      "outputs": [
        {
          "output_type": "execute_result",
          "data": {
            "text/plain": [
              "0"
            ]
          },
          "metadata": {},
          "execution_count": 281
        }
      ]
    },
    {
      "cell_type": "markdown",
      "source": [
        "#####BMI\n",
        "**************"
      ],
      "metadata": {
        "id": "M6LmnGQ59nSu"
      }
    },
    {
      "cell_type": "markdown",
      "source": [
        "Decision: replace na's with median value"
      ],
      "metadata": {
        "id": "y2_trv3tQSMA"
      }
    },
    {
      "cell_type": "code",
      "source": [
        "chd_test['BMI'].value_counts()"
      ],
      "metadata": {
        "colab": {
          "base_uri": "https://localhost:8080/"
        },
        "id": "VjJhpom-9_dj",
        "outputId": "f3f74104-1185-494e-9b97-1ddb18538929"
      },
      "execution_count": 282,
      "outputs": [
        {
          "output_type": "execute_result",
          "data": {
            "text/plain": [
              "BMI\n",
              "22.19    8\n",
              "25.38    7\n",
              "22.18    6\n",
              "25.94    6\n",
              "22.54    6\n",
              "        ..\n",
              "23.02    1\n",
              "37.62    1\n",
              "23.75    1\n",
              "31.50    1\n",
              "42.15    1\n",
              "Name: count, Length: 652, dtype: int64"
            ]
          },
          "metadata": {},
          "execution_count": 282
        }
      ]
    },
    {
      "cell_type": "code",
      "source": [
        "chd_test['BMI'].isna().sum()"
      ],
      "metadata": {
        "colab": {
          "base_uri": "https://localhost:8080/"
        },
        "id": "nQv2lBX9JQZf",
        "outputId": "3db5660d-2278-4487-adf3-c7c0b04e9d61"
      },
      "execution_count": 283,
      "outputs": [
        {
          "output_type": "execute_result",
          "data": {
            "text/plain": [
              "4"
            ]
          },
          "metadata": {},
          "execution_count": 283
        }
      ]
    },
    {
      "cell_type": "code",
      "source": [
        "median_value_BMI = chd_test['BMI'].median()\n",
        "\n",
        "# Replace missing values with the median\n",
        "chd_test['BMI'].fillna(median_value_BMI, inplace=True)"
      ],
      "metadata": {
        "id": "5ll37X6tQJXU"
      },
      "execution_count": 284,
      "outputs": []
    },
    {
      "cell_type": "markdown",
      "source": [
        "#####heartRate\n",
        "***********"
      ],
      "metadata": {
        "id": "csviW4ad9nNU"
      }
    },
    {
      "cell_type": "markdown",
      "source": [
        "Decision: replace na with median value"
      ],
      "metadata": {
        "id": "GrbjLt74Qfa9"
      }
    },
    {
      "cell_type": "code",
      "source": [
        "chd_test['heartRate'].value_counts()"
      ],
      "metadata": {
        "colab": {
          "base_uri": "https://localhost:8080/"
        },
        "id": "3pH2vWnb9_3g",
        "outputId": "3357f81c-657b-49f3-8f59-d06301f5dc6e"
      },
      "execution_count": 285,
      "outputs": [
        {
          "output_type": "execute_result",
          "data": {
            "text/plain": [
              "heartRate\n",
              "75.0     132\n",
              "80.0     106\n",
              "70.0      77\n",
              "85.0      55\n",
              "60.0      55\n",
              "65.0      50\n",
              "72.0      48\n",
              "90.0      41\n",
              "68.0      37\n",
              "78.0      26\n",
              "67.0      23\n",
              "100.0     22\n",
              "95.0      21\n",
              "62.0      21\n",
              "63.0      20\n",
              "83.0      18\n",
              "64.0      17\n",
              "66.0      16\n",
              "58.0      16\n",
              "77.0      15\n",
              "88.0      15\n",
              "96.0      14\n",
              "69.0      13\n",
              "76.0      13\n",
              "82.0      11\n",
              "73.0      11\n",
              "55.0      10\n",
              "87.0       9\n",
              "71.0       9\n",
              "92.0       9\n",
              "79.0       8\n",
              "110.0      7\n",
              "74.0       7\n",
              "56.0       6\n",
              "52.0       6\n",
              "84.0       6\n",
              "94.0       6\n",
              "86.0       5\n",
              "105.0      5\n",
              "81.0       4\n",
              "57.0       4\n",
              "108.0      3\n",
              "102.0      3\n",
              "50.0       3\n",
              "48.0       2\n",
              "91.0       2\n",
              "98.0       2\n",
              "45.0       2\n",
              "125.0      1\n",
              "103.0      1\n",
              "143.0      1\n",
              "89.0       1\n",
              "101.0      1\n",
              "112.0      1\n",
              "107.0      1\n",
              "104.0      1\n",
              "122.0      1\n",
              "59.0       1\n",
              "61.0       1\n",
              "120.0      1\n",
              "Name: count, dtype: int64"
            ]
          },
          "metadata": {},
          "execution_count": 285
        }
      ]
    },
    {
      "cell_type": "code",
      "source": [
        "chd_test['heartRate'].isna().sum()"
      ],
      "metadata": {
        "colab": {
          "base_uri": "https://localhost:8080/"
        },
        "id": "aMy1xk8xJT3o",
        "outputId": "8ef3c885-72ad-4c19-8378-7b5bf8a05d7b"
      },
      "execution_count": 286,
      "outputs": [
        {
          "output_type": "execute_result",
          "data": {
            "text/plain": [
              "1"
            ]
          },
          "metadata": {},
          "execution_count": 286
        }
      ]
    },
    {
      "cell_type": "code",
      "source": [
        "median_value_hr = chd_test['heartRate'].median()\n",
        "\n",
        "# Replace missing values with the median\n",
        "chd_test['heartRate'].fillna(median_value_hr, inplace=True)"
      ],
      "metadata": {
        "id": "3sxuvsfIQXnL"
      },
      "execution_count": 287,
      "outputs": []
    },
    {
      "cell_type": "markdown",
      "source": [
        "#####glucose\n",
        "**************"
      ],
      "metadata": {
        "id": "NlaWKx979x-R"
      }
    },
    {
      "cell_type": "markdown",
      "source": [
        "Decision: converted na's to median value"
      ],
      "metadata": {
        "id": "gw4UrpOOQwju"
      }
    },
    {
      "cell_type": "code",
      "source": [
        "chd_test['glucose'].value_counts()"
      ],
      "metadata": {
        "colab": {
          "base_uri": "https://localhost:8080/"
        },
        "id": "4MMx7t9w-Al-",
        "outputId": "21cfcd99-ac5f-4d7a-a49e-913e65ecb0d0"
      },
      "execution_count": 288,
      "outputs": [
        {
          "output_type": "execute_result",
          "data": {
            "text/plain": [
              "glucose\n",
              "76.0     45\n",
              "75.0     44\n",
              "83.0     41\n",
              "77.0     40\n",
              "78.0     40\n",
              "         ..\n",
              "57.0      1\n",
              "325.0     1\n",
              "177.0     1\n",
              "386.0     1\n",
              "145.0     1\n",
              "Name: count, Length: 88, dtype: int64"
            ]
          },
          "metadata": {},
          "execution_count": 288
        }
      ]
    },
    {
      "cell_type": "code",
      "source": [
        "chd_test['glucose'].isna().sum()"
      ],
      "metadata": {
        "colab": {
          "base_uri": "https://localhost:8080/"
        },
        "id": "LUiGdkyFJXA1",
        "outputId": "2b531b52-1630-4274-e461-377ea5b21829"
      },
      "execution_count": 289,
      "outputs": [
        {
          "output_type": "execute_result",
          "data": {
            "text/plain": [
              "101"
            ]
          },
          "metadata": {},
          "execution_count": 289
        }
      ]
    },
    {
      "cell_type": "code",
      "source": [
        "median_value_gluc = chd_test['glucose'].median()\n",
        "\n",
        "# Replace missing values with the median\n",
        "chd_test['glucose'].fillna(median_value_gluc, inplace=True)"
      ],
      "metadata": {
        "id": "WAdOQWsIQ2dC"
      },
      "execution_count": 290,
      "outputs": []
    },
    {
      "cell_type": "markdown",
      "source": [
        "#####TenYearCHD\n",
        "**********"
      ],
      "metadata": {
        "id": "BwpSVCW9904h"
      }
    },
    {
      "cell_type": "markdown",
      "source": [
        "Decision: no na's, mapped one-hot encodings to categorical"
      ],
      "metadata": {
        "id": "ZDvPZa-_QoIE"
      }
    },
    {
      "cell_type": "code",
      "source": [
        "chd_test['TenYearCHD'].value_counts()"
      ],
      "metadata": {
        "colab": {
          "base_uri": "https://localhost:8080/"
        },
        "id": "Odq_3fyv9fhO",
        "outputId": "2ebafc87-f413-4a40-9e93-3c9298388fbc"
      },
      "execution_count": 291,
      "outputs": [
        {
          "output_type": "execute_result",
          "data": {
            "text/plain": [
              "TenYearCHD\n",
              "0    875\n",
              "1    149\n",
              "Name: count, dtype: int64"
            ]
          },
          "metadata": {},
          "execution_count": 291
        }
      ]
    },
    {
      "cell_type": "code",
      "source": [
        "chd_test['TenYearCHD'].isna().sum()"
      ],
      "metadata": {
        "colab": {
          "base_uri": "https://localhost:8080/"
        },
        "id": "7Ok8yY8IJaMy",
        "outputId": "e33cd71d-9742-490e-ac42-766c08a37a15"
      },
      "execution_count": 292,
      "outputs": [
        {
          "output_type": "execute_result",
          "data": {
            "text/plain": [
              "0"
            ]
          },
          "metadata": {},
          "execution_count": 292
        }
      ]
    },
    {
      "cell_type": "code",
      "source": [
        "# Map numerical values to categories\n",
        "chd_map = {0: 'no chd', 1: 'chd'}\n",
        "\n",
        "# Create a new column based on the mapping\n",
        "chd_test['chd_category'] = chd_test['TenYearCHD'].map(chd_map)"
      ],
      "metadata": {
        "id": "9jkozSC7RCqY"
      },
      "execution_count": 293,
      "outputs": []
    },
    {
      "cell_type": "markdown",
      "source": [
        "####Inspection\n",
        "********"
      ],
      "metadata": {
        "id": "blSN59HkRQw9"
      }
    },
    {
      "cell_type": "code",
      "source": [
        "chd_test.head()"
      ],
      "metadata": {
        "colab": {
          "base_uri": "https://localhost:8080/",
          "height": 290
        },
        "id": "b0g-H9ZDRa7x",
        "outputId": "00e7d4f1-bd03-4bfc-ead6-99f17ea64237"
      },
      "execution_count": 294,
      "outputs": [
        {
          "output_type": "execute_result",
          "data": {
            "text/plain": [
              "   Unnamed: 0  sex  age  education  currentSmoker  cigsPerDay  BPMeds  \\\n",
              "0         674    0   58        1.0              1        20.0     0.0   \n",
              "1        4070    0   51        3.0              0         0.0     0.0   \n",
              "2        3150    0   44        2.0              1         9.0     0.0   \n",
              "3        1695    0   40        2.0              1        20.0     0.0   \n",
              "4        2692    1   58        2.0              1        20.0     0.0   \n",
              "\n",
              "   prevalentStroke  prevalentHyp  diabetes  ...  glucose  TenYearCHD  \\\n",
              "0                0             0         0  ...     78.0           0   \n",
              "1                0             0         0  ...     74.0           0   \n",
              "2                0             1         0  ...     78.0           1   \n",
              "3                0             0         0  ...     78.0           1   \n",
              "4                0             0         0  ...     78.0           0   \n",
              "\n",
              "   sex_category           edu_category  smoker_category  BPMeds_category  \\\n",
              "0        female                some HS          smoking          no meds   \n",
              "1        female  some college/vocation       no smoking          no meds   \n",
              "2        female                 HS/GED          smoking          no meds   \n",
              "3        female                 HS/GED          smoking          no meds   \n",
              "4          male                 HS/GED          smoking          no meds   \n",
              "\n",
              "   stroke_category hyp_category diabetes_category chd_category  \n",
              "0        no stroke       no hyp       no diabetes       no chd  \n",
              "1        no stroke       no hyp       no diabetes       no chd  \n",
              "2        no stroke          hyp       no diabetes          chd  \n",
              "3        no stroke       no hyp       no diabetes          chd  \n",
              "4        no stroke       no hyp       no diabetes       no chd  \n",
              "\n",
              "[5 rows x 25 columns]"
            ],
            "text/html": [
              "\n",
              "  <div id=\"df-f21fa8ab-c08f-4bb3-9aaa-5a6b09cf7820\" class=\"colab-df-container\">\n",
              "    <div>\n",
              "<style scoped>\n",
              "    .dataframe tbody tr th:only-of-type {\n",
              "        vertical-align: middle;\n",
              "    }\n",
              "\n",
              "    .dataframe tbody tr th {\n",
              "        vertical-align: top;\n",
              "    }\n",
              "\n",
              "    .dataframe thead th {\n",
              "        text-align: right;\n",
              "    }\n",
              "</style>\n",
              "<table border=\"1\" class=\"dataframe\">\n",
              "  <thead>\n",
              "    <tr style=\"text-align: right;\">\n",
              "      <th></th>\n",
              "      <th>Unnamed: 0</th>\n",
              "      <th>sex</th>\n",
              "      <th>age</th>\n",
              "      <th>education</th>\n",
              "      <th>currentSmoker</th>\n",
              "      <th>cigsPerDay</th>\n",
              "      <th>BPMeds</th>\n",
              "      <th>prevalentStroke</th>\n",
              "      <th>prevalentHyp</th>\n",
              "      <th>diabetes</th>\n",
              "      <th>...</th>\n",
              "      <th>glucose</th>\n",
              "      <th>TenYearCHD</th>\n",
              "      <th>sex_category</th>\n",
              "      <th>edu_category</th>\n",
              "      <th>smoker_category</th>\n",
              "      <th>BPMeds_category</th>\n",
              "      <th>stroke_category</th>\n",
              "      <th>hyp_category</th>\n",
              "      <th>diabetes_category</th>\n",
              "      <th>chd_category</th>\n",
              "    </tr>\n",
              "  </thead>\n",
              "  <tbody>\n",
              "    <tr>\n",
              "      <th>0</th>\n",
              "      <td>674</td>\n",
              "      <td>0</td>\n",
              "      <td>58</td>\n",
              "      <td>1.0</td>\n",
              "      <td>1</td>\n",
              "      <td>20.0</td>\n",
              "      <td>0.0</td>\n",
              "      <td>0</td>\n",
              "      <td>0</td>\n",
              "      <td>0</td>\n",
              "      <td>...</td>\n",
              "      <td>78.0</td>\n",
              "      <td>0</td>\n",
              "      <td>female</td>\n",
              "      <td>some HS</td>\n",
              "      <td>smoking</td>\n",
              "      <td>no meds</td>\n",
              "      <td>no stroke</td>\n",
              "      <td>no hyp</td>\n",
              "      <td>no diabetes</td>\n",
              "      <td>no chd</td>\n",
              "    </tr>\n",
              "    <tr>\n",
              "      <th>1</th>\n",
              "      <td>4070</td>\n",
              "      <td>0</td>\n",
              "      <td>51</td>\n",
              "      <td>3.0</td>\n",
              "      <td>0</td>\n",
              "      <td>0.0</td>\n",
              "      <td>0.0</td>\n",
              "      <td>0</td>\n",
              "      <td>0</td>\n",
              "      <td>0</td>\n",
              "      <td>...</td>\n",
              "      <td>74.0</td>\n",
              "      <td>0</td>\n",
              "      <td>female</td>\n",
              "      <td>some college/vocation</td>\n",
              "      <td>no smoking</td>\n",
              "      <td>no meds</td>\n",
              "      <td>no stroke</td>\n",
              "      <td>no hyp</td>\n",
              "      <td>no diabetes</td>\n",
              "      <td>no chd</td>\n",
              "    </tr>\n",
              "    <tr>\n",
              "      <th>2</th>\n",
              "      <td>3150</td>\n",
              "      <td>0</td>\n",
              "      <td>44</td>\n",
              "      <td>2.0</td>\n",
              "      <td>1</td>\n",
              "      <td>9.0</td>\n",
              "      <td>0.0</td>\n",
              "      <td>0</td>\n",
              "      <td>1</td>\n",
              "      <td>0</td>\n",
              "      <td>...</td>\n",
              "      <td>78.0</td>\n",
              "      <td>1</td>\n",
              "      <td>female</td>\n",
              "      <td>HS/GED</td>\n",
              "      <td>smoking</td>\n",
              "      <td>no meds</td>\n",
              "      <td>no stroke</td>\n",
              "      <td>hyp</td>\n",
              "      <td>no diabetes</td>\n",
              "      <td>chd</td>\n",
              "    </tr>\n",
              "    <tr>\n",
              "      <th>3</th>\n",
              "      <td>1695</td>\n",
              "      <td>0</td>\n",
              "      <td>40</td>\n",
              "      <td>2.0</td>\n",
              "      <td>1</td>\n",
              "      <td>20.0</td>\n",
              "      <td>0.0</td>\n",
              "      <td>0</td>\n",
              "      <td>0</td>\n",
              "      <td>0</td>\n",
              "      <td>...</td>\n",
              "      <td>78.0</td>\n",
              "      <td>1</td>\n",
              "      <td>female</td>\n",
              "      <td>HS/GED</td>\n",
              "      <td>smoking</td>\n",
              "      <td>no meds</td>\n",
              "      <td>no stroke</td>\n",
              "      <td>no hyp</td>\n",
              "      <td>no diabetes</td>\n",
              "      <td>chd</td>\n",
              "    </tr>\n",
              "    <tr>\n",
              "      <th>4</th>\n",
              "      <td>2692</td>\n",
              "      <td>1</td>\n",
              "      <td>58</td>\n",
              "      <td>2.0</td>\n",
              "      <td>1</td>\n",
              "      <td>20.0</td>\n",
              "      <td>0.0</td>\n",
              "      <td>0</td>\n",
              "      <td>0</td>\n",
              "      <td>0</td>\n",
              "      <td>...</td>\n",
              "      <td>78.0</td>\n",
              "      <td>0</td>\n",
              "      <td>male</td>\n",
              "      <td>HS/GED</td>\n",
              "      <td>smoking</td>\n",
              "      <td>no meds</td>\n",
              "      <td>no stroke</td>\n",
              "      <td>no hyp</td>\n",
              "      <td>no diabetes</td>\n",
              "      <td>no chd</td>\n",
              "    </tr>\n",
              "  </tbody>\n",
              "</table>\n",
              "<p>5 rows × 25 columns</p>\n",
              "</div>\n",
              "    <div class=\"colab-df-buttons\">\n",
              "\n",
              "  <div class=\"colab-df-container\">\n",
              "    <button class=\"colab-df-convert\" onclick=\"convertToInteractive('df-f21fa8ab-c08f-4bb3-9aaa-5a6b09cf7820')\"\n",
              "            title=\"Convert this dataframe to an interactive table.\"\n",
              "            style=\"display:none;\">\n",
              "\n",
              "  <svg xmlns=\"http://www.w3.org/2000/svg\" height=\"24px\" viewBox=\"0 -960 960 960\">\n",
              "    <path d=\"M120-120v-720h720v720H120Zm60-500h600v-160H180v160Zm220 220h160v-160H400v160Zm0 220h160v-160H400v160ZM180-400h160v-160H180v160Zm440 0h160v-160H620v160ZM180-180h160v-160H180v160Zm440 0h160v-160H620v160Z\"/>\n",
              "  </svg>\n",
              "    </button>\n",
              "\n",
              "  <style>\n",
              "    .colab-df-container {\n",
              "      display:flex;\n",
              "      gap: 12px;\n",
              "    }\n",
              "\n",
              "    .colab-df-convert {\n",
              "      background-color: #E8F0FE;\n",
              "      border: none;\n",
              "      border-radius: 50%;\n",
              "      cursor: pointer;\n",
              "      display: none;\n",
              "      fill: #1967D2;\n",
              "      height: 32px;\n",
              "      padding: 0 0 0 0;\n",
              "      width: 32px;\n",
              "    }\n",
              "\n",
              "    .colab-df-convert:hover {\n",
              "      background-color: #E2EBFA;\n",
              "      box-shadow: 0px 1px 2px rgba(60, 64, 67, 0.3), 0px 1px 3px 1px rgba(60, 64, 67, 0.15);\n",
              "      fill: #174EA6;\n",
              "    }\n",
              "\n",
              "    .colab-df-buttons div {\n",
              "      margin-bottom: 4px;\n",
              "    }\n",
              "\n",
              "    [theme=dark] .colab-df-convert {\n",
              "      background-color: #3B4455;\n",
              "      fill: #D2E3FC;\n",
              "    }\n",
              "\n",
              "    [theme=dark] .colab-df-convert:hover {\n",
              "      background-color: #434B5C;\n",
              "      box-shadow: 0px 1px 3px 1px rgba(0, 0, 0, 0.15);\n",
              "      filter: drop-shadow(0px 1px 2px rgba(0, 0, 0, 0.3));\n",
              "      fill: #FFFFFF;\n",
              "    }\n",
              "  </style>\n",
              "\n",
              "    <script>\n",
              "      const buttonEl =\n",
              "        document.querySelector('#df-f21fa8ab-c08f-4bb3-9aaa-5a6b09cf7820 button.colab-df-convert');\n",
              "      buttonEl.style.display =\n",
              "        google.colab.kernel.accessAllowed ? 'block' : 'none';\n",
              "\n",
              "      async function convertToInteractive(key) {\n",
              "        const element = document.querySelector('#df-f21fa8ab-c08f-4bb3-9aaa-5a6b09cf7820');\n",
              "        const dataTable =\n",
              "          await google.colab.kernel.invokeFunction('convertToInteractive',\n",
              "                                                    [key], {});\n",
              "        if (!dataTable) return;\n",
              "\n",
              "        const docLinkHtml = 'Like what you see? Visit the ' +\n",
              "          '<a target=\"_blank\" href=https://colab.research.google.com/notebooks/data_table.ipynb>data table notebook</a>'\n",
              "          + ' to learn more about interactive tables.';\n",
              "        element.innerHTML = '';\n",
              "        dataTable['output_type'] = 'display_data';\n",
              "        await google.colab.output.renderOutput(dataTable, element);\n",
              "        const docLink = document.createElement('div');\n",
              "        docLink.innerHTML = docLinkHtml;\n",
              "        element.appendChild(docLink);\n",
              "      }\n",
              "    </script>\n",
              "  </div>\n",
              "\n",
              "\n",
              "<div id=\"df-c8dd97ac-c767-4fcf-b855-2ab97180f2c4\">\n",
              "  <button class=\"colab-df-quickchart\" onclick=\"quickchart('df-c8dd97ac-c767-4fcf-b855-2ab97180f2c4')\"\n",
              "            title=\"Suggest charts\"\n",
              "            style=\"display:none;\">\n",
              "\n",
              "<svg xmlns=\"http://www.w3.org/2000/svg\" height=\"24px\"viewBox=\"0 0 24 24\"\n",
              "     width=\"24px\">\n",
              "    <g>\n",
              "        <path d=\"M19 3H5c-1.1 0-2 .9-2 2v14c0 1.1.9 2 2 2h14c1.1 0 2-.9 2-2V5c0-1.1-.9-2-2-2zM9 17H7v-7h2v7zm4 0h-2V7h2v10zm4 0h-2v-4h2v4z\"/>\n",
              "    </g>\n",
              "</svg>\n",
              "  </button>\n",
              "\n",
              "<style>\n",
              "  .colab-df-quickchart {\n",
              "      --bg-color: #E8F0FE;\n",
              "      --fill-color: #1967D2;\n",
              "      --hover-bg-color: #E2EBFA;\n",
              "      --hover-fill-color: #174EA6;\n",
              "      --disabled-fill-color: #AAA;\n",
              "      --disabled-bg-color: #DDD;\n",
              "  }\n",
              "\n",
              "  [theme=dark] .colab-df-quickchart {\n",
              "      --bg-color: #3B4455;\n",
              "      --fill-color: #D2E3FC;\n",
              "      --hover-bg-color: #434B5C;\n",
              "      --hover-fill-color: #FFFFFF;\n",
              "      --disabled-bg-color: #3B4455;\n",
              "      --disabled-fill-color: #666;\n",
              "  }\n",
              "\n",
              "  .colab-df-quickchart {\n",
              "    background-color: var(--bg-color);\n",
              "    border: none;\n",
              "    border-radius: 50%;\n",
              "    cursor: pointer;\n",
              "    display: none;\n",
              "    fill: var(--fill-color);\n",
              "    height: 32px;\n",
              "    padding: 0;\n",
              "    width: 32px;\n",
              "  }\n",
              "\n",
              "  .colab-df-quickchart:hover {\n",
              "    background-color: var(--hover-bg-color);\n",
              "    box-shadow: 0 1px 2px rgba(60, 64, 67, 0.3), 0 1px 3px 1px rgba(60, 64, 67, 0.15);\n",
              "    fill: var(--button-hover-fill-color);\n",
              "  }\n",
              "\n",
              "  .colab-df-quickchart-complete:disabled,\n",
              "  .colab-df-quickchart-complete:disabled:hover {\n",
              "    background-color: var(--disabled-bg-color);\n",
              "    fill: var(--disabled-fill-color);\n",
              "    box-shadow: none;\n",
              "  }\n",
              "\n",
              "  .colab-df-spinner {\n",
              "    border: 2px solid var(--fill-color);\n",
              "    border-color: transparent;\n",
              "    border-bottom-color: var(--fill-color);\n",
              "    animation:\n",
              "      spin 1s steps(1) infinite;\n",
              "  }\n",
              "\n",
              "  @keyframes spin {\n",
              "    0% {\n",
              "      border-color: transparent;\n",
              "      border-bottom-color: var(--fill-color);\n",
              "      border-left-color: var(--fill-color);\n",
              "    }\n",
              "    20% {\n",
              "      border-color: transparent;\n",
              "      border-left-color: var(--fill-color);\n",
              "      border-top-color: var(--fill-color);\n",
              "    }\n",
              "    30% {\n",
              "      border-color: transparent;\n",
              "      border-left-color: var(--fill-color);\n",
              "      border-top-color: var(--fill-color);\n",
              "      border-right-color: var(--fill-color);\n",
              "    }\n",
              "    40% {\n",
              "      border-color: transparent;\n",
              "      border-right-color: var(--fill-color);\n",
              "      border-top-color: var(--fill-color);\n",
              "    }\n",
              "    60% {\n",
              "      border-color: transparent;\n",
              "      border-right-color: var(--fill-color);\n",
              "    }\n",
              "    80% {\n",
              "      border-color: transparent;\n",
              "      border-right-color: var(--fill-color);\n",
              "      border-bottom-color: var(--fill-color);\n",
              "    }\n",
              "    90% {\n",
              "      border-color: transparent;\n",
              "      border-bottom-color: var(--fill-color);\n",
              "    }\n",
              "  }\n",
              "</style>\n",
              "\n",
              "  <script>\n",
              "    async function quickchart(key) {\n",
              "      const quickchartButtonEl =\n",
              "        document.querySelector('#' + key + ' button');\n",
              "      quickchartButtonEl.disabled = true;  // To prevent multiple clicks.\n",
              "      quickchartButtonEl.classList.add('colab-df-spinner');\n",
              "      try {\n",
              "        const charts = await google.colab.kernel.invokeFunction(\n",
              "            'suggestCharts', [key], {});\n",
              "      } catch (error) {\n",
              "        console.error('Error during call to suggestCharts:', error);\n",
              "      }\n",
              "      quickchartButtonEl.classList.remove('colab-df-spinner');\n",
              "      quickchartButtonEl.classList.add('colab-df-quickchart-complete');\n",
              "    }\n",
              "    (() => {\n",
              "      let quickchartButtonEl =\n",
              "        document.querySelector('#df-c8dd97ac-c767-4fcf-b855-2ab97180f2c4 button');\n",
              "      quickchartButtonEl.style.display =\n",
              "        google.colab.kernel.accessAllowed ? 'block' : 'none';\n",
              "    })();\n",
              "  </script>\n",
              "</div>\n",
              "    </div>\n",
              "  </div>\n"
            ],
            "application/vnd.google.colaboratory.intrinsic+json": {
              "type": "dataframe",
              "variable_name": "chd_test"
            }
          },
          "metadata": {},
          "execution_count": 294
        }
      ]
    },
    {
      "cell_type": "code",
      "source": [
        "chd_test.shape\n",
        "#originally had 1060 observations"
      ],
      "metadata": {
        "colab": {
          "base_uri": "https://localhost:8080/"
        },
        "id": "MB5VXMUCRm5J",
        "outputId": "8418c56b-751f-4938-e19d-6787e9d66c2d"
      },
      "execution_count": 295,
      "outputs": [
        {
          "output_type": "execute_result",
          "data": {
            "text/plain": [
              "(1024, 25)"
            ]
          },
          "metadata": {},
          "execution_count": 295
        }
      ]
    },
    {
      "cell_type": "code",
      "source": [
        "for each in chd_test.columns:\n",
        "    print(f\"{each}: {chd_test[each].isnull().sum()}\")"
      ],
      "metadata": {
        "colab": {
          "base_uri": "https://localhost:8080/"
        },
        "id": "UeL9We3xRUxS",
        "outputId": "e0e4a404-17fb-42c7-b7ed-be35b89a3e69"
      },
      "execution_count": 296,
      "outputs": [
        {
          "output_type": "stream",
          "name": "stdout",
          "text": [
            "Unnamed: 0: 0\n",
            "sex: 0\n",
            "age: 0\n",
            "education: 0\n",
            "currentSmoker: 0\n",
            "cigsPerDay: 0\n",
            "BPMeds: 0\n",
            "prevalentStroke: 0\n",
            "prevalentHyp: 0\n",
            "diabetes: 0\n",
            "totChol: 0\n",
            "sysBP: 0\n",
            "diaBP: 0\n",
            "BMI: 0\n",
            "heartRate: 0\n",
            "glucose: 0\n",
            "TenYearCHD: 0\n",
            "sex_category: 0\n",
            "edu_category: 0\n",
            "smoker_category: 0\n",
            "BPMeds_category: 0\n",
            "stroke_category: 0\n",
            "hyp_category: 0\n",
            "diabetes_category: 0\n",
            "chd_category: 0\n"
          ]
        }
      ]
    },
    {
      "cell_type": "markdown",
      "source": [
        "##**Training cleaning**\n",
        "*********"
      ],
      "metadata": {
        "id": "I4L4jMb26ZML"
      }
    },
    {
      "cell_type": "markdown",
      "source": [
        "###Exploration\n",
        "*************"
      ],
      "metadata": {
        "id": "9-GKXA1e7lal"
      }
    },
    {
      "cell_type": "code",
      "source": [
        "chd_train.head()"
      ],
      "metadata": {
        "colab": {
          "base_uri": "https://localhost:8080/",
          "height": 243
        },
        "id": "mOP_Xiut6f1N",
        "outputId": "de716576-83dd-4735-9e1d-c457870f6720"
      },
      "execution_count": 297,
      "outputs": [
        {
          "output_type": "execute_result",
          "data": {
            "text/plain": [
              "   Unnamed: 0  sex  age  education  currentSmoker  cigsPerDay  BPMeds  \\\n",
              "0        1267    1   58        1.0              0         0.0     0.0   \n",
              "1        1209    0   40        1.0              1        15.0     0.0   \n",
              "2        2050    0   52        1.0              0         0.0     0.0   \n",
              "3        1183    1   38        2.0              1        43.0     0.0   \n",
              "4        3225    0   43        1.0              0         0.0     0.0   \n",
              "\n",
              "   prevalentStroke  prevalentHyp  diabetes  totChol  sysBP  diaBP    BMI  \\\n",
              "0                0             0         0    220.0  143.0  104.0  29.85   \n",
              "1                0             0         0    199.0  122.0   82.0  22.16   \n",
              "2                0             0         0    275.0  112.0   71.0  25.68   \n",
              "3                0             1         0    170.0  130.0   94.0  23.90   \n",
              "4                0             0         0    202.0  124.0   92.0  21.26   \n",
              "\n",
              "   heartRate  glucose  TenYearCHD  \n",
              "0         75     87.0           1  \n",
              "1         85     77.0           0  \n",
              "2         80      NaN           0  \n",
              "3        110     75.0           0  \n",
              "4         75     74.0           0  "
            ],
            "text/html": [
              "\n",
              "  <div id=\"df-73fc07cb-c89e-4bef-b978-e8764922c87d\" class=\"colab-df-container\">\n",
              "    <div>\n",
              "<style scoped>\n",
              "    .dataframe tbody tr th:only-of-type {\n",
              "        vertical-align: middle;\n",
              "    }\n",
              "\n",
              "    .dataframe tbody tr th {\n",
              "        vertical-align: top;\n",
              "    }\n",
              "\n",
              "    .dataframe thead th {\n",
              "        text-align: right;\n",
              "    }\n",
              "</style>\n",
              "<table border=\"1\" class=\"dataframe\">\n",
              "  <thead>\n",
              "    <tr style=\"text-align: right;\">\n",
              "      <th></th>\n",
              "      <th>Unnamed: 0</th>\n",
              "      <th>sex</th>\n",
              "      <th>age</th>\n",
              "      <th>education</th>\n",
              "      <th>currentSmoker</th>\n",
              "      <th>cigsPerDay</th>\n",
              "      <th>BPMeds</th>\n",
              "      <th>prevalentStroke</th>\n",
              "      <th>prevalentHyp</th>\n",
              "      <th>diabetes</th>\n",
              "      <th>totChol</th>\n",
              "      <th>sysBP</th>\n",
              "      <th>diaBP</th>\n",
              "      <th>BMI</th>\n",
              "      <th>heartRate</th>\n",
              "      <th>glucose</th>\n",
              "      <th>TenYearCHD</th>\n",
              "    </tr>\n",
              "  </thead>\n",
              "  <tbody>\n",
              "    <tr>\n",
              "      <th>0</th>\n",
              "      <td>1267</td>\n",
              "      <td>1</td>\n",
              "      <td>58</td>\n",
              "      <td>1.0</td>\n",
              "      <td>0</td>\n",
              "      <td>0.0</td>\n",
              "      <td>0.0</td>\n",
              "      <td>0</td>\n",
              "      <td>0</td>\n",
              "      <td>0</td>\n",
              "      <td>220.0</td>\n",
              "      <td>143.0</td>\n",
              "      <td>104.0</td>\n",
              "      <td>29.85</td>\n",
              "      <td>75</td>\n",
              "      <td>87.0</td>\n",
              "      <td>1</td>\n",
              "    </tr>\n",
              "    <tr>\n",
              "      <th>1</th>\n",
              "      <td>1209</td>\n",
              "      <td>0</td>\n",
              "      <td>40</td>\n",
              "      <td>1.0</td>\n",
              "      <td>1</td>\n",
              "      <td>15.0</td>\n",
              "      <td>0.0</td>\n",
              "      <td>0</td>\n",
              "      <td>0</td>\n",
              "      <td>0</td>\n",
              "      <td>199.0</td>\n",
              "      <td>122.0</td>\n",
              "      <td>82.0</td>\n",
              "      <td>22.16</td>\n",
              "      <td>85</td>\n",
              "      <td>77.0</td>\n",
              "      <td>0</td>\n",
              "    </tr>\n",
              "    <tr>\n",
              "      <th>2</th>\n",
              "      <td>2050</td>\n",
              "      <td>0</td>\n",
              "      <td>52</td>\n",
              "      <td>1.0</td>\n",
              "      <td>0</td>\n",
              "      <td>0.0</td>\n",
              "      <td>0.0</td>\n",
              "      <td>0</td>\n",
              "      <td>0</td>\n",
              "      <td>0</td>\n",
              "      <td>275.0</td>\n",
              "      <td>112.0</td>\n",
              "      <td>71.0</td>\n",
              "      <td>25.68</td>\n",
              "      <td>80</td>\n",
              "      <td>NaN</td>\n",
              "      <td>0</td>\n",
              "    </tr>\n",
              "    <tr>\n",
              "      <th>3</th>\n",
              "      <td>1183</td>\n",
              "      <td>1</td>\n",
              "      <td>38</td>\n",
              "      <td>2.0</td>\n",
              "      <td>1</td>\n",
              "      <td>43.0</td>\n",
              "      <td>0.0</td>\n",
              "      <td>0</td>\n",
              "      <td>1</td>\n",
              "      <td>0</td>\n",
              "      <td>170.0</td>\n",
              "      <td>130.0</td>\n",
              "      <td>94.0</td>\n",
              "      <td>23.90</td>\n",
              "      <td>110</td>\n",
              "      <td>75.0</td>\n",
              "      <td>0</td>\n",
              "    </tr>\n",
              "    <tr>\n",
              "      <th>4</th>\n",
              "      <td>3225</td>\n",
              "      <td>0</td>\n",
              "      <td>43</td>\n",
              "      <td>1.0</td>\n",
              "      <td>0</td>\n",
              "      <td>0.0</td>\n",
              "      <td>0.0</td>\n",
              "      <td>0</td>\n",
              "      <td>0</td>\n",
              "      <td>0</td>\n",
              "      <td>202.0</td>\n",
              "      <td>124.0</td>\n",
              "      <td>92.0</td>\n",
              "      <td>21.26</td>\n",
              "      <td>75</td>\n",
              "      <td>74.0</td>\n",
              "      <td>0</td>\n",
              "    </tr>\n",
              "  </tbody>\n",
              "</table>\n",
              "</div>\n",
              "    <div class=\"colab-df-buttons\">\n",
              "\n",
              "  <div class=\"colab-df-container\">\n",
              "    <button class=\"colab-df-convert\" onclick=\"convertToInteractive('df-73fc07cb-c89e-4bef-b978-e8764922c87d')\"\n",
              "            title=\"Convert this dataframe to an interactive table.\"\n",
              "            style=\"display:none;\">\n",
              "\n",
              "  <svg xmlns=\"http://www.w3.org/2000/svg\" height=\"24px\" viewBox=\"0 -960 960 960\">\n",
              "    <path d=\"M120-120v-720h720v720H120Zm60-500h600v-160H180v160Zm220 220h160v-160H400v160Zm0 220h160v-160H400v160ZM180-400h160v-160H180v160Zm440 0h160v-160H620v160ZM180-180h160v-160H180v160Zm440 0h160v-160H620v160Z\"/>\n",
              "  </svg>\n",
              "    </button>\n",
              "\n",
              "  <style>\n",
              "    .colab-df-container {\n",
              "      display:flex;\n",
              "      gap: 12px;\n",
              "    }\n",
              "\n",
              "    .colab-df-convert {\n",
              "      background-color: #E8F0FE;\n",
              "      border: none;\n",
              "      border-radius: 50%;\n",
              "      cursor: pointer;\n",
              "      display: none;\n",
              "      fill: #1967D2;\n",
              "      height: 32px;\n",
              "      padding: 0 0 0 0;\n",
              "      width: 32px;\n",
              "    }\n",
              "\n",
              "    .colab-df-convert:hover {\n",
              "      background-color: #E2EBFA;\n",
              "      box-shadow: 0px 1px 2px rgba(60, 64, 67, 0.3), 0px 1px 3px 1px rgba(60, 64, 67, 0.15);\n",
              "      fill: #174EA6;\n",
              "    }\n",
              "\n",
              "    .colab-df-buttons div {\n",
              "      margin-bottom: 4px;\n",
              "    }\n",
              "\n",
              "    [theme=dark] .colab-df-convert {\n",
              "      background-color: #3B4455;\n",
              "      fill: #D2E3FC;\n",
              "    }\n",
              "\n",
              "    [theme=dark] .colab-df-convert:hover {\n",
              "      background-color: #434B5C;\n",
              "      box-shadow: 0px 1px 3px 1px rgba(0, 0, 0, 0.15);\n",
              "      filter: drop-shadow(0px 1px 2px rgba(0, 0, 0, 0.3));\n",
              "      fill: #FFFFFF;\n",
              "    }\n",
              "  </style>\n",
              "\n",
              "    <script>\n",
              "      const buttonEl =\n",
              "        document.querySelector('#df-73fc07cb-c89e-4bef-b978-e8764922c87d button.colab-df-convert');\n",
              "      buttonEl.style.display =\n",
              "        google.colab.kernel.accessAllowed ? 'block' : 'none';\n",
              "\n",
              "      async function convertToInteractive(key) {\n",
              "        const element = document.querySelector('#df-73fc07cb-c89e-4bef-b978-e8764922c87d');\n",
              "        const dataTable =\n",
              "          await google.colab.kernel.invokeFunction('convertToInteractive',\n",
              "                                                    [key], {});\n",
              "        if (!dataTable) return;\n",
              "\n",
              "        const docLinkHtml = 'Like what you see? Visit the ' +\n",
              "          '<a target=\"_blank\" href=https://colab.research.google.com/notebooks/data_table.ipynb>data table notebook</a>'\n",
              "          + ' to learn more about interactive tables.';\n",
              "        element.innerHTML = '';\n",
              "        dataTable['output_type'] = 'display_data';\n",
              "        await google.colab.output.renderOutput(dataTable, element);\n",
              "        const docLink = document.createElement('div');\n",
              "        docLink.innerHTML = docLinkHtml;\n",
              "        element.appendChild(docLink);\n",
              "      }\n",
              "    </script>\n",
              "  </div>\n",
              "\n",
              "\n",
              "<div id=\"df-5f3a1d4d-636c-432f-862a-0ef4359fb84f\">\n",
              "  <button class=\"colab-df-quickchart\" onclick=\"quickchart('df-5f3a1d4d-636c-432f-862a-0ef4359fb84f')\"\n",
              "            title=\"Suggest charts\"\n",
              "            style=\"display:none;\">\n",
              "\n",
              "<svg xmlns=\"http://www.w3.org/2000/svg\" height=\"24px\"viewBox=\"0 0 24 24\"\n",
              "     width=\"24px\">\n",
              "    <g>\n",
              "        <path d=\"M19 3H5c-1.1 0-2 .9-2 2v14c0 1.1.9 2 2 2h14c1.1 0 2-.9 2-2V5c0-1.1-.9-2-2-2zM9 17H7v-7h2v7zm4 0h-2V7h2v10zm4 0h-2v-4h2v4z\"/>\n",
              "    </g>\n",
              "</svg>\n",
              "  </button>\n",
              "\n",
              "<style>\n",
              "  .colab-df-quickchart {\n",
              "      --bg-color: #E8F0FE;\n",
              "      --fill-color: #1967D2;\n",
              "      --hover-bg-color: #E2EBFA;\n",
              "      --hover-fill-color: #174EA6;\n",
              "      --disabled-fill-color: #AAA;\n",
              "      --disabled-bg-color: #DDD;\n",
              "  }\n",
              "\n",
              "  [theme=dark] .colab-df-quickchart {\n",
              "      --bg-color: #3B4455;\n",
              "      --fill-color: #D2E3FC;\n",
              "      --hover-bg-color: #434B5C;\n",
              "      --hover-fill-color: #FFFFFF;\n",
              "      --disabled-bg-color: #3B4455;\n",
              "      --disabled-fill-color: #666;\n",
              "  }\n",
              "\n",
              "  .colab-df-quickchart {\n",
              "    background-color: var(--bg-color);\n",
              "    border: none;\n",
              "    border-radius: 50%;\n",
              "    cursor: pointer;\n",
              "    display: none;\n",
              "    fill: var(--fill-color);\n",
              "    height: 32px;\n",
              "    padding: 0;\n",
              "    width: 32px;\n",
              "  }\n",
              "\n",
              "  .colab-df-quickchart:hover {\n",
              "    background-color: var(--hover-bg-color);\n",
              "    box-shadow: 0 1px 2px rgba(60, 64, 67, 0.3), 0 1px 3px 1px rgba(60, 64, 67, 0.15);\n",
              "    fill: var(--button-hover-fill-color);\n",
              "  }\n",
              "\n",
              "  .colab-df-quickchart-complete:disabled,\n",
              "  .colab-df-quickchart-complete:disabled:hover {\n",
              "    background-color: var(--disabled-bg-color);\n",
              "    fill: var(--disabled-fill-color);\n",
              "    box-shadow: none;\n",
              "  }\n",
              "\n",
              "  .colab-df-spinner {\n",
              "    border: 2px solid var(--fill-color);\n",
              "    border-color: transparent;\n",
              "    border-bottom-color: var(--fill-color);\n",
              "    animation:\n",
              "      spin 1s steps(1) infinite;\n",
              "  }\n",
              "\n",
              "  @keyframes spin {\n",
              "    0% {\n",
              "      border-color: transparent;\n",
              "      border-bottom-color: var(--fill-color);\n",
              "      border-left-color: var(--fill-color);\n",
              "    }\n",
              "    20% {\n",
              "      border-color: transparent;\n",
              "      border-left-color: var(--fill-color);\n",
              "      border-top-color: var(--fill-color);\n",
              "    }\n",
              "    30% {\n",
              "      border-color: transparent;\n",
              "      border-left-color: var(--fill-color);\n",
              "      border-top-color: var(--fill-color);\n",
              "      border-right-color: var(--fill-color);\n",
              "    }\n",
              "    40% {\n",
              "      border-color: transparent;\n",
              "      border-right-color: var(--fill-color);\n",
              "      border-top-color: var(--fill-color);\n",
              "    }\n",
              "    60% {\n",
              "      border-color: transparent;\n",
              "      border-right-color: var(--fill-color);\n",
              "    }\n",
              "    80% {\n",
              "      border-color: transparent;\n",
              "      border-right-color: var(--fill-color);\n",
              "      border-bottom-color: var(--fill-color);\n",
              "    }\n",
              "    90% {\n",
              "      border-color: transparent;\n",
              "      border-bottom-color: var(--fill-color);\n",
              "    }\n",
              "  }\n",
              "</style>\n",
              "\n",
              "  <script>\n",
              "    async function quickchart(key) {\n",
              "      const quickchartButtonEl =\n",
              "        document.querySelector('#' + key + ' button');\n",
              "      quickchartButtonEl.disabled = true;  // To prevent multiple clicks.\n",
              "      quickchartButtonEl.classList.add('colab-df-spinner');\n",
              "      try {\n",
              "        const charts = await google.colab.kernel.invokeFunction(\n",
              "            'suggestCharts', [key], {});\n",
              "      } catch (error) {\n",
              "        console.error('Error during call to suggestCharts:', error);\n",
              "      }\n",
              "      quickchartButtonEl.classList.remove('colab-df-spinner');\n",
              "      quickchartButtonEl.classList.add('colab-df-quickchart-complete');\n",
              "    }\n",
              "    (() => {\n",
              "      let quickchartButtonEl =\n",
              "        document.querySelector('#df-5f3a1d4d-636c-432f-862a-0ef4359fb84f button');\n",
              "      quickchartButtonEl.style.display =\n",
              "        google.colab.kernel.accessAllowed ? 'block' : 'none';\n",
              "    })();\n",
              "  </script>\n",
              "</div>\n",
              "    </div>\n",
              "  </div>\n"
            ],
            "application/vnd.google.colaboratory.intrinsic+json": {
              "type": "dataframe",
              "variable_name": "chd_train",
              "summary": "{\n  \"name\": \"chd_train\",\n  \"rows\": 3180,\n  \"fields\": [\n    {\n      \"column\": \"Unnamed: 0\",\n      \"properties\": {\n        \"dtype\": \"number\",\n        \"std\": 1231,\n        \"min\": 1,\n        \"max\": 4240,\n        \"num_unique_values\": 3180,\n        \"samples\": [\n          3896,\n          2879,\n          3270\n        ],\n        \"semantic_type\": \"\",\n        \"description\": \"\"\n      }\n    },\n    {\n      \"column\": \"sex\",\n      \"properties\": {\n        \"dtype\": \"number\",\n        \"std\": 0,\n        \"min\": 0,\n        \"max\": 1,\n        \"num_unique_values\": 2,\n        \"samples\": [\n          0,\n          1\n        ],\n        \"semantic_type\": \"\",\n        \"description\": \"\"\n      }\n    },\n    {\n      \"column\": \"age\",\n      \"properties\": {\n        \"dtype\": \"number\",\n        \"std\": 8,\n        \"min\": 32,\n        \"max\": 70,\n        \"num_unique_values\": 39,\n        \"samples\": [\n          67,\n          32\n        ],\n        \"semantic_type\": \"\",\n        \"description\": \"\"\n      }\n    },\n    {\n      \"column\": \"education\",\n      \"properties\": {\n        \"dtype\": \"number\",\n        \"std\": 1.011134624909823,\n        \"min\": 1.0,\n        \"max\": 4.0,\n        \"num_unique_values\": 4,\n        \"samples\": [\n          2.0,\n          3.0\n        ],\n        \"semantic_type\": \"\",\n        \"description\": \"\"\n      }\n    },\n    {\n      \"column\": \"currentSmoker\",\n      \"properties\": {\n        \"dtype\": \"number\",\n        \"std\": 0,\n        \"min\": 0,\n        \"max\": 1,\n        \"num_unique_values\": 2,\n        \"samples\": [\n          1,\n          0\n        ],\n        \"semantic_type\": \"\",\n        \"description\": \"\"\n      }\n    },\n    {\n      \"column\": \"cigsPerDay\",\n      \"properties\": {\n        \"dtype\": \"number\",\n        \"std\": 12.013704001555473,\n        \"min\": 0.0,\n        \"max\": 70.0,\n        \"num_unique_values\": 33,\n        \"samples\": [\n          38.0,\n          8.0\n        ],\n        \"semantic_type\": \"\",\n        \"description\": \"\"\n      }\n    },\n    {\n      \"column\": \"BPMeds\",\n      \"properties\": {\n        \"dtype\": \"number\",\n        \"std\": 0.16947908596200822,\n        \"min\": 0.0,\n        \"max\": 1.0,\n        \"num_unique_values\": 2,\n        \"samples\": [\n          1.0,\n          0.0\n        ],\n        \"semantic_type\": \"\",\n        \"description\": \"\"\n      }\n    },\n    {\n      \"column\": \"prevalentStroke\",\n      \"properties\": {\n        \"dtype\": \"number\",\n        \"std\": 0,\n        \"min\": 0,\n        \"max\": 1,\n        \"num_unique_values\": 2,\n        \"samples\": [\n          1,\n          0\n        ],\n        \"semantic_type\": \"\",\n        \"description\": \"\"\n      }\n    },\n    {\n      \"column\": \"prevalentHyp\",\n      \"properties\": {\n        \"dtype\": \"number\",\n        \"std\": 0,\n        \"min\": 0,\n        \"max\": 1,\n        \"num_unique_values\": 2,\n        \"samples\": [\n          1,\n          0\n        ],\n        \"semantic_type\": \"\",\n        \"description\": \"\"\n      }\n    },\n    {\n      \"column\": \"diabetes\",\n      \"properties\": {\n        \"dtype\": \"number\",\n        \"std\": 0,\n        \"min\": 0,\n        \"max\": 1,\n        \"num_unique_values\": 2,\n        \"samples\": [\n          1,\n          0\n        ],\n        \"semantic_type\": \"\",\n        \"description\": \"\"\n      }\n    },\n    {\n      \"column\": \"totChol\",\n      \"properties\": {\n        \"dtype\": \"number\",\n        \"std\": 44.847410643806406,\n        \"min\": 107.0,\n        \"max\": 696.0,\n        \"num_unique_values\": 243,\n        \"samples\": [\n          180.0,\n          237.0\n        ],\n        \"semantic_type\": \"\",\n        \"description\": \"\"\n      }\n    },\n    {\n      \"column\": \"sysBP\",\n      \"properties\": {\n        \"dtype\": \"number\",\n        \"std\": 22.433266948078337,\n        \"min\": 83.5,\n        \"max\": 295.0,\n        \"num_unique_values\": 229,\n        \"samples\": [\n          181.5,\n          174.0\n        ],\n        \"semantic_type\": \"\",\n        \"description\": \"\"\n      }\n    },\n    {\n      \"column\": \"diaBP\",\n      \"properties\": {\n        \"dtype\": \"number\",\n        \"std\": 12.009212492738772,\n        \"min\": 50.0,\n        \"max\": 142.5,\n        \"num_unique_values\": 139,\n        \"samples\": [\n          142.5,\n          70.5\n        ],\n        \"semantic_type\": \"\",\n        \"description\": \"\"\n      }\n    },\n    {\n      \"column\": \"BMI\",\n      \"properties\": {\n        \"dtype\": \"number\",\n        \"std\": 4.130474751655827,\n        \"min\": 15.54,\n        \"max\": 56.8,\n        \"num_unique_values\": 1234,\n        \"samples\": [\n          26.87,\n          29.18\n        ],\n        \"semantic_type\": \"\",\n        \"description\": \"\"\n      }\n    },\n    {\n      \"column\": \"heartRate\",\n      \"properties\": {\n        \"dtype\": \"number\",\n        \"std\": 12,\n        \"min\": 44,\n        \"max\": 140,\n        \"num_unique_values\": 70,\n        \"samples\": [\n          69,\n          75\n        ],\n        \"semantic_type\": \"\",\n        \"description\": \"\"\n      }\n    },\n    {\n      \"column\": \"glucose\",\n      \"properties\": {\n        \"dtype\": \"number\",\n        \"std\": 23.625356737313467,\n        \"min\": 40.0,\n        \"max\": 394.0,\n        \"num_unique_values\": 130,\n        \"samples\": [\n          118.0,\n          88.0\n        ],\n        \"semantic_type\": \"\",\n        \"description\": \"\"\n      }\n    },\n    {\n      \"column\": \"TenYearCHD\",\n      \"properties\": {\n        \"dtype\": \"number\",\n        \"std\": 0,\n        \"min\": 0,\n        \"max\": 1,\n        \"num_unique_values\": 2,\n        \"samples\": [\n          0,\n          1\n        ],\n        \"semantic_type\": \"\",\n        \"description\": \"\"\n      }\n    }\n  ]\n}"
            }
          },
          "metadata": {},
          "execution_count": 297
        }
      ]
    },
    {
      "cell_type": "code",
      "source": [
        "print(chd_train.shape)\n",
        "print(chd_train.dtypes)"
      ],
      "metadata": {
        "colab": {
          "base_uri": "https://localhost:8080/"
        },
        "id": "iaSHoTn56tp0",
        "outputId": "4446bf97-f9ab-463c-de65-a3088dafa4c9"
      },
      "execution_count": 298,
      "outputs": [
        {
          "output_type": "stream",
          "name": "stdout",
          "text": [
            "(3180, 17)\n",
            "Unnamed: 0           int64\n",
            "sex                  int64\n",
            "age                  int64\n",
            "education          float64\n",
            "currentSmoker        int64\n",
            "cigsPerDay         float64\n",
            "BPMeds             float64\n",
            "prevalentStroke      int64\n",
            "prevalentHyp         int64\n",
            "diabetes             int64\n",
            "totChol            float64\n",
            "sysBP              float64\n",
            "diaBP              float64\n",
            "BMI                float64\n",
            "heartRate            int64\n",
            "glucose            float64\n",
            "TenYearCHD           int64\n",
            "dtype: object\n"
          ]
        }
      ]
    },
    {
      "cell_type": "code",
      "source": [
        "for each in chd_train.columns:\n",
        "    print(f\"{each}: {chd_train[each].isnull().sum()}\")"
      ],
      "metadata": {
        "colab": {
          "base_uri": "https://localhost:8080/"
        },
        "id": "AK42l1mx7unl",
        "outputId": "19f1643c-146b-4e06-903f-56948632fe6b"
      },
      "execution_count": 299,
      "outputs": [
        {
          "output_type": "stream",
          "name": "stdout",
          "text": [
            "Unnamed: 0: 0\n",
            "sex: 0\n",
            "age: 0\n",
            "education: 85\n",
            "currentSmoker: 0\n",
            "cigsPerDay: 24\n",
            "BPMeds: 37\n",
            "prevalentStroke: 0\n",
            "prevalentHyp: 0\n",
            "diabetes: 0\n",
            "totChol: 39\n",
            "sysBP: 0\n",
            "diaBP: 0\n",
            "BMI: 15\n",
            "heartRate: 0\n",
            "glucose: 285\n",
            "TenYearCHD: 0\n"
          ]
        }
      ]
    },
    {
      "cell_type": "markdown",
      "source": [
        "###Cleaning\n",
        "***********"
      ],
      "metadata": {
        "id": "zYhzclDR8Djv"
      }
    },
    {
      "cell_type": "markdown",
      "source": [
        "#####sex\n",
        "*********"
      ],
      "metadata": {
        "id": "U_aFuYZ9_6gk"
      }
    },
    {
      "cell_type": "markdown",
      "source": [
        "Decision: no na's, mapped the one-hot encodings to categories"
      ],
      "metadata": {
        "id": "YrXGx2V6TRbp"
      }
    },
    {
      "cell_type": "code",
      "source": [
        "chd_train['sex'].value_counts()"
      ],
      "metadata": {
        "colab": {
          "base_uri": "https://localhost:8080/"
        },
        "outputId": "3a6a5953-8fca-4695-d6ac-5ff033ccb774",
        "id": "eAcoBpBK_9My"
      },
      "execution_count": 300,
      "outputs": [
        {
          "output_type": "execute_result",
          "data": {
            "text/plain": [
              "sex\n",
              "0    1803\n",
              "1    1377\n",
              "Name: count, dtype: int64"
            ]
          },
          "metadata": {},
          "execution_count": 300
        }
      ]
    },
    {
      "cell_type": "code",
      "source": [
        "chd_train['sex'].isna().sum()"
      ],
      "metadata": {
        "colab": {
          "base_uri": "https://localhost:8080/"
        },
        "id": "0TWa8EvpJrC2",
        "outputId": "9017518f-c0bd-4e1c-9ada-b84910705619"
      },
      "execution_count": 301,
      "outputs": [
        {
          "output_type": "execute_result",
          "data": {
            "text/plain": [
              "0"
            ]
          },
          "metadata": {},
          "execution_count": 301
        }
      ]
    },
    {
      "cell_type": "code",
      "source": [
        "# Map numerical values to categories\n",
        "sex_map = {0: 'female', 1: 'male'}\n",
        "\n",
        "# Create a new column based on the mapping\n",
        "chd_train['sex_category'] = chd_train['sex'].map(sex_map)"
      ],
      "metadata": {
        "id": "O9gCRYnCtEpE"
      },
      "execution_count": 302,
      "outputs": []
    },
    {
      "cell_type": "markdown",
      "source": [
        "#####age\n",
        "**********"
      ],
      "metadata": {
        "id": "mx5dpofD_9My"
      }
    },
    {
      "cell_type": "markdown",
      "source": [
        "Decision: no na's dropped, no changes needed"
      ],
      "metadata": {
        "id": "Lhzd-bhlTXzW"
      }
    },
    {
      "cell_type": "code",
      "source": [
        "chd_train['age'].value_counts()"
      ],
      "metadata": {
        "colab": {
          "base_uri": "https://localhost:8080/"
        },
        "outputId": "b20e8c57-fa49-48b5-b2a8-11eec5a7dd96",
        "id": "jJumNDkj_9My"
      },
      "execution_count": 303,
      "outputs": [
        {
          "output_type": "execute_result",
          "data": {
            "text/plain": [
              "age\n",
              "48    139\n",
              "42    139\n",
              "40    138\n",
              "46    137\n",
              "41    136\n",
              "39    125\n",
              "45    125\n",
              "43    116\n",
              "44    116\n",
              "55    113\n",
              "52    113\n",
              "38    112\n",
              "47    107\n",
              "53    104\n",
              "54    103\n",
              "51    101\n",
              "50    100\n",
              "49    100\n",
              "56     93\n",
              "58     91\n",
              "60     90\n",
              "61     87\n",
              "59     86\n",
              "63     85\n",
              "57     84\n",
              "62     75\n",
              "64     66\n",
              "37     63\n",
              "36     60\n",
              "65     50\n",
              "67     31\n",
              "35     30\n",
              "66     29\n",
              "34     14\n",
              "68     10\n",
              "33      5\n",
              "69      4\n",
              "70      2\n",
              "32      1\n",
              "Name: count, dtype: int64"
            ]
          },
          "metadata": {},
          "execution_count": 303
        }
      ]
    },
    {
      "cell_type": "code",
      "source": [
        "chd_train['age'].isna().sum()"
      ],
      "metadata": {
        "colab": {
          "base_uri": "https://localhost:8080/"
        },
        "id": "rWGeDohIJu18",
        "outputId": "6af4470d-4e91-40b6-9d82-94e9661d0a5a"
      },
      "execution_count": 304,
      "outputs": [
        {
          "output_type": "execute_result",
          "data": {
            "text/plain": [
              "0"
            ]
          },
          "metadata": {},
          "execution_count": 304
        }
      ]
    },
    {
      "cell_type": "markdown",
      "source": [
        "#####education\n",
        "************"
      ],
      "metadata": {
        "id": "G0tS7Z3g_9Mz"
      }
    },
    {
      "cell_type": "markdown",
      "source": [
        "Decision: drop na's, mapped the one-hot encodings to categories"
      ],
      "metadata": {
        "id": "eC7j32QbTZay"
      }
    },
    {
      "cell_type": "code",
      "source": [
        "chd_train['education'].value_counts()"
      ],
      "metadata": {
        "colab": {
          "base_uri": "https://localhost:8080/"
        },
        "outputId": "e1626c93-de9e-4abe-c58c-d05948bfe9c4",
        "id": "i3QK5WP0_9Mz"
      },
      "execution_count": 305,
      "outputs": [
        {
          "output_type": "execute_result",
          "data": {
            "text/plain": [
              "education\n",
              "1.0    1310\n",
              "2.0     949\n",
              "3.0     495\n",
              "4.0     341\n",
              "Name: count, dtype: int64"
            ]
          },
          "metadata": {},
          "execution_count": 305
        }
      ]
    },
    {
      "cell_type": "code",
      "source": [
        "chd_train['education'].isna().sum()"
      ],
      "metadata": {
        "colab": {
          "base_uri": "https://localhost:8080/"
        },
        "id": "XMebIuVuJwCs",
        "outputId": "9427e8b1-c77d-436c-9470-e13356c4aca9"
      },
      "execution_count": 306,
      "outputs": [
        {
          "output_type": "execute_result",
          "data": {
            "text/plain": [
              "85"
            ]
          },
          "metadata": {},
          "execution_count": 306
        }
      ]
    },
    {
      "cell_type": "code",
      "source": [
        "chd_train.dropna(subset=['education'], inplace=True)"
      ],
      "metadata": {
        "id": "oInP7eg3tqPu"
      },
      "execution_count": 307,
      "outputs": []
    },
    {
      "cell_type": "code",
      "source": [
        "# Map numerical values to categories\n",
        "education_map = {1: 'some HS', 2: 'HS/GED', 3: 'some college/vocation', 4: 'college'}\n",
        "\n",
        "# Create a new column based on the mapping\n",
        "chd_train['edu_category'] = chd_train['education'].map(education_map)"
      ],
      "metadata": {
        "id": "1vrEGruOtu4d"
      },
      "execution_count": 308,
      "outputs": []
    },
    {
      "cell_type": "markdown",
      "source": [
        "#####currentSmoker\n",
        "***********"
      ],
      "metadata": {
        "id": "F1ylsDfb_9Mz"
      }
    },
    {
      "cell_type": "markdown",
      "source": [
        "Decision: Decision: no na's, mapped one-hot encodings to categorical"
      ],
      "metadata": {
        "id": "vphvVO6kTbjG"
      }
    },
    {
      "cell_type": "code",
      "source": [
        "chd_train['currentSmoker'].value_counts()"
      ],
      "metadata": {
        "colab": {
          "base_uri": "https://localhost:8080/"
        },
        "outputId": "d37aa127-724b-4b3d-af3c-7fe695f84e62",
        "id": "gS_cujSI_9Mz"
      },
      "execution_count": 309,
      "outputs": [
        {
          "output_type": "execute_result",
          "data": {
            "text/plain": [
              "currentSmoker\n",
              "0    1572\n",
              "1    1523\n",
              "Name: count, dtype: int64"
            ]
          },
          "metadata": {},
          "execution_count": 309
        }
      ]
    },
    {
      "cell_type": "code",
      "source": [
        "chd_train['currentSmoker'].isna().sum()"
      ],
      "metadata": {
        "colab": {
          "base_uri": "https://localhost:8080/"
        },
        "id": "-SXQ3s1wJyb9",
        "outputId": "e15f058e-d4fd-4d0a-9ad4-1fcf96093121"
      },
      "execution_count": 310,
      "outputs": [
        {
          "output_type": "execute_result",
          "data": {
            "text/plain": [
              "0"
            ]
          },
          "metadata": {},
          "execution_count": 310
        }
      ]
    },
    {
      "cell_type": "code",
      "source": [
        "# Map numerical values to categories\n",
        "smoker_map = {0: 'no smoking', 1: 'smoking'}\n",
        "\n",
        "# Create a new column based on the mapping\n",
        "chd_train['smoker_category'] = chd_train['currentSmoker'].map(smoker_map)"
      ],
      "metadata": {
        "id": "ZrSU-FIjt9sO"
      },
      "execution_count": 311,
      "outputs": []
    },
    {
      "cell_type": "markdown",
      "source": [
        "#####cigsPerDay\n",
        "**************"
      ],
      "metadata": {
        "id": "DRUT6lwj_9Mz"
      }
    },
    {
      "cell_type": "markdown",
      "source": [
        "Decision: filled na's with the median score"
      ],
      "metadata": {
        "id": "Q9rOSNO3TlpC"
      }
    },
    {
      "cell_type": "code",
      "source": [
        "chd_train['cigsPerDay'].value_counts()"
      ],
      "metadata": {
        "colab": {
          "base_uri": "https://localhost:8080/"
        },
        "outputId": "ab5f70b5-1c23-4a63-abe0-fbd748055ddb",
        "id": "o5ot8R69_9M0"
      },
      "execution_count": 312,
      "outputs": [
        {
          "output_type": "execute_result",
          "data": {
            "text/plain": [
              "cigsPerDay\n",
              "0.0     1572\n",
              "20.0     518\n",
              "30.0     169\n",
              "15.0     156\n",
              "10.0     106\n",
              "5.0       92\n",
              "9.0       91\n",
              "3.0       71\n",
              "40.0      65\n",
              "1.0       51\n",
              "43.0      40\n",
              "25.0      30\n",
              "35.0      16\n",
              "6.0       15\n",
              "2.0       12\n",
              "8.0       10\n",
              "7.0        9\n",
              "60.0       8\n",
              "18.0       7\n",
              "11.0       5\n",
              "50.0       5\n",
              "23.0       4\n",
              "4.0        4\n",
              "17.0       4\n",
              "16.0       3\n",
              "12.0       2\n",
              "19.0       2\n",
              "29.0       1\n",
              "14.0       1\n",
              "70.0       1\n",
              "45.0       1\n",
              "38.0       1\n",
              "13.0       1\n",
              "Name: count, dtype: int64"
            ]
          },
          "metadata": {},
          "execution_count": 312
        }
      ]
    },
    {
      "cell_type": "code",
      "source": [
        "chd_train['cigsPerDay'].isna().sum()"
      ],
      "metadata": {
        "colab": {
          "base_uri": "https://localhost:8080/"
        },
        "id": "Llgdm9-tJ1mM",
        "outputId": "0f05cd86-91bd-46fb-d8a8-d9ecef436140"
      },
      "execution_count": 313,
      "outputs": [
        {
          "output_type": "execute_result",
          "data": {
            "text/plain": [
              "22"
            ]
          },
          "metadata": {},
          "execution_count": 313
        }
      ]
    },
    {
      "cell_type": "code",
      "source": [
        "median_value_cig = chd_train['cigsPerDay'].median()\n",
        "\n",
        "# Replace missing values with the median\n",
        "chd_train['cigsPerDay'].fillna(median_value, inplace=True)"
      ],
      "metadata": {
        "id": "YtYkkwtquMzG"
      },
      "execution_count": 314,
      "outputs": []
    },
    {
      "cell_type": "markdown",
      "source": [
        "#####BPMeds\n",
        "**********"
      ],
      "metadata": {
        "id": "fforHXMt_9M0"
      }
    },
    {
      "cell_type": "markdown",
      "source": [
        "Decision: remove na's, mapped one-hot encodings to categorical"
      ],
      "metadata": {
        "id": "-iwS0FObTnPm"
      }
    },
    {
      "cell_type": "code",
      "source": [
        "chd_train['BPMeds'].value_counts()"
      ],
      "metadata": {
        "colab": {
          "base_uri": "https://localhost:8080/"
        },
        "outputId": "46380514-b862-4fd2-fe75-9633f5975a4c",
        "id": "GNcJQ4KO_9M0"
      },
      "execution_count": 315,
      "outputs": [
        {
          "output_type": "execute_result",
          "data": {
            "text/plain": [
              "BPMeds\n",
              "0.0    2968\n",
              "1.0      90\n",
              "Name: count, dtype: int64"
            ]
          },
          "metadata": {},
          "execution_count": 315
        }
      ]
    },
    {
      "cell_type": "code",
      "source": [
        "chd_train['BPMeds'].isna().sum()"
      ],
      "metadata": {
        "colab": {
          "base_uri": "https://localhost:8080/"
        },
        "id": "EKWbYK5PJ6TD",
        "outputId": "8ca6b3c4-7e46-42b4-d870-6147ddaf4985"
      },
      "execution_count": 316,
      "outputs": [
        {
          "output_type": "execute_result",
          "data": {
            "text/plain": [
              "37"
            ]
          },
          "metadata": {},
          "execution_count": 316
        }
      ]
    },
    {
      "cell_type": "code",
      "source": [
        "chd_train.dropna(subset=['BPMeds'], inplace=True)"
      ],
      "metadata": {
        "id": "aj1RXFU7uamQ"
      },
      "execution_count": 317,
      "outputs": []
    },
    {
      "cell_type": "code",
      "source": [
        "# Map numerical values to categories\n",
        "BPMeds_map = {0: 'no meds', 1: 'on meds'}\n",
        "\n",
        "# Create a new column based on the mapping\n",
        "chd_train['BPMeds_category'] = chd_train['BPMeds'].map(BPMeds_map)\n",
        ""
      ],
      "metadata": {
        "id": "l_dERxreue16"
      },
      "execution_count": 318,
      "outputs": []
    },
    {
      "cell_type": "markdown",
      "source": [
        "#####prevalentStroke\n",
        "**********"
      ],
      "metadata": {
        "id": "jstZGbAA_9M0"
      }
    },
    {
      "cell_type": "markdown",
      "source": [
        "Decision: no na's, mapped one-hot encodings to categorical"
      ],
      "metadata": {
        "id": "FWh8QoC_Tog5"
      }
    },
    {
      "cell_type": "code",
      "source": [
        "chd_train['prevalentStroke'].value_counts()"
      ],
      "metadata": {
        "colab": {
          "base_uri": "https://localhost:8080/"
        },
        "outputId": "30db3410-a68f-4363-a40e-f8b0a9615649",
        "id": "UoQit3ef_9M1"
      },
      "execution_count": 319,
      "outputs": [
        {
          "output_type": "execute_result",
          "data": {
            "text/plain": [
              "prevalentStroke\n",
              "0    3038\n",
              "1      20\n",
              "Name: count, dtype: int64"
            ]
          },
          "metadata": {},
          "execution_count": 319
        }
      ]
    },
    {
      "cell_type": "code",
      "source": [
        "chd_train['prevalentStroke'].isna().sum()"
      ],
      "metadata": {
        "colab": {
          "base_uri": "https://localhost:8080/"
        },
        "id": "-_uLzCXxJ9Zz",
        "outputId": "dafabdd3-a701-4d06-96b4-67c36edfa593"
      },
      "execution_count": 320,
      "outputs": [
        {
          "output_type": "execute_result",
          "data": {
            "text/plain": [
              "0"
            ]
          },
          "metadata": {},
          "execution_count": 320
        }
      ]
    },
    {
      "cell_type": "code",
      "source": [
        "# Map numerical values to categories\n",
        "stroke_map = {0: 'no stroke', 1: 'had stroke'}\n",
        "\n",
        "# Create a new column based on the mapping\n",
        "chd_train['stroke_category'] = chd_train['prevalentStroke'].map(stroke_map)"
      ],
      "metadata": {
        "id": "qnkxQ0Akuqrm"
      },
      "execution_count": 321,
      "outputs": []
    },
    {
      "cell_type": "markdown",
      "source": [
        "#####prevalentHyp\n",
        "************"
      ],
      "metadata": {
        "id": "3RNDFOLe_9M1"
      }
    },
    {
      "cell_type": "markdown",
      "source": [
        "Decision: no na's, mapped one-hot encodings to categorical\n"
      ],
      "metadata": {
        "id": "zXR-JP9fTpi3"
      }
    },
    {
      "cell_type": "code",
      "source": [
        "chd_train['prevalentHyp'].value_counts()"
      ],
      "metadata": {
        "colab": {
          "base_uri": "https://localhost:8080/"
        },
        "outputId": "eed3974e-487f-4d8b-da4b-c20587f8a7a3",
        "id": "V3snmuOL_9M1"
      },
      "execution_count": 322,
      "outputs": [
        {
          "output_type": "execute_result",
          "data": {
            "text/plain": [
              "prevalentHyp\n",
              "0    2077\n",
              "1     981\n",
              "Name: count, dtype: int64"
            ]
          },
          "metadata": {},
          "execution_count": 322
        }
      ]
    },
    {
      "cell_type": "code",
      "source": [
        "chd_train['prevalentHyp'].isna().sum()"
      ],
      "metadata": {
        "colab": {
          "base_uri": "https://localhost:8080/"
        },
        "id": "ZK4Os3a8KAUi",
        "outputId": "765d1e22-2848-41ed-8c75-ca3943b1e532"
      },
      "execution_count": 323,
      "outputs": [
        {
          "output_type": "execute_result",
          "data": {
            "text/plain": [
              "0"
            ]
          },
          "metadata": {},
          "execution_count": 323
        }
      ]
    },
    {
      "cell_type": "code",
      "source": [
        "# Map numerical values to categories\n",
        "hyp_map = {0: 'no hyp', 1: 'hyp'}\n",
        "\n",
        "# Create a new column based on the mapping\n",
        "chd_train['hyp_category'] = chd_train['prevalentHyp'].map(hyp_map)"
      ],
      "metadata": {
        "id": "ECHdqKYNu1so"
      },
      "execution_count": 324,
      "outputs": []
    },
    {
      "cell_type": "markdown",
      "source": [
        "#####diabetes\n",
        "**********"
      ],
      "metadata": {
        "id": "8VGyQXH-_9M1"
      }
    },
    {
      "cell_type": "markdown",
      "source": [
        "Decision: no na's, mapped one-hot encoding to categorical"
      ],
      "metadata": {
        "id": "6cjkxhzeTqk0"
      }
    },
    {
      "cell_type": "code",
      "source": [
        "chd_train['diabetes'].value_counts()"
      ],
      "metadata": {
        "colab": {
          "base_uri": "https://localhost:8080/"
        },
        "outputId": "d9e5c8a0-2b7f-4b2a-d156-c39736c6dd9c",
        "id": "44gYM_CS_9M1"
      },
      "execution_count": 325,
      "outputs": [
        {
          "output_type": "execute_result",
          "data": {
            "text/plain": [
              "diabetes\n",
              "0    2979\n",
              "1      79\n",
              "Name: count, dtype: int64"
            ]
          },
          "metadata": {},
          "execution_count": 325
        }
      ]
    },
    {
      "cell_type": "code",
      "source": [
        "chd_train['diabetes'].isna().sum()"
      ],
      "metadata": {
        "colab": {
          "base_uri": "https://localhost:8080/"
        },
        "id": "_qsmBSdvKEVq",
        "outputId": "c7ad1785-f06e-4c74-8187-9b5ab71e583e"
      },
      "execution_count": 326,
      "outputs": [
        {
          "output_type": "execute_result",
          "data": {
            "text/plain": [
              "0"
            ]
          },
          "metadata": {},
          "execution_count": 326
        }
      ]
    },
    {
      "cell_type": "code",
      "source": [
        "# Map numerical values to categories\n",
        "diabetes_map = {0: 'no diabetes', 1: 'diabetes'}\n",
        "\n",
        "# Create a new column based on the mapping\n",
        "chd_train['diabetes_category'] = chd_train['diabetes'].map(diabetes_map)"
      ],
      "metadata": {
        "id": "XAyd4sq-vDTv"
      },
      "execution_count": 327,
      "outputs": []
    },
    {
      "cell_type": "markdown",
      "source": [
        "#####totChol\n",
        "***********"
      ],
      "metadata": {
        "id": "gmoOiYBG_9M2"
      }
    },
    {
      "cell_type": "markdown",
      "source": [
        "Decision: replace na's with median value"
      ],
      "metadata": {
        "id": "HYz19NtATrjI"
      }
    },
    {
      "cell_type": "code",
      "source": [
        "chd_train['totChol'].value_counts()"
      ],
      "metadata": {
        "colab": {
          "base_uri": "https://localhost:8080/"
        },
        "outputId": "6ae07ffb-c9e1-40e8-f6a1-f74ed39b663d",
        "id": "V0tN7btL_9M2"
      },
      "execution_count": 328,
      "outputs": [
        {
          "output_type": "execute_result",
          "data": {
            "text/plain": [
              "totChol\n",
              "240.0    61\n",
              "220.0    47\n",
              "232.0    47\n",
              "260.0    46\n",
              "210.0    43\n",
              "         ..\n",
              "359.0     1\n",
              "148.0     1\n",
              "355.0     1\n",
              "119.0     1\n",
              "392.0     1\n",
              "Name: count, Length: 242, dtype: int64"
            ]
          },
          "metadata": {},
          "execution_count": 328
        }
      ]
    },
    {
      "cell_type": "code",
      "source": [
        "chd_train['totChol'].isna().sum()"
      ],
      "metadata": {
        "colab": {
          "base_uri": "https://localhost:8080/"
        },
        "id": "EnOVw4gRKHd6",
        "outputId": "3d37e209-b5d7-4fe0-e5b0-88d4a678574a"
      },
      "execution_count": 329,
      "outputs": [
        {
          "output_type": "execute_result",
          "data": {
            "text/plain": [
              "37"
            ]
          },
          "metadata": {},
          "execution_count": 329
        }
      ]
    },
    {
      "cell_type": "code",
      "source": [
        "median_value_chol = chd_train['totChol'].median()\n",
        "\n",
        "# Replace missing values with the median\n",
        "chd_train['totChol'].fillna(median_value_chol, inplace=True)"
      ],
      "metadata": {
        "id": "vlxFjYMZvR1D"
      },
      "execution_count": 330,
      "outputs": []
    },
    {
      "cell_type": "markdown",
      "source": [
        "#####sysBP\n",
        "***********"
      ],
      "metadata": {
        "id": "fcjNRKVG_9M2"
      }
    },
    {
      "cell_type": "markdown",
      "source": [
        "Decision: no na's, no mapping needed"
      ],
      "metadata": {
        "id": "RXzmSqnqTsaU"
      }
    },
    {
      "cell_type": "code",
      "source": [
        "chd_train['sysBP'].value_counts()"
      ],
      "metadata": {
        "colab": {
          "base_uri": "https://localhost:8080/"
        },
        "outputId": "2e267fac-e31b-42ea-e264-e7b947fa8fa1",
        "id": "3yqrniDI_9M2"
      },
      "execution_count": 331,
      "outputs": [
        {
          "output_type": "execute_result",
          "data": {
            "text/plain": [
              "sysBP\n",
              "130.0    70\n",
              "110.0    68\n",
              "120.0    68\n",
              "125.0    66\n",
              "115.0    65\n",
              "         ..\n",
              "185.5     1\n",
              "85.0      1\n",
              "201.0     1\n",
              "295.0     1\n",
              "169.5     1\n",
              "Name: count, Length: 228, dtype: int64"
            ]
          },
          "metadata": {},
          "execution_count": 331
        }
      ]
    },
    {
      "cell_type": "code",
      "source": [
        "chd_train['sysBP'].isna().sum()"
      ],
      "metadata": {
        "colab": {
          "base_uri": "https://localhost:8080/"
        },
        "id": "VTJwZXBOKPFu",
        "outputId": "847dfa76-8124-4e77-9113-42dfbd4e1716"
      },
      "execution_count": 332,
      "outputs": [
        {
          "output_type": "execute_result",
          "data": {
            "text/plain": [
              "0"
            ]
          },
          "metadata": {},
          "execution_count": 332
        }
      ]
    },
    {
      "cell_type": "markdown",
      "source": [
        "#####diaBP\n",
        "**************"
      ],
      "metadata": {
        "id": "Wb_oFA09_9M2"
      }
    },
    {
      "cell_type": "markdown",
      "source": [
        "Decision: no na's, no mapping needed"
      ],
      "metadata": {
        "id": "2s-8xXcFTtfo"
      }
    },
    {
      "cell_type": "code",
      "source": [
        "chd_train['diaBP'].value_counts()"
      ],
      "metadata": {
        "colab": {
          "base_uri": "https://localhost:8080/"
        },
        "outputId": "63fab17a-0727-4cf2-a633-98b60d1fe280",
        "id": "dgyfRJBU_9M2"
      },
      "execution_count": 333,
      "outputs": [
        {
          "output_type": "execute_result",
          "data": {
            "text/plain": [
              "diaBP\n",
              "80.0     190\n",
              "82.0     105\n",
              "81.0      96\n",
              "85.0      96\n",
              "84.0      95\n",
              "        ... \n",
              "54.0       1\n",
              "105.5      1\n",
              "109.5      1\n",
              "129.0      1\n",
              "122.5      1\n",
              "Name: count, Length: 138, dtype: int64"
            ]
          },
          "metadata": {},
          "execution_count": 333
        }
      ]
    },
    {
      "cell_type": "code",
      "source": [
        "chd_train['diaBP'].isna().sum()"
      ],
      "metadata": {
        "colab": {
          "base_uri": "https://localhost:8080/"
        },
        "id": "9gKo3ob_KRze",
        "outputId": "0e1ccdbf-d40b-4eef-a9ad-342fbb849ba7"
      },
      "execution_count": 334,
      "outputs": [
        {
          "output_type": "execute_result",
          "data": {
            "text/plain": [
              "0"
            ]
          },
          "metadata": {},
          "execution_count": 334
        }
      ]
    },
    {
      "cell_type": "markdown",
      "source": [
        "#####BMI\n",
        "************"
      ],
      "metadata": {
        "id": "TD5tbEG2_9M3"
      }
    },
    {
      "cell_type": "markdown",
      "source": [
        "Decision: replace na's with median value"
      ],
      "metadata": {
        "id": "wPnZJ9mbTufh"
      }
    },
    {
      "cell_type": "code",
      "source": [
        "chd_train['BMI'].value_counts()"
      ],
      "metadata": {
        "colab": {
          "base_uri": "https://localhost:8080/"
        },
        "outputId": "284712f8-95fa-4283-c90c-67c995588369",
        "id": "1LqCawpj_9M3"
      },
      "execution_count": 335,
      "outputs": [
        {
          "output_type": "execute_result",
          "data": {
            "text/plain": [
              "BMI\n",
              "23.48    17\n",
              "22.91    15\n",
              "22.54    12\n",
              "23.09    12\n",
              "25.09    11\n",
              "         ..\n",
              "27.71     1\n",
              "23.02     1\n",
              "33.68     1\n",
              "27.67     1\n",
              "26.78     1\n",
              "Name: count, Length: 1213, dtype: int64"
            ]
          },
          "metadata": {},
          "execution_count": 335
        }
      ]
    },
    {
      "cell_type": "code",
      "source": [
        "chd_train['BMI'].isna().sum()"
      ],
      "metadata": {
        "colab": {
          "base_uri": "https://localhost:8080/"
        },
        "id": "ZQcmStlhKT6Q",
        "outputId": "c348a65c-750f-468a-f766-002e8988e88f"
      },
      "execution_count": 336,
      "outputs": [
        {
          "output_type": "execute_result",
          "data": {
            "text/plain": [
              "14"
            ]
          },
          "metadata": {},
          "execution_count": 336
        }
      ]
    },
    {
      "cell_type": "code",
      "source": [
        "median_value_BMI = chd_train['BMI'].median()\n",
        "\n",
        "# Replace missing values with the median\n",
        "chd_train['BMI'].fillna(median_value_BMI, inplace=True)"
      ],
      "metadata": {
        "id": "uQFI-1OivnMQ"
      },
      "execution_count": 337,
      "outputs": []
    },
    {
      "cell_type": "markdown",
      "source": [
        "#####heartRate\n",
        "**********"
      ],
      "metadata": {
        "id": "6m26tcxV_9M3"
      }
    },
    {
      "cell_type": "markdown",
      "source": [
        "Decision: no na's, no mapping needed"
      ],
      "metadata": {
        "id": "EmPtwulfTvbc"
      }
    },
    {
      "cell_type": "code",
      "source": [
        "chd_train['heartRate'].value_counts()"
      ],
      "metadata": {
        "colab": {
          "base_uri": "https://localhost:8080/"
        },
        "outputId": "a29d588e-5f87-4ccb-f6f8-13829c81b2d5",
        "id": "AvgUtXjS_9M3"
      },
      "execution_count": 338,
      "outputs": [
        {
          "output_type": "execute_result",
          "data": {
            "text/plain": [
              "heartRate\n",
              "75     416\n",
              "80     261\n",
              "70     224\n",
              "60     169\n",
              "72     163\n",
              "      ... \n",
              "51       1\n",
              "46       1\n",
              "97       1\n",
              "47       1\n",
              "130      1\n",
              "Name: count, Length: 70, dtype: int64"
            ]
          },
          "metadata": {},
          "execution_count": 338
        }
      ]
    },
    {
      "cell_type": "code",
      "source": [
        "chd_train['heartRate'].isna().sum()"
      ],
      "metadata": {
        "colab": {
          "base_uri": "https://localhost:8080/"
        },
        "id": "8pdYPCDHKWb7",
        "outputId": "0c1c43c7-ef25-4bec-90fc-0c49e156aee3"
      },
      "execution_count": 339,
      "outputs": [
        {
          "output_type": "execute_result",
          "data": {
            "text/plain": [
              "0"
            ]
          },
          "metadata": {},
          "execution_count": 339
        }
      ]
    },
    {
      "cell_type": "markdown",
      "source": [
        "#####glucose\n",
        "************"
      ],
      "metadata": {
        "id": "vEajBXiT_9M3"
      }
    },
    {
      "cell_type": "markdown",
      "source": [
        "Decision: converted na's to median value"
      ],
      "metadata": {
        "id": "MYfJi_y8Tw22"
      }
    },
    {
      "cell_type": "code",
      "source": [
        "chd_train['glucose'].value_counts()"
      ],
      "metadata": {
        "colab": {
          "base_uri": "https://localhost:8080/"
        },
        "outputId": "077906b7-3d44-4419-d368-b632bf4faeac",
        "id": "Wfpy67G6_9M3"
      },
      "execution_count": 340,
      "outputs": [
        {
          "output_type": "execute_result",
          "data": {
            "text/plain": [
              "glucose\n",
              "75.0     138\n",
              "77.0     126\n",
              "73.0     114\n",
              "70.0     112\n",
              "74.0     108\n",
              "        ... \n",
              "119.0      1\n",
              "320.0      1\n",
              "136.0      1\n",
              "210.0      1\n",
              "186.0      1\n",
              "Name: count, Length: 126, dtype: int64"
            ]
          },
          "metadata": {},
          "execution_count": 340
        }
      ]
    },
    {
      "cell_type": "code",
      "source": [
        "chd_train['glucose'].isna().sum()"
      ],
      "metadata": {
        "colab": {
          "base_uri": "https://localhost:8080/"
        },
        "id": "C9nOmOb5KZH2",
        "outputId": "485629a3-e3b1-4cff-df17-d98062134f26"
      },
      "execution_count": 341,
      "outputs": [
        {
          "output_type": "execute_result",
          "data": {
            "text/plain": [
              "277"
            ]
          },
          "metadata": {},
          "execution_count": 341
        }
      ]
    },
    {
      "cell_type": "code",
      "source": [
        "median_value_gluc = chd_train['glucose'].median()\n",
        "\n",
        "# Replace missing values with the median\n",
        "chd_train['glucose'].fillna(median_value_gluc, inplace=True)"
      ],
      "metadata": {
        "id": "1TBiBK18v-RL"
      },
      "execution_count": 342,
      "outputs": []
    },
    {
      "cell_type": "markdown",
      "source": [
        "#####TenYearCHD\n",
        "*************"
      ],
      "metadata": {
        "id": "kWSQOmIc_9M3"
      }
    },
    {
      "cell_type": "markdown",
      "source": [
        "Decision: no na's, mapped one-hot encodings to categorical"
      ],
      "metadata": {
        "id": "kFajwvssTx2G"
      }
    },
    {
      "cell_type": "code",
      "source": [
        "chd_train['TenYearCHD'].value_counts()"
      ],
      "metadata": {
        "colab": {
          "base_uri": "https://localhost:8080/"
        },
        "outputId": "6524303f-ae3e-47f4-be55-8edd1e08bbf2",
        "id": "js6e-K5p_9M4"
      },
      "execution_count": 343,
      "outputs": [
        {
          "output_type": "execute_result",
          "data": {
            "text/plain": [
              "TenYearCHD\n",
              "0    2590\n",
              "1     468\n",
              "Name: count, dtype: int64"
            ]
          },
          "metadata": {},
          "execution_count": 343
        }
      ]
    },
    {
      "cell_type": "code",
      "source": [
        "chd_train['TenYearCHD'].isna().sum()"
      ],
      "metadata": {
        "colab": {
          "base_uri": "https://localhost:8080/"
        },
        "id": "XKXzz60L_6_5",
        "outputId": "b1ec4399-ba85-4a60-9c9d-227253042294"
      },
      "execution_count": 344,
      "outputs": [
        {
          "output_type": "execute_result",
          "data": {
            "text/plain": [
              "0"
            ]
          },
          "metadata": {},
          "execution_count": 344
        }
      ]
    },
    {
      "cell_type": "code",
      "source": [
        "# Map numerical values to categories\n",
        "chd_map = {0: 'no chd', 1: 'chd'}\n",
        "\n",
        "# Create a new column based on the mapping\n",
        "chd_train['chd_category'] = chd_train['TenYearCHD'].map(chd_map)"
      ],
      "metadata": {
        "id": "PwVZMOGQwJBj"
      },
      "execution_count": 345,
      "outputs": []
    },
    {
      "cell_type": "markdown",
      "source": [
        "####Inspection\n",
        "********"
      ],
      "metadata": {
        "id": "XITM8V12wPq5"
      }
    },
    {
      "cell_type": "code",
      "source": [
        "chd_train.head()"
      ],
      "metadata": {
        "colab": {
          "base_uri": "https://localhost:8080/",
          "height": 272
        },
        "id": "qMwj0-TxwR-a",
        "outputId": "831174ec-270e-4882-8bda-032d20d73e19"
      },
      "execution_count": 346,
      "outputs": [
        {
          "output_type": "execute_result",
          "data": {
            "text/plain": [
              "   Unnamed: 0  sex  age  education  currentSmoker  cigsPerDay  BPMeds  \\\n",
              "0        1267    1   58        1.0              0         0.0     0.0   \n",
              "1        1209    0   40        1.0              1        15.0     0.0   \n",
              "2        2050    0   52        1.0              0         0.0     0.0   \n",
              "3        1183    1   38        2.0              1        43.0     0.0   \n",
              "4        3225    0   43        1.0              0         0.0     0.0   \n",
              "\n",
              "   prevalentStroke  prevalentHyp  diabetes  ...  glucose  TenYearCHD  \\\n",
              "0                0             0         0  ...     87.0           1   \n",
              "1                0             0         0  ...     77.0           0   \n",
              "2                0             0         0  ...     78.0           0   \n",
              "3                0             1         0  ...     75.0           0   \n",
              "4                0             0         0  ...     74.0           0   \n",
              "\n",
              "   sex_category  edu_category  smoker_category  BPMeds_category  \\\n",
              "0          male       some HS       no smoking          no meds   \n",
              "1        female       some HS          smoking          no meds   \n",
              "2        female       some HS       no smoking          no meds   \n",
              "3          male        HS/GED          smoking          no meds   \n",
              "4        female       some HS       no smoking          no meds   \n",
              "\n",
              "   stroke_category hyp_category diabetes_category chd_category  \n",
              "0        no stroke       no hyp       no diabetes          chd  \n",
              "1        no stroke       no hyp       no diabetes       no chd  \n",
              "2        no stroke       no hyp       no diabetes       no chd  \n",
              "3        no stroke          hyp       no diabetes       no chd  \n",
              "4        no stroke       no hyp       no diabetes       no chd  \n",
              "\n",
              "[5 rows x 25 columns]"
            ],
            "text/html": [
              "\n",
              "  <div id=\"df-cb81bd6c-1ff1-4b89-a715-4661cf8ae7da\" class=\"colab-df-container\">\n",
              "    <div>\n",
              "<style scoped>\n",
              "    .dataframe tbody tr th:only-of-type {\n",
              "        vertical-align: middle;\n",
              "    }\n",
              "\n",
              "    .dataframe tbody tr th {\n",
              "        vertical-align: top;\n",
              "    }\n",
              "\n",
              "    .dataframe thead th {\n",
              "        text-align: right;\n",
              "    }\n",
              "</style>\n",
              "<table border=\"1\" class=\"dataframe\">\n",
              "  <thead>\n",
              "    <tr style=\"text-align: right;\">\n",
              "      <th></th>\n",
              "      <th>Unnamed: 0</th>\n",
              "      <th>sex</th>\n",
              "      <th>age</th>\n",
              "      <th>education</th>\n",
              "      <th>currentSmoker</th>\n",
              "      <th>cigsPerDay</th>\n",
              "      <th>BPMeds</th>\n",
              "      <th>prevalentStroke</th>\n",
              "      <th>prevalentHyp</th>\n",
              "      <th>diabetes</th>\n",
              "      <th>...</th>\n",
              "      <th>glucose</th>\n",
              "      <th>TenYearCHD</th>\n",
              "      <th>sex_category</th>\n",
              "      <th>edu_category</th>\n",
              "      <th>smoker_category</th>\n",
              "      <th>BPMeds_category</th>\n",
              "      <th>stroke_category</th>\n",
              "      <th>hyp_category</th>\n",
              "      <th>diabetes_category</th>\n",
              "      <th>chd_category</th>\n",
              "    </tr>\n",
              "  </thead>\n",
              "  <tbody>\n",
              "    <tr>\n",
              "      <th>0</th>\n",
              "      <td>1267</td>\n",
              "      <td>1</td>\n",
              "      <td>58</td>\n",
              "      <td>1.0</td>\n",
              "      <td>0</td>\n",
              "      <td>0.0</td>\n",
              "      <td>0.0</td>\n",
              "      <td>0</td>\n",
              "      <td>0</td>\n",
              "      <td>0</td>\n",
              "      <td>...</td>\n",
              "      <td>87.0</td>\n",
              "      <td>1</td>\n",
              "      <td>male</td>\n",
              "      <td>some HS</td>\n",
              "      <td>no smoking</td>\n",
              "      <td>no meds</td>\n",
              "      <td>no stroke</td>\n",
              "      <td>no hyp</td>\n",
              "      <td>no diabetes</td>\n",
              "      <td>chd</td>\n",
              "    </tr>\n",
              "    <tr>\n",
              "      <th>1</th>\n",
              "      <td>1209</td>\n",
              "      <td>0</td>\n",
              "      <td>40</td>\n",
              "      <td>1.0</td>\n",
              "      <td>1</td>\n",
              "      <td>15.0</td>\n",
              "      <td>0.0</td>\n",
              "      <td>0</td>\n",
              "      <td>0</td>\n",
              "      <td>0</td>\n",
              "      <td>...</td>\n",
              "      <td>77.0</td>\n",
              "      <td>0</td>\n",
              "      <td>female</td>\n",
              "      <td>some HS</td>\n",
              "      <td>smoking</td>\n",
              "      <td>no meds</td>\n",
              "      <td>no stroke</td>\n",
              "      <td>no hyp</td>\n",
              "      <td>no diabetes</td>\n",
              "      <td>no chd</td>\n",
              "    </tr>\n",
              "    <tr>\n",
              "      <th>2</th>\n",
              "      <td>2050</td>\n",
              "      <td>0</td>\n",
              "      <td>52</td>\n",
              "      <td>1.0</td>\n",
              "      <td>0</td>\n",
              "      <td>0.0</td>\n",
              "      <td>0.0</td>\n",
              "      <td>0</td>\n",
              "      <td>0</td>\n",
              "      <td>0</td>\n",
              "      <td>...</td>\n",
              "      <td>78.0</td>\n",
              "      <td>0</td>\n",
              "      <td>female</td>\n",
              "      <td>some HS</td>\n",
              "      <td>no smoking</td>\n",
              "      <td>no meds</td>\n",
              "      <td>no stroke</td>\n",
              "      <td>no hyp</td>\n",
              "      <td>no diabetes</td>\n",
              "      <td>no chd</td>\n",
              "    </tr>\n",
              "    <tr>\n",
              "      <th>3</th>\n",
              "      <td>1183</td>\n",
              "      <td>1</td>\n",
              "      <td>38</td>\n",
              "      <td>2.0</td>\n",
              "      <td>1</td>\n",
              "      <td>43.0</td>\n",
              "      <td>0.0</td>\n",
              "      <td>0</td>\n",
              "      <td>1</td>\n",
              "      <td>0</td>\n",
              "      <td>...</td>\n",
              "      <td>75.0</td>\n",
              "      <td>0</td>\n",
              "      <td>male</td>\n",
              "      <td>HS/GED</td>\n",
              "      <td>smoking</td>\n",
              "      <td>no meds</td>\n",
              "      <td>no stroke</td>\n",
              "      <td>hyp</td>\n",
              "      <td>no diabetes</td>\n",
              "      <td>no chd</td>\n",
              "    </tr>\n",
              "    <tr>\n",
              "      <th>4</th>\n",
              "      <td>3225</td>\n",
              "      <td>0</td>\n",
              "      <td>43</td>\n",
              "      <td>1.0</td>\n",
              "      <td>0</td>\n",
              "      <td>0.0</td>\n",
              "      <td>0.0</td>\n",
              "      <td>0</td>\n",
              "      <td>0</td>\n",
              "      <td>0</td>\n",
              "      <td>...</td>\n",
              "      <td>74.0</td>\n",
              "      <td>0</td>\n",
              "      <td>female</td>\n",
              "      <td>some HS</td>\n",
              "      <td>no smoking</td>\n",
              "      <td>no meds</td>\n",
              "      <td>no stroke</td>\n",
              "      <td>no hyp</td>\n",
              "      <td>no diabetes</td>\n",
              "      <td>no chd</td>\n",
              "    </tr>\n",
              "  </tbody>\n",
              "</table>\n",
              "<p>5 rows × 25 columns</p>\n",
              "</div>\n",
              "    <div class=\"colab-df-buttons\">\n",
              "\n",
              "  <div class=\"colab-df-container\">\n",
              "    <button class=\"colab-df-convert\" onclick=\"convertToInteractive('df-cb81bd6c-1ff1-4b89-a715-4661cf8ae7da')\"\n",
              "            title=\"Convert this dataframe to an interactive table.\"\n",
              "            style=\"display:none;\">\n",
              "\n",
              "  <svg xmlns=\"http://www.w3.org/2000/svg\" height=\"24px\" viewBox=\"0 -960 960 960\">\n",
              "    <path d=\"M120-120v-720h720v720H120Zm60-500h600v-160H180v160Zm220 220h160v-160H400v160Zm0 220h160v-160H400v160ZM180-400h160v-160H180v160Zm440 0h160v-160H620v160ZM180-180h160v-160H180v160Zm440 0h160v-160H620v160Z\"/>\n",
              "  </svg>\n",
              "    </button>\n",
              "\n",
              "  <style>\n",
              "    .colab-df-container {\n",
              "      display:flex;\n",
              "      gap: 12px;\n",
              "    }\n",
              "\n",
              "    .colab-df-convert {\n",
              "      background-color: #E8F0FE;\n",
              "      border: none;\n",
              "      border-radius: 50%;\n",
              "      cursor: pointer;\n",
              "      display: none;\n",
              "      fill: #1967D2;\n",
              "      height: 32px;\n",
              "      padding: 0 0 0 0;\n",
              "      width: 32px;\n",
              "    }\n",
              "\n",
              "    .colab-df-convert:hover {\n",
              "      background-color: #E2EBFA;\n",
              "      box-shadow: 0px 1px 2px rgba(60, 64, 67, 0.3), 0px 1px 3px 1px rgba(60, 64, 67, 0.15);\n",
              "      fill: #174EA6;\n",
              "    }\n",
              "\n",
              "    .colab-df-buttons div {\n",
              "      margin-bottom: 4px;\n",
              "    }\n",
              "\n",
              "    [theme=dark] .colab-df-convert {\n",
              "      background-color: #3B4455;\n",
              "      fill: #D2E3FC;\n",
              "    }\n",
              "\n",
              "    [theme=dark] .colab-df-convert:hover {\n",
              "      background-color: #434B5C;\n",
              "      box-shadow: 0px 1px 3px 1px rgba(0, 0, 0, 0.15);\n",
              "      filter: drop-shadow(0px 1px 2px rgba(0, 0, 0, 0.3));\n",
              "      fill: #FFFFFF;\n",
              "    }\n",
              "  </style>\n",
              "\n",
              "    <script>\n",
              "      const buttonEl =\n",
              "        document.querySelector('#df-cb81bd6c-1ff1-4b89-a715-4661cf8ae7da button.colab-df-convert');\n",
              "      buttonEl.style.display =\n",
              "        google.colab.kernel.accessAllowed ? 'block' : 'none';\n",
              "\n",
              "      async function convertToInteractive(key) {\n",
              "        const element = document.querySelector('#df-cb81bd6c-1ff1-4b89-a715-4661cf8ae7da');\n",
              "        const dataTable =\n",
              "          await google.colab.kernel.invokeFunction('convertToInteractive',\n",
              "                                                    [key], {});\n",
              "        if (!dataTable) return;\n",
              "\n",
              "        const docLinkHtml = 'Like what you see? Visit the ' +\n",
              "          '<a target=\"_blank\" href=https://colab.research.google.com/notebooks/data_table.ipynb>data table notebook</a>'\n",
              "          + ' to learn more about interactive tables.';\n",
              "        element.innerHTML = '';\n",
              "        dataTable['output_type'] = 'display_data';\n",
              "        await google.colab.output.renderOutput(dataTable, element);\n",
              "        const docLink = document.createElement('div');\n",
              "        docLink.innerHTML = docLinkHtml;\n",
              "        element.appendChild(docLink);\n",
              "      }\n",
              "    </script>\n",
              "  </div>\n",
              "\n",
              "\n",
              "<div id=\"df-c4611df5-34eb-4bdd-ba5f-1cbecf2bcaab\">\n",
              "  <button class=\"colab-df-quickchart\" onclick=\"quickchart('df-c4611df5-34eb-4bdd-ba5f-1cbecf2bcaab')\"\n",
              "            title=\"Suggest charts\"\n",
              "            style=\"display:none;\">\n",
              "\n",
              "<svg xmlns=\"http://www.w3.org/2000/svg\" height=\"24px\"viewBox=\"0 0 24 24\"\n",
              "     width=\"24px\">\n",
              "    <g>\n",
              "        <path d=\"M19 3H5c-1.1 0-2 .9-2 2v14c0 1.1.9 2 2 2h14c1.1 0 2-.9 2-2V5c0-1.1-.9-2-2-2zM9 17H7v-7h2v7zm4 0h-2V7h2v10zm4 0h-2v-4h2v4z\"/>\n",
              "    </g>\n",
              "</svg>\n",
              "  </button>\n",
              "\n",
              "<style>\n",
              "  .colab-df-quickchart {\n",
              "      --bg-color: #E8F0FE;\n",
              "      --fill-color: #1967D2;\n",
              "      --hover-bg-color: #E2EBFA;\n",
              "      --hover-fill-color: #174EA6;\n",
              "      --disabled-fill-color: #AAA;\n",
              "      --disabled-bg-color: #DDD;\n",
              "  }\n",
              "\n",
              "  [theme=dark] .colab-df-quickchart {\n",
              "      --bg-color: #3B4455;\n",
              "      --fill-color: #D2E3FC;\n",
              "      --hover-bg-color: #434B5C;\n",
              "      --hover-fill-color: #FFFFFF;\n",
              "      --disabled-bg-color: #3B4455;\n",
              "      --disabled-fill-color: #666;\n",
              "  }\n",
              "\n",
              "  .colab-df-quickchart {\n",
              "    background-color: var(--bg-color);\n",
              "    border: none;\n",
              "    border-radius: 50%;\n",
              "    cursor: pointer;\n",
              "    display: none;\n",
              "    fill: var(--fill-color);\n",
              "    height: 32px;\n",
              "    padding: 0;\n",
              "    width: 32px;\n",
              "  }\n",
              "\n",
              "  .colab-df-quickchart:hover {\n",
              "    background-color: var(--hover-bg-color);\n",
              "    box-shadow: 0 1px 2px rgba(60, 64, 67, 0.3), 0 1px 3px 1px rgba(60, 64, 67, 0.15);\n",
              "    fill: var(--button-hover-fill-color);\n",
              "  }\n",
              "\n",
              "  .colab-df-quickchart-complete:disabled,\n",
              "  .colab-df-quickchart-complete:disabled:hover {\n",
              "    background-color: var(--disabled-bg-color);\n",
              "    fill: var(--disabled-fill-color);\n",
              "    box-shadow: none;\n",
              "  }\n",
              "\n",
              "  .colab-df-spinner {\n",
              "    border: 2px solid var(--fill-color);\n",
              "    border-color: transparent;\n",
              "    border-bottom-color: var(--fill-color);\n",
              "    animation:\n",
              "      spin 1s steps(1) infinite;\n",
              "  }\n",
              "\n",
              "  @keyframes spin {\n",
              "    0% {\n",
              "      border-color: transparent;\n",
              "      border-bottom-color: var(--fill-color);\n",
              "      border-left-color: var(--fill-color);\n",
              "    }\n",
              "    20% {\n",
              "      border-color: transparent;\n",
              "      border-left-color: var(--fill-color);\n",
              "      border-top-color: var(--fill-color);\n",
              "    }\n",
              "    30% {\n",
              "      border-color: transparent;\n",
              "      border-left-color: var(--fill-color);\n",
              "      border-top-color: var(--fill-color);\n",
              "      border-right-color: var(--fill-color);\n",
              "    }\n",
              "    40% {\n",
              "      border-color: transparent;\n",
              "      border-right-color: var(--fill-color);\n",
              "      border-top-color: var(--fill-color);\n",
              "    }\n",
              "    60% {\n",
              "      border-color: transparent;\n",
              "      border-right-color: var(--fill-color);\n",
              "    }\n",
              "    80% {\n",
              "      border-color: transparent;\n",
              "      border-right-color: var(--fill-color);\n",
              "      border-bottom-color: var(--fill-color);\n",
              "    }\n",
              "    90% {\n",
              "      border-color: transparent;\n",
              "      border-bottom-color: var(--fill-color);\n",
              "    }\n",
              "  }\n",
              "</style>\n",
              "\n",
              "  <script>\n",
              "    async function quickchart(key) {\n",
              "      const quickchartButtonEl =\n",
              "        document.querySelector('#' + key + ' button');\n",
              "      quickchartButtonEl.disabled = true;  // To prevent multiple clicks.\n",
              "      quickchartButtonEl.classList.add('colab-df-spinner');\n",
              "      try {\n",
              "        const charts = await google.colab.kernel.invokeFunction(\n",
              "            'suggestCharts', [key], {});\n",
              "      } catch (error) {\n",
              "        console.error('Error during call to suggestCharts:', error);\n",
              "      }\n",
              "      quickchartButtonEl.classList.remove('colab-df-spinner');\n",
              "      quickchartButtonEl.classList.add('colab-df-quickchart-complete');\n",
              "    }\n",
              "    (() => {\n",
              "      let quickchartButtonEl =\n",
              "        document.querySelector('#df-c4611df5-34eb-4bdd-ba5f-1cbecf2bcaab button');\n",
              "      quickchartButtonEl.style.display =\n",
              "        google.colab.kernel.accessAllowed ? 'block' : 'none';\n",
              "    })();\n",
              "  </script>\n",
              "</div>\n",
              "    </div>\n",
              "  </div>\n"
            ],
            "application/vnd.google.colaboratory.intrinsic+json": {
              "type": "dataframe",
              "variable_name": "chd_train"
            }
          },
          "metadata": {},
          "execution_count": 346
        }
      ]
    },
    {
      "cell_type": "code",
      "source": [
        "chd_train.shape\n",
        "#originally had 3180 observations"
      ],
      "metadata": {
        "colab": {
          "base_uri": "https://localhost:8080/"
        },
        "id": "EfzROs6HwiSl",
        "outputId": "4d6122ff-c8ac-4164-be29-b966fa0a9278"
      },
      "execution_count": 347,
      "outputs": [
        {
          "output_type": "execute_result",
          "data": {
            "text/plain": [
              "(3058, 25)"
            ]
          },
          "metadata": {},
          "execution_count": 347
        }
      ]
    },
    {
      "cell_type": "code",
      "source": [
        "for each in chd_train.columns:\n",
        "    print(f\"{each}: {chd_train[each].isnull().sum()}\")"
      ],
      "metadata": {
        "colab": {
          "base_uri": "https://localhost:8080/"
        },
        "id": "2_2xiMS3wnZl",
        "outputId": "ed1ea4e5-571a-4d3f-9c9b-2a29d6346707"
      },
      "execution_count": 348,
      "outputs": [
        {
          "output_type": "stream",
          "name": "stdout",
          "text": [
            "Unnamed: 0: 0\n",
            "sex: 0\n",
            "age: 0\n",
            "education: 0\n",
            "currentSmoker: 0\n",
            "cigsPerDay: 0\n",
            "BPMeds: 0\n",
            "prevalentStroke: 0\n",
            "prevalentHyp: 0\n",
            "diabetes: 0\n",
            "totChol: 0\n",
            "sysBP: 0\n",
            "diaBP: 0\n",
            "BMI: 0\n",
            "heartRate: 0\n",
            "glucose: 0\n",
            "TenYearCHD: 0\n",
            "sex_category: 0\n",
            "edu_category: 0\n",
            "smoker_category: 0\n",
            "BPMeds_category: 0\n",
            "stroke_category: 0\n",
            "hyp_category: 0\n",
            "diabetes_category: 0\n",
            "chd_category: 0\n"
          ]
        }
      ]
    },
    {
      "cell_type": "markdown",
      "source": [
        "####Saving new files"
      ],
      "metadata": {
        "id": "RuUj1iQTyxOy"
      }
    },
    {
      "cell_type": "code",
      "source": [
        "# Save cleaned chd_test to a CSV file\n",
        "chd_test.to_csv('clean_chd_test.csv', index=False)\n",
        "\n",
        "# Save cleaned chd_train to a CSV file\n",
        "chd_train.to_csv('clean_chd_train.csv', index=False)"
      ],
      "metadata": {
        "id": "PDZod1D8yw2E"
      },
      "execution_count": 349,
      "outputs": []
    },
    {
      "cell_type": "code",
      "source": [],
      "metadata": {
        "id": "0O45TLYsz0yI"
      },
      "execution_count": null,
      "outputs": []
    }
  ]
}